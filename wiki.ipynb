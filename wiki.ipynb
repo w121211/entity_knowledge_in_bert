{
 "cells": [
  {
   "cell_type": "code",
   "execution_count": 1,
   "metadata": {
    "tags": []
   },
   "outputs": [
    {
     "name": "stdout",
     "output_type": "stream",
     "text": [
      "Collecting mwparserfromhell\n",
      "  Downloading mwparserfromhell-0.5.4.tar.gz (135 kB)\n",
      "\u001b[K     |████████████████████████████████| 135 kB 779 kB/s eta 0:00:01\n",
      "\u001b[?25hBuilding wheels for collected packages: mwparserfromhell\n",
      "  Building wheel for mwparserfromhell (setup.py) ... \u001b[?25ldone\n",
      "\u001b[?25h  Created wheel for mwparserfromhell: filename=mwparserfromhell-0.5.4-cp37-cp37m-linux_x86_64.whl size=72375 sha256=e1454eaa79938dbaa437e53fcdaf56dbbf4d4e7318b1a344c0488842889e0ff1\n",
      "  Stored in directory: /root/.cache/pip/wheels/fb/5e/32/21387964c6802f6f5686369fa9abd9eda040d5ef762fe9ca8c\n",
      "Successfully built mwparserfromhell\n",
      "Installing collected packages: mwparserfromhell\n",
      "Successfully installed mwparserfromhell-0.5.4\n"
     ]
    }
   ],
   "source": [
    "# !pip install sparqlwrapper\n",
    "# !pip install wikidataintegrator\n",
    "# !pip install --upgrade --force-reinstall git+https://github.com/vi3k6i5/flashtext.git\n",
    "# !pip install rdflib\n",
    "# !pip install requests_cache\n",
    "# !conda install -y -c ranaroussi yfinance\n",
    "# !pip install lxml\n",
    "# !pip install wikitextparser\n",
    "!pip install mwparserfromhell"
   ]
  },
  {
   "cell_type": "markdown",
   "metadata": {},
   "source": [
    "# wiki-data\n",
    "\n",
    "wiki-data api  \n",
    "https://query.wikidata.org/  \n",
    "https://sqid.toolforge.org/#/view?id=P452  \n",
    "\n",
    "https://www.wikidata.org/w/api.php?action=wbgetclaims&entity=Q66&format=jsonfm   \n",
    "https://www.wikidata.org/w/api.php?action=wbgetentities&ids=Q66&format=jsonfm \n",
    "\n",
    "```sparql\n",
    "# 列items有ticker property\n",
    "SELECT ?item ?itemLabel ?value ?valueLabel\n",
    "WHERE \n",
    "{\n",
    "  # wdt:P249 (ticker symbol)\n",
    "  ?item wdt:P249 ?value\n",
    "  SERVICE wikibase:label { bd:serviceParam wikibase:language \"[AUTO_LANGUAGE],en\". }\n",
    "}\n",
    "LIMIT 10\n",
    "\n",
    "#\n",
    "?horse wdt:P31/wdt:P279* wd:Q726 .\n",
    " wd:Q180816\t\n",
    "```\n",
    "\n",
    "# Wiki\n",
    "\n",
    "wiki-page api  \n",
    "https://en.wikipedia.org/wiki/Special:ApiSandbox#action=query&prop=revisions&titles=Pet_door&rvslots=*&rvprop=content&formatversion=2\n",
    "\n",
    "Query wiki-page  \n",
    "https://en.wikipedia.org/w/api.php?format=json&action=query&prop=extracts&exintro&explaintext&redirects=1&pageids=21721040\n",
    "\n",
    "用wikidata-id找對應的wikipage  \n",
    "https://www.wikidata.org/w/api.php?action=wbgetentities&format=xml&props=sitelinks&ids=Q19675&sitefilter=frwiki\n"
   ]
  },
  {
   "cell_type": "code",
   "execution_count": 15,
   "metadata": {},
   "outputs": [
    {
     "name": "stdout",
     "output_type": "stream",
     "text": [
      "/workspace/entity_knowledge_in_bert\n"
     ]
    },
    {
     "data": {
      "text/plain": [
       "'Self-driving_car'"
      ]
     },
     "execution_count": 15,
     "metadata": {},
     "output_type": "execute_result"
    }
   ],
   "source": [
    "# 從具有company屬性的節點開始，抓5層mentions\n",
    "\n",
    "# 取得上市公司entities\n",
    "#  方法1：掃過整個wikipedia-dump，找出具有company屬性的entities\n",
    "#  方法2（採用）：query wikidata找company屬性的entities\n",
    "\n",
    "# 取得跟公司關聯的mentions（n階層）\n",
    "# 掃wikipedia-dump，從company的wiki-page開始抓裡面的mentions\n",
    "#  將新加入的mentions設為next_entities，重複抓取n次（=爬n層）\n",
    "\n",
    "%cd /workspace/entity_knowledge_in_bert\n",
    "import requests\n",
    "import requests_cache\n",
    "requests_cache.install_cache('cache')\n",
    "\n",
    "j = requests.get(\"https://www.wikidata.org/w/api.php?action=wbgetentities&format=json&props=sitelinks&ids=Q741490\").json()\n",
    "a = j['entities']['Q741490']['sitelinks']['enwiki']['title'].replace(' ', '_')\n",
    "a"
   ]
  },
  {
   "cell_type": "code",
   "execution_count": 1,
   "metadata": {},
   "outputs": [
    {
     "data": {
      "text/plain": [
       "True"
      ]
     },
     "execution_count": 1,
     "metadata": {},
     "output_type": "execute_result"
    }
   ],
   "source": [
    "1 in (1,2)"
   ]
  },
  {
   "cell_type": "code",
   "execution_count": null,
   "metadata": {},
   "outputs": [],
   "source": [
    "# 確認爬出來的entities\n",
    "#  先確認一下entities的內容，是否足夠滿足#tag需求（ie足夠豐富、多元）\n",
    "#  假如不夠，可考慮採關鍵字方式與wiki-entity-dictionary做對照\n",
    "\n",
    "# 用flashtext從news-corpus中抓bags\n",
    "#  sentence-bag: 同時出現在1句子中的entities\n",
    "#  paragraph-bag: 同時出現在1段落中的entities\n",
    "#  sentence-coocuur-dict\n",
    "#  paragraph-coocuur-dict\n",
    "#  freq-daily-count-dict\n"
   ]
  },
  {
   "cell_type": "code",
   "execution_count": 8,
   "metadata": {},
   "outputs": [
    {
     "ename": "Exception",
     "evalue": "File require but not provided: /workspace/entity_knowledge_in_bert/app/downloads/redirects_lang=en.ttl.bz2",
     "output_type": "error",
     "traceback": [
      "\u001b[0;31m---------------------------------------------------------------------------\u001b[0m",
      "\u001b[0;31mException\u001b[0m                                 Traceback (most recent call last)",
      "\u001b[0;32m<ipython-input-8-206702b75c23>\u001b[0m in \u001b[0;36m<module>\u001b[0;34m\u001b[0m\n\u001b[1;32m     10\u001b[0m     \u001b[0mp\u001b[0m \u001b[0;34m=\u001b[0m \u001b[0mos\u001b[0m\u001b[0;34m.\u001b[0m\u001b[0mpath\u001b[0m\u001b[0;34m.\u001b[0m\u001b[0mjoin\u001b[0m\u001b[0;34m(\u001b[0m\u001b[0mfolder\u001b[0m\u001b[0;34m,\u001b[0m \u001b[0mf\u001b[0m\u001b[0;34m)\u001b[0m\u001b[0;34m\u001b[0m\u001b[0;34m\u001b[0m\u001b[0m\n\u001b[1;32m     11\u001b[0m     \u001b[0;32mif\u001b[0m \u001b[0;32mnot\u001b[0m \u001b[0mos\u001b[0m\u001b[0;34m.\u001b[0m\u001b[0mpath\u001b[0m\u001b[0;34m.\u001b[0m\u001b[0misfile\u001b[0m\u001b[0;34m(\u001b[0m\u001b[0mp\u001b[0m\u001b[0;34m)\u001b[0m\u001b[0;34m:\u001b[0m\u001b[0;34m\u001b[0m\u001b[0;34m\u001b[0m\u001b[0m\n\u001b[0;32m---> 12\u001b[0;31m         \u001b[0;32mraise\u001b[0m \u001b[0mException\u001b[0m\u001b[0;34m(\u001b[0m\u001b[0;34mf\"File require but not provided: {p}\"\u001b[0m\u001b[0;34m)\u001b[0m\u001b[0;34m\u001b[0m\u001b[0;34m\u001b[0m\u001b[0m\n\u001b[0m\u001b[1;32m     13\u001b[0m \u001b[0;34m\u001b[0m\u001b[0m\n",
      "\u001b[0;31mException\u001b[0m: File require but not provided: /workspace/entity_knowledge_in_bert/app/downloads/redirects_lang=en.ttl.bz2"
     ]
    }
   ],
   "source": [
    "import os\n",
    "\n",
    "folder = \"/workspace/entity_knowledge_in_bert/app/downloads\"\n",
    "require_files = (\n",
    "    \"infobox-properties_lang=en.ttl.bz2\",\n",
    "    \"commons-sameas-links_lang=en.ttl.bz2\",\n",
    "    \"redirects_lang=en.ttl.bz2\",\n",
    "    \"page_ids_en.ttl.bz2\",)\n",
    "for f in require_files:\n",
    "    p = os.path.join(folder, f)\n",
    "    if not os.path.isfile(p):\n",
    "        raise Exception(f\"Require file but not exist: {p}\")"
   ]
  },
  {
   "cell_type": "code",
   "execution_count": 62,
   "metadata": {},
   "outputs": [
    {
     "data": {
      "text/plain": [
       "True"
      ]
     },
     "execution_count": 62,
     "metadata": {},
     "output_type": "execute_result"
    }
   ],
   "source": [
    "\"aa\" in \"aaa\""
   ]
  },
  {
   "cell_type": "code",
   "execution_count": 2,
   "metadata": {},
   "outputs": [
    {
     "name": "stdout",
     "output_type": "stream",
     "text": [
      "{\"template\":[\"Template:Lang-ar\",\"Template:Fertile Crescent myth (Arabian)\",\"Template:Pre-Islamic Arabian deities\",\"Template:Sidebar\",\"Template:Center\",\"Template:Flatlist\",\"Template:Columns-list\",\"Template:Div col\",\"Template:Column-width\",\"Template:Main other\",\"Template:Small\",\"Template:Reflist\",\"Template:Cite book\",\"Template:Commons category\",\"Template:Sister project\",\"Template:Side box\",\"Template:Replace\",\"Template:Pre-Islamic Arabia\",\"Template:Navbox\",\"Template:MEast-myth-stub\",\"Template:Asbox\",\"Module:Lang\",\"Module:No globals\",\"Module:Arguments\",\"Module:Unicode data\",\"Module:Yesno\",\"Module:Language\\/name\\/data\",\"Module:Language\\/data\\/iana languages\",\"Module:Language\\/data\\/ISO 639-3\",\"Module:Language\\/data\\/wp languages\",\"Module:Language\\/data\\/iana scripts\",\"Module:Language\\/data\\/iana regions\",\"Module:Language\\/data\\/iana variants\",\"Module:Language\\/data\\/iana suppressed scripts\",\"Module:Lang\\/ISO 639 synonyms\",\"Module:Lang\\/data\",\"Module:Sidebar\",\"Module:Navbar\",\"Module:Check for unknown parameters\",\"Module:Citation\\/CS1\",\"Module:Citation\\/CS1\\/Configuration\",\"Module:Citation\\/CS1\\/Whitelist\",\"Module:Citation\\/CS1\\/Utilities\",\"Module:Citation\\/CS1\\/Date validation\",\"Module:Citation\\/CS1\\/Identifiers\",\"Module:Citation\\/CS1\\/COinS\",\"Module:Citation\\/CS1\\/styles.css\",\"Module:Side box\",\"Module:String\",\"Module:WikidataIB\",\"Module:WikidataIB\\/nolinks\",\"Module:WikidataIB\\/titleformats\",\"Module:Navbox\",\"Module:Asbox\",\"Module:Buffer\",\"Dushara\"],\"content_model\":\"wikitext\",\"opening_text\":\"Dushara, also transliterated as Dusares, is a pre-Islamic Arabian god worshipped by the Nabataeans at Petra and Madain Saleh (of which city he was the patron).\",\"wiki\":\"enwiki\",\"auxiliary_text\":[\"Part of the myth series on Religions of the ancient Near East Anatolia Arabia Canaan Egypt Iran Mesopotamia Syria (Ebla\\u00b7Hurrian) Pre-Islamic Arabian deities 'Amm A'ra Abgal Allah Al-Lat Al-Qaum Almaqah Anbay Atarsamain Athtar Basamum Dhu l-Khalasa Dushara Haukim Hubal Is\\u0101f and N\\u0101'ila Manaf Man\\u0101t Nasr Nuha Quzah Ruda Sa'd Shams, Samas Syn Suwa' Ta'lab Theandrios al-\\u2018Uzz\\u00e1 Wadd Ya'uq Yagh\\u016bth Yatha Arabian deities of foreign origin Aglibol (Palmyrene) Astarte Atargatis (Syrian) Baalshamin (Canaanite and Palmyrene) B\\u0113l (Palmyrene) Bes (Egypt) \\u0112l, Il\\u0101h (NW Semitic) Inanna\\/Ishtar Malakbel (Palmyrene) Nab\\u016b, Nebo Nergal Yarhibol (Palmyrene) v t e\",\"Wikimedia Commons has media related to Dushara.\",\"This article relating to a myth or legend from the ancient Middle East is a stub. You can help Wikipedia by expanding it. v t e\",\"Dushara\"],\"language\":\"en\",\"title\":\"Dushara\",\"text\":\"Dushara, also transliterated as Dusares, is a pre-Islamic Arabian god worshipped by the Nabataeans at Petra and Madain Saleh (of which city he was the patron). Dushara is known first from epigraphic Nabataean sources who invariably spell the name dwsr\\u02be, the Nabataean script denoting only consonants. He appears in Classical Greek sources \\u0394\\u03bf\\u03c5\\u03c3\\u03ac\\u03c1\\u03b7\\u03c2 (Dous\\u00e1ris) and in Latin as Dusares. The original meaning is disputed, but early Muslim historian Ibn al-Kalbi in his \\\"Book of Idols\\\" explains the name as Dh\\u016b l-\\u0160ar\\u0101 (Arabic: \\u0630\\u0648 \\u0627\\u0644\\u0634\\u0631\\u0649\\u200e), meaning likely \\\"The One from Shara\\\", Shara being a mountain range south-east of the Dead Sea. If this interpretation is correct, Dushara would be more of a title than a proper name, but both the exact form of the name and its interpretation are disputed. In Greek times, he was associated with Zeus because he was the chief of the Nabataean pantheon as well as with Dionysus. A shrine to Dushara has been discovered in the harbour of ancient Puteoli in Italy. The city was an important nexus for trade to the Near East, and it is known to have had a Nabataean presence during the mid 1st century BCE. The cult continued in some capacity well into the Roman period and possibly as late as the Islamic period. This deity was mentioned by the 9th century CE Muslim historian Hisham Ibn Al-Kalbi, who wrote in The Book of Idols (Kitab al-Asn\\u0101m) that: \\\"The Ban\\u016b al-H\\u0101rith ibn-Yashkur ibn-Mubashshir of the \\u02bbAzd had an idol called D\\u016b Shar\\u0101.\\\" Book of Idols Khaabou F., Healey, John (10 May 2001). The religion of the Nabataeans\\u00a0: a conspectus. Leiden. pp.\\u00a085\\u201397. ISBN\\u00a09789004301481. OCLC\\u00a0944920100. Lewis, B. (1991). The Encyclopaedia of Islam. Vol. II: C\\u2013G (New ed.). Leiden: Brill. pp.\\u00a0246\\u2013247. ISBN\\u00a09004070265. OCLC\\u00a0399624. AA.VV. Museo archeologico dei Campi Flegrei - Catalogo generale (vol. 2) - Pozzuoli, Electa Napoli 2008, pag. 60-63 Peterson, Stephanie Bowers, \\\"The Cult of Dushara and the Roman Annexation of Nabataea\\\" (2006). Open Access Dissertations and Theses. Paper 5352. Ibn al-Kalb\\u012b, The Book of Idols, Being a Translation from the Arabic of the Kit\\u0101b al-Asn\\u0101m. Tr. and comm. Nabih Amin Faris (Princeton, Princeton University Press, 1952). Healey, John F., The Religion of the Nabataeans: A Conspectus (Leiden, Brill, 2001) (Religions in the Graeco-Roman World, 136). el-Khouri, Lamia; Johnson, David, \\\"A New Nabataean Inscription from Wadi Mataha, Petra,\\\" Palestine Exploration Quarterly, 137,2 (2005), 169\\u2013174. Nabataean religion Kitab al-Asnam in the original Arabic (description on p.\\u00a05) Dhushara The Meaning of the Name \\\"Solving the Enigma of Petra and the Nabataeans\\\" Biblical Archaeology Review\",\"defaultsort\":false,\"timestamp\":\"2020-03-31T03:19:12Z\",\"redirect\":[{\"namespace\":0,\"title\":\"Dhu-shara\"},{\"namespace\":0,\"title\":\"Dusharra\"},{\"namespace\":0,\"title\":\"Dusharres\"},{\"namespace\":0,\"title\":\"Dhushara\"},{\"namespace\":0,\"title\":\"Dusares\"},{\"namespace\":0,\"title\":\"Dhu'l-Shara\"}],\"wikibase_item\":\"Q1267598\",\"heading\":[\"Etymology\",\"Worship\",\"Bibliography\"],\"source_text\":\"[[Image:Dhushara.JPG|thumb|Dushara]]\\n'''Dushara''', also transliterated as '''Dusares''', is a [[Religion in pre-Islamic Arabia|pre-Islamic Arabian]] [[List of pre-Islamic Arabian deities|god]] worshipped by the [[Nabataeans]] at [[Petra]] and [[Madain Saleh]] (of which city he was the patron).\\n\\n== Etymology ==\\nDushara is known first from [[Epigraphy|epigraphic]] Nabataean sources who invariably spell the name ''dwsr\\u02be'', the [[Nabataean alphabet|Nabataean script]] denoting only consonants. He appears in Classical Greek sources \\u0394\\u03bf\\u03c5\\u03c3\\u03ac\\u03c1\\u03b7\\u03c2 (''Dous\\u00e1ris'') and in Latin as ''Dusares''. The original meaning is disputed, but early Muslim historian [[Hisham ibn al-Kalbi|Ibn al-Kalbi]] in his \\\"[[Book of Idols]]\\\" explains the name as ''Dh\\u016b l-\\u0160ar\\u0101'' ({{lang-ar|\\u0630\\u0648 \\u0627\\u0644\\u0634\\u0631\\u0649}}), meaning likely \\\"The One from Shara\\\", Shara being a mountain range south-east of the [[Dead Sea]]. If this interpretation is correct, ''Dushara'' would be more of a title than a proper name, but both the exact form of the name and its interpretation are disputed.<ref>{{Cite book|title=The religion of the Nabataeans : a conspectus|last=F.|first=Healey, John|date = 10 May 2001|publisher=|isbn=9789004301481|location=Leiden|pages=85\\u201397|oclc=944920100}}<\\/ref><ref>{{Cite book|title=The Encyclopaedia of Islam. Vol. II: C\\u2013G|last=Lewis|first=B.|publisher=Brill|year=1991|isbn=9004070265|edition= New|location=Leiden|pages=246\\u2013247|oclc=399624}}<\\/ref>\\n\\n== Worship ==\\n{{Fertile Crescent myth (Arabian)}}\\nIn Greek times, he was associated with [[Zeus]] because he was the chief of the Nabataean pantheon as well as with [[Dionysus]].\\n\\nA shrine to Dushara has been discovered in the [[harbour]] of [[Pozzuoli#History|ancient Puteoli]] in Italy. The city was an important nexus for trade to the Near East, and it is known to have had a Nabataean presence during the mid 1st century BCE.<ref>AA.VV. Museo archeologico dei Campi Flegrei - Catalogo generale (vol. 2) - Pozzuoli, Electa Napoli 2008, pag. 60-63<\\/ref> The cult continued in some capacity well into the Roman period and possibly as late as the Islamic period.<ref>Peterson, Stephanie Bowers, \\\"The Cult of Dushara and the Roman Annexation of Nabataea\\\" (2006). Open Access Dissertations and Theses. Paper 5352.<\\/ref>\\n\\nThis deity was mentioned by the 9th century CE Muslim historian [[Hisham Ibn Al-Kalbi]], who wrote in ''The Book of Idols'' (''Kitab al-Asn\\u0101m'') that: \\\"The Ban\\u016b al-H\\u0101rith ibn-Yashkur ibn-Mubashshir of the \\u02bbAzd had an idol called D\\u016b Shar\\u0101.\\\"\\n\\n==See also==\\n* [[Book of Idols]]\\n* [[Khaabou]]\\n\\n==References==\\n{{reflist}}\\n\\n==Bibliography==\\n* Ibn al-Kalb\\u012b, ''The Book of Idols, Being a Translation from the Arabic of the Kit\\u0101b al-Asn\\u0101m''. Tr. and comm. Nabih Amin Faris (Princeton, Princeton University Press, 1952).\\n* Healey, John F., ''The Religion of the Nabataeans: A Conspectus'' (Leiden, Brill, 2001) (Religions in the Graeco-Roman World, 136).\\n* el-Khouri, Lamia; Johnson, David, \\\"A New Nabataean Inscription from Wadi Mataha, Petra,\\\" ''Palestine Exploration Quarterly'', 137,2 (2005), 169\\u2013174.\\n\\n==External links==\\n{{Commons category|Dushara}}\\n*[http:\\/\\/nabataea.net\\/gods.html Nabataean religion]\\n*[https:\\/\\/web.archive.org\\/web\\/20061222203158\\/http:\\/\\/www.alwaraq.com\\/index2.htm?i=137&page=1 Kitab al-Asnam] in the original Arabic (description on p.&nbsp;5)\\n*[http:\\/\\/www.dhushara.com\\/dhu\\/dhuname.htm Dhushara] The Meaning of the Name\\n*[https:\\/\\/web.archive.org\\/web\\/20090816192721\\/http:\\/\\/www.bib-arch.org\\/e-features\\/petra.asp \\\"Solving the Enigma of Petra and the Nabataeans\\\"] Biblical Archaeology Review\\n\\n{{Pre-Islamic Arabia}}\\n\\n[[Category:Nabataea]]\\n[[Category:Arabian gods]]\\n\\n\\n{{MEast-myth-stub}}\",\"version_type\":\"external\",\"coordinates\":[],\"version\":948273189,\"external_link\":[\"\\/\\/www.worldcat.org\\/oclc\\/944920100\",\"\\/\\/www.worldcat.org\\/oclc\\/399624\",\"http:\\/\\/nabataea.net\\/gods.html\",\"https:\\/\\/web.archive.org\\/web\\/20061222203158\\/http:\\/\\/www.alwaraq.com\\/index2.htm?i=137&page=1\",\"http:\\/\\/www.dhushara.com\\/dhu\\/dhuname.htm\",\"https:\\/\\/web.archive.org\\/web\\/20090816192721\\/http:\\/\\/www.bib-arch.org\\/e-features\\/petra.asp\"],\"namespace_text\":\"\",\"namespace\":0,\"text_bytes\":3666,\"incoming_links\":189,\"category\":[\"Articles containing Arabic-language text\",\"Commons category link is on Wikidata\",\"Nabataea\",\"Arabian gods\",\"All stub articles\",\"Middle East mythology stubs\"],\"outgoing_link\":[\"Template:Pre-Islamic_Arabian_deities\",\"Template:Pre-Islamic_Arabia\",\"Template:MEast-myth-stub\",\"'Amm\",\"A'ra\",\"Abgal_(god)\",\"Achaemenid_Arabia\",\"Aglibol\",\"Al-Lat\",\"Al-Qaum\",\"Al-\\u2018Uzz\\u00e1\",\"Allah\",\"Almaqah\",\"Anbay\",\"Ancient_Canaanite_religion\",\"Ancient_Egyptian_religion\",\"Ancient_Mesopotamian_religion\",\"Ancient_North_Arabian\",\"Ancient_South_Arabian\",\"Ancient_South_Arabian_art\",\"Arab_polytheism\",\"Arabia_Petraea\",\"Arabic\",\"Arabic_alphabet\",\"Arabic_language\",\"Arabic_poetry\",\"Aramaic\",\"Aramaic_alphabet\",\"Astarte\",\"Atargatis\",\"Atarsamain\",\"Attar_(god)\",\"Baalshamin\",\"Basamum\",\"Bel_(mythology)\",\"Bes\",\"Book_of_Idols\",\"Christianity\",\"Christianity_in_Eastern_Arabia\",\"Dadanitic\",\"Dead_Sea\",\"Demolition_of_Dhul_Khalasa\",\"Dilmun\",\"Dionysus\",\"Eastern_Arabia\",\"Ebla\",\"El_(deity)\",\"Epigraphy\",\"Gerrha\",\"Hadhramaut\",\"Hadramautic_language\",\"Harbour\",\"Hasaitic\",\"Haukim\",\"Hejaz\",\"Hisham_Ibn_Al-Kalbi\",\"Hisham_ibn_al-Kalbi\",\"Hismaic\",\"Hittite_mythology_and_religion\",\"Hubal\",\"Hurrian_religion\",\"ISBN_(identifier)\",\"Inanna\",\"Iranian_religions\",\"Is\\u0101f_and_N\\u0101'ila\",\"Jahiliyyah\",\"Judaism\",\"Khaabou\",\"Kindah\",\"Kingdom_of_Awsan\",\"Lihyan\",\"List_of_pre-Islamic_Arabian_deities\",\"Madain_Saleh\",\"Malakbel\",\"Manaf_(deity)\",\"Man\\u0101t\",\"Marriage_in_pre-Islamic_Arabia\",\"Mecca\",\"Medina\",\"Middle_East\",\"Minaean_language\",\"Minaeans\",\"Mythology\",\"Nabataean_Arabic\",\"Nabataean_alphabet\",\"Nabataean_architecture\",\"Nabataean_art\",\"Nabataeans\",\"Nabu\",\"Nasi'\",\"Nasr_(deity)\",\"Nergal\",\"Nuha_(deity)\",\"OCLC_(identifier)\",\"Old_Arabic\",\"Old_Kingdom_of_Egypt\",\"Old_South_Arabian\",\"Palmyra\",\"Parthia\",\"Petra\",\"Pozzuoli\",\"Pre-Islamic_Arabia\",\"Pre-Islamic_Arabian_calendar\",\"Qatabanian_language\",\"Qedarite\",\"Quzah\",\"Religion_in_pre-Islamic_Arabia\",\"Religions_of_the_ancient_Near_East\",\"Ruda_(deity)\",\"Sa'd_(deity)\",\"Sabaean_language\",\"Sabaeans\",\"Safaitic\",\"Shams_(goddess)\",\"Sin_(mythology)\",\"Slavery_in_pre-Islamic_Arabia\",\"South_Arabia\",\"Suwa'\",\"Syria\",\"Ta'lab\",\"Taymanitic\",\"Thamud\",\"Thamudic\",\"Theandrios\",\"Tribes_of_Arabia\",\"Tylos\",\"Wadd\",\"Women_in_pre-Islamic_Arabia\",\"Ya'uq\",\"Yagh\\u016bth\",\"Yarhibol\",\"Yatha\",\"Zeus\",\"Zoroastrianism\",\"Wikipedia:Stub\",\"Template_talk:MEast-myth-stub\",\"Template_talk:Pre-Islamic_Arabia\",\"Template_talk:Pre-Islamic_Arabian_deities\"],\"popularity_score\":2.69765167238106e-7,\"create_timestamp\":\"2005-04-22T20:53:31Z\",\"ores_articletopics\":[\"Culture.Philosophy and religion|788\",\"History and Society.History|801\"]}\n",
      "\n"
     ]
    }
   ],
   "source": [
    "import json\n",
    "import gzip\n",
    "\n",
    "f = \"/workspace/entity_knowledge_in_bert/app/downloads/cirrus/enwiki-20200907-cirrussearch-content.json.gz\"\n",
    "with gzip.open(f,'r') as f:\n",
    "    for i, ln1 in enumerate(f):\n",
    "#         if i > 2:\n",
    "#             break\n",
    "#         print(j1)\n",
    "        ln2 = next(f)\n",
    "        j1 = json.loads(ln1)\n",
    "        j2 = json.loads(ln2)\n",
    "        try:\n",
    "            if j1[\"index\"][\"_type\"] != \"page\":\n",
    "                print(j1)\n",
    "                break\n",
    "            if len(j2[\"redirect\"]) > 0:\n",
    "                print(ln2.decode())\n",
    "                break\n",
    "            if j2[\"namespace\"] > 0:\n",
    "                print(ln2.decode())\n",
    "                break\n",
    "            if \"Category:\" in j2[\"title\"]:\n",
    "                print(ln2)\n",
    "                break\n",
    "#             if len(j2[\"title\"]) == 0 or j2[\"title\"] == \"Buenos Aires, Argentina\":\n",
    "#                 print(j2)\n",
    "    #             break\n",
    "        except Exception as e:\n",
    "            print(e, j1, j2)\n",
    "#             break\n",
    "#             print(j2)"
   ]
  },
  {
   "cell_type": "code",
   "execution_count": 51,
   "metadata": {},
   "outputs": [
    {
     "name": "stdout",
     "output_type": "stream",
     "text": [
      "[[Buenos Aires, Argentina]]\n",
      "Buenos Aires, Argentina\n",
      "Buenos Aires, Argentina\n",
      "Buenos Aires, Argentina\n"
     ]
    }
   ],
   "source": [
    "import wikitextparser as wtp\n",
    "\n",
    "source_text = \"{{Infobox musical artist\\n| honorific_prefix    = \\n| name                = Pablo Lescano\\n| honorific_suffix    = \\n| image               = Damas gratis 017.jpg\\n| image_size          = 250px\\n| landscape           = <!-- yes, if wide image, otherwise leave blank -->\\n| alt                 = yes\\n| caption             = Pablo Lescano in 2011.  \\n| background          = solo_singer \\n| native_name         = Pablo Sebasti\\u00e1n Lescano\\n| native_name_lang    = \\n| birth_name          = \\n| alias               = Pablito\\n| birth_date          = {{birth date and age|1977|12|8}} \\n| birth_place         = [[Buenos Aires, Argentina]]\\n| origin              = \\n| death_date          = <!-- {{death date and age|YYYY|MM|DD|YYYY|MM|DD}} (death date 1st) -->\\n| death_place         = \\n| genre               = [[Cumbia villera]]\\n| occupation          = musician, composer, singer\\n| instrument          = [[Keyboard instrument|keyboards]] and [[Voice (music)|voice]]\\n| years_active        = 1995 - present \\n| label               = \\n| associated_acts     = [[Damas Gratis]]<br>[[Fabulosos Cadillacs]]<br>[[Miranda!]]\\n| website             =\\n\\n| module              = \\n| module2             = \\n| module3             = \\n}}\\n\\n'''Pablo Lescano''' ([[Buenos Aires, Argentina]], December 8, 1977) is an Argentine singer, composer, keyboardist, and leader of ''[[Cumbia villera]]'' group [[Damas Gratis]] from 2000.<ref>{{cite web |title=Pablo Lescano: el mes\\u00edas de la cumbia |url=http:\\/\\/www.lmneuquen.com.ar\\/noticias\\/2013\\/3\\/15\\/pablo-lescano-el-mesias-de-la-cumbia_180797 |date=March 15, 2013 |access-date=February 12, 2016 |archive-url=https:\\/\\/web.archive.org\\/web\\/20150402121952\\/http:\\/\\/www.lmneuquen.com.ar\\/noticias\\/2013\\/3\\/15\\/pablo-lescano-el-mesias-de-la-cumbia_180797 |archive-date=April 2, 2015 |url-status=dead }}<\\/ref> He is considered by many as the founder of the Cumbia villera sub-genre. \\n\\n== Biography ==\\nBorn in 1977 in ''Villa La Esperanza'' in [[San Isidro, Buenos Aires|San Isidro]], a poor suburb of Buenos Aires, Pablo Lescano made his first musical experience at the age of 13 years on a stolen -angeblich- [[Keyboard instrument|Keyboard]]. As a youth he was active in several local cumbia bands until his 1997 (19) the commercial breakthrough in the band ''Amar Azul'' succeeded both as a [[keyboardist]], on the other hand as a composer of many titles of the band.<ref>[https:\\/\\/www.rollingstone.com.ar\\/583428 El ritmo de la villa] {{Webarchive|url=https:\\/\\/web.archive.org\\/web\\/20150924121544\\/http:\\/\\/www.rollingstone.com.ar\\/583428 |date=2015-09-24 }} Retrieved February 12, 2016<\\/ref>\\n\\nWith the gained royalties to the sellers of Amar Azul; Pablo Lescano set about building his own studio. In 1999 he concretized its plans to create a form of [[cumbia]], which should be the [[voice (music)|voice]] of slum dwellers Argentina. He built around the singer Daniel Lescano, the band [[Flor de Piedra]] on which new paths went in text and sound: The text negotiated by the lives of slum kids, [[Substance abuse|drug use]], [[crime]] and [[sex]], and the music integrated elements of techno and trance in traditional cumbia dance.<ref>[http:\\/\\/www.gratisdamas.com.ar\\/pablo-lescano.php Biograf\\u00eda de Pablo Lescano] Retrieved February 2016<\\/ref>\\n\\nFlor de Piedra was commercially very successful, so Lescano 2000 another project tackled: the band [[Damas Gratis]], where he was also active as a singer except as a producer. Also this band that the ''cumbia villera'' sound revolutionized again was very successful commercially and has won several music awards including the [[Premios Gardel]].<ref>[http:\\/\\/edant.clarin.com\\/diario\\/2002\\/04\\/23\\/c-00611.htm Pablo Lescano, el rey de la jungla]   Retrieved February 12, 2016<\\/ref><ref>[http:\\/\\/vos.lavoz.com.ar\\/mira\\/premios-gardel-2012-todos-ganadores Premios Gardel 2012: todos los ganadores], [[La Voz del Interior]], Retrieved February 12, 2016<\\/ref><ref>[http:\\/\\/elpais.com\\/diario\\/2001\\/04\\/25\\/internacional\\/988149623_850215.html La cumbia combativa encandila a los bonaerenses] Retrieved February 12, 2016<\\/ref>\\n\\nIn 2001, Pablo Lescano two other bands as a producer under contract: ''Jimmy y su Combo Negro'', a parody of the traditional Colombian cumbia, and ''Amar y Yo'' that have popped up mainly with sexist lyrics by [[himself]].<ref>[http:\\/\\/edant.clarin.com\\/diario\\/2003\\/02\\/16\\/c-00811.htm \\\"Es jodido estar en mi lugar\\\". Entrevista con Pablo Lescano, l\\u00edder de Damas Gratis] Retrieved February 12, 2016<\\/ref><ref>[http:\\/\\/www.lanacion.com.ar\\/57300-el-sonido-tropical-que-paso-de-las-bailantas-a-las-discotecas El sonido tropical que pas\\u00f3 de las bailantas a las discotecas] Retrieved February 12, 2016<\\/ref>\\n\\n== Discography ==\\n\\n=== Amar Azul ===\\n*''Dime t\\u00fa\\\" (1996)\\n*\\\"Cumbia Nena\\\" (1997)\\n*\\\"Gracias a vos\\\" (1999)\\n*''Amaremix'' (Remix-Album, 1999)\\n\\n=== Flor de Piedra ===\\n*''La vanda mas loca'' (1999)\\n*''M\\u00e1s duros que nunca'' (2000)\\n\\n=== Damas Gratis ===\\n*''Para los P\\u00edbes'' (2000)\\n*''En vivo... hasta las manos'' (Livealbum, 2000)\\n*''Operaci\\u00f3n Damas Gratis'' (2001)\\n*''100 % Negro Cumbiero'' (Livealbum, 2003)\\n*\\\"En vivo 2004\\\" (Livealbum, 2004)\\n*\\\"Sin Remedio\\\" (2005)\\n*\\\"S\\u00f3lo para entendidos\\\" (2007)\\n*\\\"La gota que rebals\\u00f3 el vaso\\\" (2008)\\n*\\\"10 A\\u00f1os de Oro\\\" (Livealbum, 2009)\\n*\\\"Esquivando el \\u00e9xito\\\" (2011)\\n*\\\"Somos nosotros los buenos\\\" (2016)\\n\\n=== Dany y la Roka ===\\n*''One'' (2001)\\n\\n=== Amar y Yo ===\\n*''Cumbia Gurisa Baila Petisa'' (2001)\\n\\n=== Jimmy y su Combo Negro ===\\n*''Homenaje a Colombia'' (2001)\\n\\n=== Collaborations === \\n*''[[La Luz del Ritmo]]'' - [[Los Fabulosos Cadillacs]] (2008)\\n*''[[On the Rock]]'' - [[Andr\\u00e9s Calamaro]] (2010)\\n\\n== References ==\\n{{reflist}}\\n\\n== External links ==\\n{{URL|http:\\/\\/www.pablitolescano.com\\/}}\\n\\n{{Authority control}}\\n\\n{{DEFAULTSORT:Lescano, Pablo}}\\n[[Category:1977 births]]\\n[[Category:Living people]]\\n[[Category:Argentine composers]]\\n[[Category:Argentine male singers]]\\n[[Category:Argentine keyboardists]]\\n[[Category:Cumbia musicians]]\\n[[Category:Musicians from Buenos Aires]]\\n[[Category:21st-century Argentine singers]]\\n[[Category:21st-century male singers]]\"\n",
    "parsed = wtp.parse(source_text)\n",
    "# wl = wtp.parse('... [[title#fragmet|text]] ...').wikilinks[0]\n",
    "# wl.title = 'new_title'\n",
    "# wl.fragment = 'new_fragmet'\n",
    "# wl.text = 'X'\n",
    "# wl\n",
    "# WikiLink('[[new_title#new_fragmet|X]]')\n",
    "# >>> del wl.text\n",
    "# >>> wl\n",
    "# print(parsed.wikilinks)\n",
    "lk = parsed.wikilinks[0]\n",
    "print(lk)\n",
    "# print(lk.target)\n",
    "print(lk.title)\n",
    "print(lk.text or lk.title)"
   ]
  },
  {
   "cell_type": "code",
   "execution_count": 20,
   "metadata": {},
   "outputs": [
    {
     "name": "stdout",
     "output_type": "stream",
     "text": [
      "/workspace/entity_knowledge_in_bert/app\n",
      "<mediawiki xmlns=\"http://www.mediawiki.org/xml/export-0.10/\" xmlns:xsi=\"http://www.w3.org/2001/XMLSchema-instance\" xsi:schemaLocation=\"http://www.mediawiki.org/xml/export-0.10/ http://www.mediawiki.org/xml/export-0.10.xsd\" version=\"0.10\" xml:lang=\"en\">\n",
      "0\n",
      "<siteinfo>\n",
      "<sitename>Wikipedia</sitename>\n",
      "<dbname>enwiki</dbname>\n",
      "<base>https://en.wikipedia.org/wiki/Main_Page</base>\n",
      "<generator>MediaWiki 1.36.0-wmf.1</generator>\n",
      "<case>first-letter</case>\n",
      "<namespaces>\n",
      "<namespace key=\"-2\" case=\"first-letter\">Media</namespace>\n",
      "<namespace key=\"-1\" case=\"first-letter\">Special</namespace>\n",
      "<namespace key=\"0\" case=\"first-letter\" />\n",
      "<namespace key=\"1\" case=\"first-letter\">Talk</namespace>\n"
     ]
    }
   ],
   "source": [
    "%cd /workspace/entity_knowledge_in_bert/app\n",
    "import bz2\n",
    "\n",
    "f = \"../downloads/enwiki-latest-pages-articles-multistream.xml.bz2\"\n",
    "# f = \"./downloads/page_ids_en.ttl.bz2\"\n",
    "# f = \"./downloads/redirects_lang=en.ttl.bz2\"\n",
    "# f = \"./downloads/mappingbased-objects_lang=en.ttl.bz2\"\n",
    "# f = \"./downloads/infobox-properties_lang=en.ttl.bz2\"\n",
    "# f = \"./downloads/infobox-property-definitions_lang=en.ttl.bz2\"\n",
    "# f = \"./downloads/wikipedia-links_lang=en.ttl.bz2\"\n",
    "# f = \"./downloads/enwiki-latest-pages-articles1.xml-p1p30303.bz2\"\n",
    "# f = \"./downloads/disambiguations_en.ttl.bz2\"\n",
    "# f = \"./downloads/commons-sameas-links_lang=en.ttl.bz2\"  # 資料太少，很難用\n",
    "# pattern = re.compile(\"<http://dbpedia.org/resource/(.*)> <http://dbpedia.org/ontology/wikiPageRedirects> <http://dbpedia.org/resource/(.*)> .\")\n",
    "\n",
    "with bz2.BZ2File(f, \"rb\") as f:\n",
    "    for i, l in enumerate(f):\n",
    "        ln = l.decode().strip()\n",
    "        print(ln)\n",
    "        if i > 10:\n",
    "            break\n",
    "#         break\n",
    "        if i % 100000 == 0:\n",
    "            print(i)\n",
    "#         print(line)\n",
    "        if ln.startswith(\"#\"):\n",
    "            continue\n",
    "        try:\n",
    "            pass\n",
    "#             title, redirect = pattern.findall(ln)[0]\n",
    "#             s, p, o, _ = ln.split(\" \")\n",
    "#             print(s, p, o)\n",
    "        except Exception as e:\n",
    "            print(e)\n",
    "            print(ln)\n",
    "        if \"Autonomous_car\" in s or \"Autonomous_car\" in o:\n",
    "            print(s, p, o)"
   ]
  },
  {
   "cell_type": "code",
   "execution_count": 22,
   "metadata": {},
   "outputs": [
    {
     "data": {
      "text/plain": [
       "'S&P 500 Index*'"
      ]
     },
     "execution_count": 22,
     "metadata": {},
     "output_type": "execute_result"
    }
   ],
   "source": [
    "import html\n",
    "html.unescape('S&amp;P 500 Index*')\n",
    "# urllib.parse.unquote(\"S&amp;P+500+Index\")"
   ]
  },
  {
   "cell_type": "code",
   "execution_count": 13,
   "metadata": {},
   "outputs": [
    {
     "data": {
      "text/plain": [
       "[]"
      ]
     },
     "execution_count": 13,
     "metadata": {},
     "output_type": "execute_result"
    }
   ],
   "source": [
    "# flashtext\n",
    "from flashtext import KeywordProcessor\n",
    "\n",
    "text = \"Car When Sebastian Thrun started working on self driving car at Google in 2007, few people outside of the company took him seriously\"\n",
    "\n",
    "keyword_processor = KeywordProcessor()\n",
    "# keyword_processor.add_keyword('Big Apple', 'New York')\n",
    "# keyword_processor.add_keyword('apple', 'apple watch')\n",
    "# keyword_processor.add_keyword(\"Google\")\n",
    "# keyword_processor.add_keyword(\"Sebastian Thrun\")\n",
    "keyword_processor.add_keyword(\"Self driving (car)\")\n",
    "# keyword_processor.add_keyword(\"cars\", \"car\")\n",
    "# keyword_processor.add_keyword(\"car\", \"car\")\n",
    "\n",
    "# keyword_processor.add_keyword(\"apple \", \"apple-watch\")\n",
    "\n",
    "# keywords_found = keyword_processor.extract_keywords(text, span_info=True, max_cost=1)\n",
    "# keywords_found = keyword_processor.extract_keywords(text, span_info=False, max_cost=1)\n",
    "keywords_found = keyword_processor.extract_keywords(text, span_info=False)\n",
    "keywords_found"
   ]
  },
  {
   "cell_type": "code",
   "execution_count": 2,
   "metadata": {},
   "outputs": [],
   "source": [
    "import sys\n",
    "from SPARQLWrapper import SPARQLWrapper, JSON\n",
    "\n",
    "endpoint_url = \"https://query.wikidata.org/sparql\"\n",
    "\n",
    "def get_results(endpoint_url, query):\n",
    "    user_agent = \"WDQS-example Python/%s.%s\" % (sys.version_info[0], sys.version_info[1])\n",
    "    # TODO adjust user agent; see https://w.wiki/CX6\n",
    "    sparql = SPARQLWrapper(endpoint_url, agent=user_agent)\n",
    "    sparql.setQuery(query)\n",
    "    sparql.setReturnFormat(JSON)\n",
    "    return sparql.query().convert()"
   ]
  },
  {
   "cell_type": "code",
   "execution_count": null,
   "metadata": {},
   "outputs": [],
   "source": [
    "# qeury具有stock exchange（wdt:P414）屬性的items\n",
    "\n",
    "query = \"\"\"\n",
    "SELECT ?item ?itemLabel ?value ?valueLabel\n",
    "WHERE \n",
    "{\n",
    "  ?item wdt:P414 ?value\n",
    "  SERVICE wikibase:label { bd:serviceParam wikibase:language \"[AUTO_LANGUAGE],en\". }\n",
    "}\n",
    "\"\"\"\n",
    "\n",
    "results = get_results(endpoint_url, query)\n",
    "# results[\"results\"][\"bindings\"]\n",
    "\n",
    "# 將results儲存在本機\n",
    "import json\n",
    "with open('data.json', 'w', encoding='utf-8') as f:\n",
    "    json.dump(results, f, ensure_ascii=False)"
   ]
  },
  {
   "cell_type": "code",
   "execution_count": 16,
   "metadata": {},
   "outputs": [],
   "source": [
    "# 取得entity statements（claims）\n",
    "import requests\n",
    "import \n",
    "\n",
    "entity = 'Q66'\n",
    "endpoint = f'https://www.wikidata.org/w/api.php?action=wbgetclaims&entity={entity}&format=json'\n",
    "\n",
    "r = requests.get(endpoint)\n",
    "d = r.json()\n",
    "# d['claims']"
   ]
  },
  {
   "cell_type": "code",
   "execution_count": 5,
   "metadata": {},
   "outputs": [],
   "source": [
    "# 取得entity statements（claims） - 用wikidataintegrator\n",
    "from wikidataintegrator import wdi_core\n",
    "\n",
    "# wdid='Q707530'\n",
    "wdid=\"Q741490\"\n",
    "my_first_wikidata_item = wdi_core.WDItemEngine(wd_item_id=wdid, search_only=True)\n",
    "\n",
    "# to check successful installation and retrieval of the data, you can print the json representation of the item\n",
    "d = my_first_wikidata_item.get_wd_json_representation()"
   ]
  },
  {
   "cell_type": "code",
   "execution_count": 16,
   "metadata": {},
   "outputs": [],
   "source": [
    "# d['claims']['P169'][-1]\n",
    "# d['claims']\n",
    "# ['mainsnak']['datavalue']['value']['id']\n",
    "# my_first_wikidata_item.mrh\n",
    "# d['claims']\n",
    "# del d['claims']\n",
    "# d"
   ]
  },
  {
   "cell_type": "code",
   "execution_count": 21,
   "metadata": {},
   "outputs": [],
   "source": [
    "# %cd /workspace/entity_knowledge_in_bert/wikiextractor-wikimentions\n",
    "# !python WikiExtractor.py --json --filter_disambig_pages --processes 2 --collect_links ../downloads/enwiki-latest-pages-articles1.xml-p1p30303.bz2 -o test"
   ]
  },
  {
   "cell_type": "code",
   "execution_count": 30,
   "metadata": {},
   "outputs": [],
   "source": [
    "%cd /workspace/entity_knowledge_in_bert\n",
    "import io\n",
    "import json\n",
    "import pickle\n",
    "import base64\n",
    "import bz2\n",
    "import json\n",
    "\n",
    "extracted_wiki_file = \"./downloads/enwiki-latest-pages-articles1.xml-p1p30303/AA/wiki_00\"\n",
    "with open(extracted_wiki_file) as f:\n",
    "    for wiki_article in f.readlines():\n",
    "        # each line is a dict with keys ['id', 'url', 'title', 'text', 'internal_links']\n",
    "        wiki_article = json.loads(wiki_article)\n",
    "#         print(wiki_article)\n",
    "#         print(wiki_article['id'] + '\\n')\n",
    "#         print(wiki_article['url'] + '\\n')\n",
    "#         print(wiki_article['title'] + '\\n')\n",
    "#         print(wiki_article['text'])\n",
    "\n",
    "        # The dictionary in 'internal_links' has begin and end char offsets as keys and \n",
    "        # then a tuple of mention (i.e. the link name) and entity (i.e. Wikipedia page \n",
    "        # name). Notice, f.ex. the line with \n",
    "        # \n",
    "        # (2317, 2328) ('Love Affair', 'Love Affair (1994 film)')\n",
    "        # \n",
    "        # where text 'Love Affair' was linking to the Wikipedia page 'Love Affair (1994 film)'\n",
    "\n",
    "        charoffsets_mentions = pickle.loads(base64.b64decode(wiki_article['internal_links'].encode('utf-8')))\n",
    "        mentions = [\n",
    "            (char_start, char_end, mention, wiki_page_name)\n",
    "            for ((char_start, char_end), (mention, wiki_page_name)) in charoffsets_mentions.items()\n",
    "        ]\n",
    "        print(json.dumps(mentions))\n",
    "        break"
   ]
  },
  {
   "cell_type": "code",
   "execution_count": 20,
   "metadata": {},
   "outputs": [
    {
     "name": "stdout",
     "output_type": "stream",
     "text": [
      "/workspace/entity_knowledge_in_bert/app\n",
      "done\n"
     ]
    }
   ],
   "source": [
    "%cd /workspace/entity_knowledge_in_bert/app\n",
    "import base64\n",
    "import glob\n",
    "import json\n",
    "import pickle\n",
    "\n",
    "import es\n",
    "\n",
    "# p = './downloads/enwiki-latest-pages-articles1.xml-p1p30303'\n",
    "\n",
    "# for dirname, dirnames, filenames in os.walk(p):\n",
    "#     # print path to all subdirectories first.\n",
    "# #     for subdirname in dirnames:\n",
    "# #         print(os.path.join(dirname, subdirname))\n",
    "\n",
    "#     # print path to all filenames.\n",
    "#     for filename in filenames:\n",
    "#         print(os.path.join(dirname, filename))\n",
    "\n",
    "        \n",
    "# fs = glob.glob('./downloads/enwiki-latest-pages-articles1.xml-p1p30303/**/*')\n",
    "# len(fs)\n",
    "\n",
    "es.connect()\n",
    "\n",
    "for p in glob.glob('../downloads/enwiki-latest-pages-articles1.xml-p1p30303/**/*'):\n",
    "    with open(p) as f:\n",
    "        for ln in f.readlines():\n",
    "            j = json.loads(ln)\n",
    "            charoffsets_mentions = pickle.loads(base64.b64decode(j['internal_links'].encode('utf-8')))\n",
    "            mentions = [\n",
    "                (char_start, char_end, mention, wiki_page_name)\n",
    "                for ((char_start, char_end), (mention, wiki_page_name)) in charoffsets_mentions.items()\n",
    "            ]\n",
    "            p = es.WikiPage(\n",
    "                title = j[\"title\"],\n",
    "                uid = j[\"id\"],\n",
    "                url = j[\"url\"],\n",
    "                text = j[\"text\"],\n",
    "                mentions=json.dumps(mentions, ensure_ascii=False))\n",
    "            p.save()\n",
    "\n",
    "print('done')"
   ]
  },
  {
   "cell_type": "code",
   "execution_count": 16,
   "metadata": {},
   "outputs": [
    {
     "ename": "SyntaxError",
     "evalue": "invalid syntax (<ipython-input-16-893dd7fde536>, line 10)",
     "output_type": "error",
     "traceback": [
      "\u001b[0;36m  File \u001b[0;32m\"<ipython-input-16-893dd7fde536>\"\u001b[0;36m, line \u001b[0;32m10\u001b[0m\n\u001b[0;31m    filter(lambda e: '|' in e[1],, mentions)\u001b[0m\n\u001b[0m                                 ^\u001b[0m\n\u001b[0;31mSyntaxError\u001b[0m\u001b[0;31m:\u001b[0m invalid syntax\n"
     ]
    }
   ],
   "source": [
    "a = b\"[[Image:Dhushara.JPG|thumb|Dushara]]\\n'''Dushara''', also transliterated as '''Dusares''', is a [[Religion in pre-Islamic Arabia|pre-Islamic Arabian]] [[List of pre-Islamic Arabian deities|god]] worshipped by the [[Nabataeans]] at [[Petra]] and [[Madain Saleh]] (of which city he was the patron).\\n\\n== Etymology ==\\nDushara is known first from [[Epigraphy|epigraphic]] Nabataean sources who invariably spell the name ''dwsr\\u02be'', the [[Nabataean alphabet|Nabataean script]] denoting only consonants. He appears in Classical Greek sources \\u0394\\u03bf\\u03c5\\u03c3\\u03ac\\u03c1\\u03b7\\u03c2 (''Dous\\u00e1ris'') and in Latin as ''Dusares''. The original meaning is disputed, but early Muslim historian [[Hisham ibn al-Kalbi|Ibn al-Kalbi]] in his \\\"[[Book of Idols]]\\\" explains the name as ''Dh\\u016b l-\\u0160ar\\u0101'' ({{lang-ar|\\u0630\\u0648 \\u0627\\u0644\\u0634\\u0631\\u0649}}), meaning likely \\\"The One from Shara\\\", Shara being a mountain range south-east of the [[Dead Sea]]. If this interpretation is correct, ''Dushara'' would be more of a title than a proper name, but both the exact form of the name and its interpretation are disputed.<ref>{{Cite book|title=The religion of the Nabataeans : a conspectus|last=F.|first=Healey, John|date = 10 May 2001|publisher=|isbn=9789004301481|location=Leiden|pages=85\\u201397|oclc=944920100}}<\\/ref><ref>{{Cite book|title=The Encyclopaedia of Islam. Vol. II: C\\u2013G|last=Lewis|first=B.|publisher=Brill|year=1991|isbn=9004070265|edition= New|location=Leiden|pages=246\\u2013247|oclc=399624}}<\\/ref>\\n\\n== Worship ==\\n{{Fertile Crescent myth (Arabian)}}\\nIn Greek times, he was associated with [[Zeus]] because he was the chief of the Nabataean pantheon as well as with [[Dionysus]].\\n\\nA shrine to Dushara has been discovered in the [[harbour]] of [[Pozzuoli#History|ancient Puteoli]] in Italy. The city was an important nexus for trade to the Near East, and it is known to have had a Nabataean presence during the mid 1st century BCE.<ref>AA.VV. Museo archeologico dei Campi Flegrei - Catalogo generale (vol. 2) - Pozzuoli, Electa Napoli 2008, pag. 60-63<\\/ref> The cult continued in some capacity well into the Roman period and possibly as late as the Islamic period.<ref>Peterson, Stephanie Bowers, \\\"The Cult of Dushara and the Roman Annexation of Nabataea\\\" (2006). Open Access Dissertations and Theses. Paper 5352.<\\/ref>\\n\\nThis deity was mentioned by the 9th century CE Muslim historian [[Hisham Ibn Al-Kalbi]], who wrote in ''The Book of Idols'' (''Kitab al-Asn\\u0101m'') that: \\\"The Ban\\u016b al-H\\u0101rith ibn-Yashkur ibn-Mubashshir of the \\u02bbAzd had an idol called D\\u016b Shar\\u0101.\\\"\\n\\n==See also==\\n* [[Book of Idols]]\\n* [[Khaabou]]\\n\\n==References==\\n{{reflist}}\\n\\n==Bibliography==\\n* Ibn al-Kalb\\u012b, ''The Book of Idols, Being a Translation from the Arabic of the Kit\\u0101b al-Asn\\u0101m''. Tr. and comm. Nabih Amin Faris (Princeton, Princeton University Press, 1952).\\n* Healey, John F., ''The Religion of the Nabataeans: A Conspectus'' (Leiden, Brill, 2001) (Religions in the Graeco-Roman World, 136).\\n* el-Khouri, Lamia; Johnson, David, \\\"A New Nabataean Inscription from Wadi Mataha, Petra,\\\" ''Palestine Exploration Quarterly'', 137,2 (2005), 169\\u2013174.\\n\\n==External links==\\n{{Commons category|Dushara}}\\n*[http:\\/\\/nabataea.net\\/gods.html Nabataean religion]\\n*[https:\\/\\/web.archive.org\\/web\\/20061222203158\\/http:\\/\\/www.alwaraq.com\\/index2.htm?i=137&page=1 Kitab al-Asnam] in the original Arabic (description on p.&nbsp;5)\\n*[http:\\/\\/www.dhushara.com\\/dhu\\/dhuname.htm Dhushara] The Meaning of the Name\\n*[https:\\/\\/web.archive.org\\/web\\/20090816192721\\/http:\\/\\/www.bib-arch.org\\/e-features\\/petra.asp \\\"Solving the Enigma of Petra and the Nabataeans\\\"] Biblical Archaeology Review\\n\\n{{Pre-Islamic Arabia}}\\n\\n[[Category:Nabataea]]\\n[[Category:Arabian gods]]\\n\\n\\n{{MEast-myth-stub}}\"\n",
    "import mwparserfromhell\n",
    "wikicode = mwparserfromhell.parse(a)\n",
    "links = wikicode.filter_wikilinks()\n",
    "# links[0].text\n",
    "# links[0].title\n",
    "# links\n",
    "# links[10].text is None\n",
    "mentions = [(k.title, k.text or k.title) for k in links]\n",
    "filter(lambda e: '|' in e[1],, mentions)\n",
    "# mentions"
   ]
  },
  {
   "cell_type": "code",
   "execution_count": 9,
   "metadata": {},
   "outputs": [
    {
     "name": "stdout",
     "output_type": "stream",
     "text": [
      "{'value': 10000, 'relation': 'gte'}\n"
     ]
    },
    {
     "data": {
      "text/plain": [
       "defaultdict(<function __main__.<lambda>()>,\n",
       "            {'a': defaultdict(int, {737073: 9, 737070: 1})})"
      ]
     },
     "execution_count": 9,
     "metadata": {},
     "output_type": "execute_result"
    }
   ],
   "source": [
    "from elasticsearch import Elasticsearch\n",
    "from elasticsearch_dsl import Search\n",
    "from elasticsearch_dsl import Q\n",
    "import json\n",
    "import dateutil\n",
    "from collections import defaultdict\n",
    "\n",
    "client = Elasticsearch([\"es:9200\"])\n",
    "# s = Search(using=client, index=\"wiki-page\")\n",
    "s = Search(using=client, index=\"scraper-page\")\n",
    "q = Q('wildcard', resolved_url=\"*cnbc*\") & Q(\"term\", http_status=200)\n",
    "# q = Q(\"term\", title=\"adobe inc.\")\n",
    "# q = Q(\"match\", title=\"adobe inc\")\n",
    "s = s.filter(q)\n",
    "# s = s.sort('article_published_at')\n",
    "# s = s[101:200]\n",
    "resp = s.execute()\n",
    "# resp = s.params(preserve_order=True).scan()\n",
    "\n",
    "print(resp.hits.total)\n",
    "\n",
    "# for hit in s.filter(q).sort('-article_published_at').scan():\n",
    "# for i, hit in enumerate(s.scan()):\n",
    "# {\"aaa\": {\"2020-01-01\": 3, \"2020-01-04\": 1}, \"bbb\": {...}}\n",
    "\n",
    "count = defaultdict(lambda: defaultdict(int))\n",
    "for i, hit in enumerate(resp):\n",
    "    try:\n",
    "        d = dateutil.parser.parse(hit.article_published_at)\n",
    "        o = d.date().toordinal()\n",
    "        count['a'][o] += 1\n",
    "    except Exception as e:\n",
    "        print(e)\n",
    "    if i > 100:\n",
    "        break\n",
    "# print(dates)\n",
    "count    \n",
    "\n",
    "# for hit in s.query(q).execute()[:10]:\n",
    "#     print(hit)\n",
    "# #     doc = doc.to_dict()\n",
    "#     print(hit.meta.to_dict())\n",
    "#     print(hit.title)\n",
    "#     print(doc[\"article_title\"], doc['article_text'])\n",
    "#     parsed = json.loads(doc[\"parsed\"])\n",
    "#     print(parsed[\"keywords\"])\n",
    "# dict(count)"
   ]
  },
  {
   "cell_type": "code",
   "execution_count": 5,
   "metadata": {},
   "outputs": [
    {
     "data": {
      "text/plain": [
       "datetime.datetime(2019, 1, 14, 0, 0)"
      ]
     },
     "execution_count": 5,
     "metadata": {},
     "output_type": "execute_result"
    }
   ],
   "source": [
    "from dateutil import parser\n",
    "from collections import defaultdict\n",
    "a = defaultdict(lambda: defaultdict(int))\n",
    "a[\"a\"][\"a\"]\n",
    "parser.parse(\"2019-01-14T00:00:00\")"
   ]
  },
  {
   "cell_type": "code",
   "execution_count": 12,
   "metadata": {},
   "outputs": [
    {
     "name": "stdout",
     "output_type": "stream",
     "text": [
      "aa\n",
      "bb\n"
     ]
    }
   ],
   "source": [
    "x = \"aa\" + \"\\n\" + \"bb\"\n",
    "print(x)"
   ]
  },
  {
   "cell_type": "code",
   "execution_count": 22,
   "metadata": {},
   "outputs": [
    {
     "data": {
      "text/plain": [
       "int"
      ]
     },
     "execution_count": 22,
     "metadata": {},
     "output_type": "execute_result"
    }
   ],
   "source": [
    "import datetime\n",
    "import time\n",
    "t = datetime.datetime.now()\n",
    "# t.date().timestamp()\n",
    "# s = time.mktime(t.date().timetuple())\n",
    "# {d: [1,2,3]}\n",
    "# int(s)\n",
    "# datetime.datetime.fromtimestamp(int(s))\n",
    "\n",
    "# datetime.datetime.strptime(t)\n",
    "o = t.date().toordinal()\n",
    "type(o)\n",
    "# t.date().fromordinal(o)"
   ]
  },
  {
   "cell_type": "code",
   "execution_count": 12,
   "metadata": {},
   "outputs": [
    {
     "name": "stdout",
     "output_type": "stream",
     "text": [
      "['Government spending', 'Congress', 'Apparel Retail', 'Business', 'Retail industry', 'Columbia Sportswear Co', 'Donald Trump', 'Politics', 'White House', 'business news']\n",
      "['Transportation', 'Asia News', 'Detroit Auto Show', 'Geely Automobile Holdings Ltd', 'Breaking News: Major', 'business news']\n",
      "['Personal loans', 'Tax planning', 'Government taxation and revenue', 'Investment strategy', 'Personal finance', 'business news']\n"
     ]
    }
   ],
   "source": [
    "from elasticsearch import Elasticsearch\n",
    "from elasticsearch_dsl import Search\n",
    "from elasticsearch_dsl import Q\n",
    "import json\n",
    "\n",
    "client = Elasticsearch(['es:9200'])\n",
    "s = Search(using=client, index=\"scraper-page-202008090431\")\n",
    "q = Q('wildcard', resolved_url=\"cnbc\") & Q(\"term\", http_status=200)\n",
    "\n",
    "for doc in s.execute()[0:3]:\n",
    "    doc = doc.to_dict()\n",
    "#     print(doc[\"article_title\"], doc['article_text'])\n",
    "    parsed = json.loads(doc[\"parsed\"])\n",
    "    print(parsed[\"keywords\"])\n",
    "    "
   ]
  },
  {
   "cell_type": "code",
   "execution_count": 18,
   "metadata": {},
   "outputs": [
    {
     "data": {
      "text/plain": [
       "{'aa': {'aa': 1, 'bb': 1, 'cc': 1},\n",
       " 'bb': {'aa': 1, 'bb': 1, 'cc': 1},\n",
       " 'cc': {'aa': 1, 'bb': 1, 'cc': 1}}"
      ]
     },
     "execution_count": 18,
     "metadata": {},
     "output_type": "execute_result"
    }
   ],
   "source": [
    "# count = {'aa': 1, 'bb': 2, 'cc': 3}\n",
    "bags = [['aa', 'bb'], ['cc']]\n",
    "bags = [e for bag in bags for e in bag]\n",
    "bags = [set(bags)]\n",
    "\n",
    "# cooccur = {'aa': {'aa': 3, 'bb': 2, 'cc': 3}}\n",
    "# for k, v in count.items():\n",
    "#     coocur[k][]\n",
    "# count.keys()\n",
    "\n",
    "cooccur = dict()\n",
    "for bag in bags:\n",
    "    for a in bag:\n",
    "        cooccur[a] = cooccur.get(a, dict())\n",
    "        for b in bag:\n",
    "            cooccur[a][b] = cooccur[a].get(b, 0) + 1\n",
    "cooccur"
   ]
  },
  {
   "cell_type": "code",
   "execution_count": 21,
   "metadata": {},
   "outputs": [
    {
     "name": "stdout",
     "output_type": "stream",
     "text": [
      "1\n",
      "2\n",
      "3\n",
      "5\n"
     ]
    }
   ],
   "source": [
    "a = {1,2,3,5}\n",
    "# 1 in a\n",
    "# a >= b\n",
    "for i in a:\n",
    "    print(i)"
   ]
  },
  {
   "cell_type": "code",
   "execution_count": 13,
   "metadata": {},
   "outputs": [
    {
     "name": "stdout",
     "output_type": "stream",
     "text": [
      "/workspace/entity_knowledge_in_bert/app/app\n",
      "[]\n",
      "{}\n",
      "{}\n",
      "[]\n",
      "{}\n",
      "{}\n",
      "[]\n",
      "{}\n",
      "{}\n",
      "[]\n",
      "{}\n",
      "{}\n",
      "[]\n",
      "{}\n",
      "{}\n",
      "[]\n",
      "{}\n",
      "{}\n",
      "[]\n",
      "{}\n",
      "{}\n",
      "[]\n",
      "{}\n",
      "{}\n",
      "[]\n",
      "{}\n",
      "{}\n",
      "[]\n",
      "{}\n",
      "{}\n"
     ]
    }
   ],
   "source": [
    "%cd /workspace/entity_knowledge_in_bert/app/app\n",
    "import re\n",
    "from elasticsearch import Elasticsearch\n",
    "from elasticsearch_dsl import Search, Q\n",
    "import spacy\n",
    "from flashtext import KeywordProcessor\n",
    "\n",
    "client = Elasticsearch([\"es:9200\"])\n",
    "s = Search(using=client, index=\"scraper-page\")\n",
    "q = Q('wildcard', resolved_url=\"cnbc\") & Q(\"term\", http_status=200)\n",
    "# q = Q(\"term\", title=\"adobe inc.\")\n",
    "\n",
    "nlp = spacy.load('en_core_web_sm')\n",
    "# text = 'My first birthday was great. My 2. was even better.'\n",
    "# [sent.text for sent in nlp(text).sents]\n",
    "\n",
    "\n",
    "kws = {\"software\": [\"computer software\", \"software\", \"installed programs\"], \"San Jose, California\": [\"San Jose, California\", \"San Jose\"], \"Delaware\": [\"Delaware\"], \"Adobe Flash\": [\"Adobe Flash\", \"Flash\"], \"Photoshop\": [\"Photoshop Mix\", \"Photoshop\"]}\n",
    "processor = KeywordProcessor()\n",
    "processor.add_keywords_from_dict(kws)\n",
    "\n",
    "def get_cooccur(bag: str, cooccur = dict()):\n",
    "    for a in bag:\n",
    "        cooccur[a] = cooccur.get(a, dict())\n",
    "        for b in bag:\n",
    "            cooccur[a][b] = cooccur[a].get(b, 0) + 1\n",
    "    return cooccur\n",
    "\n",
    "def count_sent(sent):\n",
    "    kws = processor.extract_keywords(sent)\n",
    "    atk_bags.append(kws)\n",
    "    return get_cooccur(kws)\n",
    "\n",
    "\n",
    "sent_cooccur = {}\n",
    "atk_coocur = {}\n",
    "atk_bags = []\n",
    "# freq_count = \n",
    "\n",
    "done_urls = set()\n",
    "for hit in s.query(q).execute()[:10]:\n",
    "    if hit.resolved_url in done_urls:\n",
    "        continue\n",
    "\n",
    "    sents = []\n",
    "    try:\n",
    "        sents.append(hit.article_title)\n",
    "    except:\n",
    "        pass\n",
    "    try:\n",
    "        sents += [sent.text for sent in nlp(hit.article_text).sents]\n",
    "    except:\n",
    "        pass\n",
    "    \n",
    "    atk_bag = set()\n",
    "    for sent in sents:\n",
    "        bag = processor.extract_keywords(sent, span_info=False)\n",
    "        atk_bag |= set(bag)\n",
    "        sent_coocur = get_cooccur(bag, sent_coocur)\n",
    "    atk_coocur = get_cooccur(atk_bag, atk_coocur)\n",
    "    atk_bags.append(atk_bag)\n",
    "    #     print(hit.article_published_at)\n",
    "\n",
    "    done_urls.add(hit.resolved_url)\n",
    "#     print(hit.resolved_url)\n",
    "#     print(hit.article_parsed)\n",
    "#         print(hit.article_text.split('/n'))\n",
    "#     print(re.split('/n|\\n', hit.article_text))\n",
    "#     sents = [sent.text for sent in nlp(hit.article_text).sents]\n",
    "#     sents = [sent.text for sent in nlp(hit.article_text).sents]\n",
    "#     print(hit.article_text)\n",
    "#     print(sents)\n"
   ]
  },
  {
   "cell_type": "markdown",
   "metadata": {},
   "source": [
    "# Ticker to comapny names\n",
    "\n",
    "Get all tickers\n",
    "* http://markets.cboe.com/us/equities/market_statistics/symbols_traded/?mkt=byx"
   ]
  },
  {
   "cell_type": "code",
   "execution_count": 44,
   "metadata": {},
   "outputs": [],
   "source": [
    "import yfinance as yf\n",
    "\n",
    "msft = yf.Ticker(\"RXT\")\n",
    "# name = msft.info['shortName']  # 'Microsoft Corporation'\n",
    "# msft.info"
   ]
  },
  {
   "cell_type": "code",
   "execution_count": 1,
   "metadata": {},
   "outputs": [
    {
     "name": "stdout",
     "output_type": "stream",
     "text": [
      "/workspace/entity_knowledge_in_bert/app\n"
     ]
    },
    {
     "data": {
      "text/plain": [
       "'pk_286936170c0d42818fd3dc57f76ce0a0'"
      ]
     },
     "execution_count": 1,
     "metadata": {},
     "output_type": "execute_result"
    }
   ],
   "source": [
    "%cd /workspace/entity_knowledge_in_bert/app\n",
    "import os\n",
    "from dotenv import load_dotenv\n",
    "load_dotenv()\n",
    "\n",
    "os.getenv(\"IEXCLOUD_TOKEN\")\n",
    "# DATABASE_PASSWORD = os.getenv(\"DATABASE_PASSWORD\")\n"
   ]
  },
  {
   "cell_type": "code",
   "execution_count": 46,
   "metadata": {},
   "outputs": [
    {
     "data": {
      "text/plain": [
       "{'symbol': 'RXT',\n",
       " 'companyName': 'Rackspace Technology, Inc.',\n",
       " 'exchange': 'NASDAQ',\n",
       " 'industry': 'Data Processing Services',\n",
       " 'website': 'http://www.rackspace.com',\n",
       " 'description': 'Rackspace Technology, Inc. engages in the provision of end-to-end multi-cloud technology services. The firm designs, builds and operates its customers’ cloud environments across technology platforms. It operates through the following segments: Multicloud Services, Apps and Cross Platform, and OpenStack Public Cloud. The company was founded on July 21, 2016 and is headquartered in San Antonio, TX.',\n",
       " 'CEO': 'Kevin M. Jones',\n",
       " 'securityName': 'Rackspace Technology, Inc.',\n",
       " 'issueType': 'cs',\n",
       " 'sector': 'Technology Services',\n",
       " 'primarySicCode': 7374,\n",
       " 'employees': None,\n",
       " 'tags': ['Technology Services', 'Data Processing Services'],\n",
       " 'address': '1 Fanatical Place',\n",
       " 'address2': None,\n",
       " 'state': 'TX',\n",
       " 'city': 'San Antonio',\n",
       " 'zip': '78218',\n",
       " 'country': 'US',\n",
       " 'phone': '1.210.312.4000'}"
      ]
     },
     "execution_count": 46,
     "metadata": {},
     "output_type": "execute_result"
    }
   ],
   "source": [
    "import requests\n",
    "import requests_cache\n",
    "requests_cache.install_cache('cache')\n",
    "\n",
    "stock = \"rxt\"\n",
    "\n",
    "r = requests.get(f\"https://cloud.iexapis.com/stable/stock/{stock}/company\", params=params)\n",
    "j = r.json()\n",
    "j"
   ]
  },
  {
   "cell_type": "code",
   "execution_count": 7,
   "metadata": {},
   "outputs": [
    {
     "name": "stdout",
     "output_type": "stream",
     "text": [
      "Rackspace Rackspace PROPN NNP compound Xxxxx True False\n",
      "Technology Technology PROPN NNP ROOT Xxxxx True False\n",
      ", , PUNCT , punct , False False\n",
      "Inc. Inc. PROPN NNP pobj Xxx. False False\n"
     ]
    },
    {
     "data": {
      "text/plain": [
       "['Rackspace', 'Technology', ',', 'Inc.']"
      ]
     },
     "execution_count": 7,
     "metadata": {},
     "output_type": "execute_result"
    }
   ],
   "source": [
    "import spacy\n",
    "\n",
    "nlp = spacy.load('en_core_web_sm')\n",
    "\n",
    "s = \"Rackspace Technology, Inc.\"\n",
    "\n",
    "\n",
    "# for c in \",.\":\n",
    "#     s = s.replace(c, \"\")\n",
    "# s = s.strip()\n",
    "# s.lower()\n",
    "\n",
    "# all_stopwords = nlp.Defaults.stop_words\n",
    "\n",
    "# text = \"Nick likes to play football, however he is not too fond of tennis.\"\n",
    "doc = nlp(s)\n",
    "# tokens_without_sw= [word for word in text_tokens if not word in all_stopwords]\n",
    "\n",
    "# print(tokens_without_sw)\n",
    "# print(doc)\n",
    "for token in doc:\n",
    "    print(token.text, token.lemma_, token.pos_, token.tag_, token.dep_,\n",
    "            token.shape_, token.is_alpha, token.is_stop)\n",
    "# [tk.text for tk in doc if (not tk.is_stop or not tk.pos_ == \"PUNCT\")]\n"
   ]
  },
  {
   "cell_type": "code",
   "execution_count": 12,
   "metadata": {},
   "outputs": [
    {
     "data": {
      "text/plain": [
       "['Rackspace Technology, Inc.',\n",
       " 'Rackspace Technology Inc',\n",
       " 'rackspace technology']"
      ]
     },
     "execution_count": 12,
     "metadata": {},
     "output_type": "execute_result"
    }
   ],
   "source": [
    "def candidates(term):\n",
    "    cands = [term]\n",
    "\n",
    "    # remove punct\n",
    "    for c in \",.:;\":\n",
    "        term = term.replace(c, \"\")\n",
    "    term = term.strip()\n",
    "    cands.append(term)\n",
    "\n",
    "    # remove extra words\n",
    "    term = term.lower()\n",
    "    for w in (\"inc\", \"limited\", \"ltd\"):\n",
    "        term = term.replace(w, \"\")\n",
    "    term = term.strip()\n",
    "    cands.append(term)\n",
    "\n",
    "    return cands\n",
    "\n",
    "name = 'Rackspace Technology, Inc.'\n",
    "candidates(name)"
   ]
  },
  {
   "cell_type": "code",
   "execution_count": 35,
   "metadata": {},
   "outputs": [
    {
     "data": {
      "text/plain": [
       "'https://en.wikipedia.org/wiki/Microsoft'"
      ]
     },
     "execution_count": 35,
     "metadata": {},
     "output_type": "execute_result"
    }
   ],
   "source": [
    "import requests\n",
    "import requests_cache\n",
    "requests_cache.install_cache('cache')\n",
    "\n",
    "name = 'Rackspace Technology, Inc.'\n",
    "api = \"https://en.wikipedia.org/w/api.php\"\n",
    "params={\n",
    "    \"action\": \"opensearch\",\n",
    "    \"namespace\": \"0\",\n",
    "    \"search\": \"Microsoft Corporation\",\n",
    "    \"limit\": 1,\n",
    "    \"format\": \"json\",\n",
    "    \"redirects\": \"resolve\",\n",
    "#     'action': 'opensearch',\n",
    "#     'search':'Microsoft Corporation',\n",
    "#     'limit': 1,\n",
    "#     'namespace': 0, \n",
    "#     'format': 'json',\n",
    "}\n",
    "\n",
    "# print(api)\n",
    "r = requests.get(api, params=params)\n",
    "j = r.json()\n",
    "url = j[3][0]  # 'https://en.wikipedia.org/wiki/Microsoft'\n",
    "url"
   ]
  },
  {
   "cell_type": "code",
   "execution_count": 27,
   "metadata": {},
   "outputs": [
    {
     "data": {
      "text/plain": [
       "{'took': 502, 'timed_out': False, 'total': 1, 'updated': 1, ...}"
      ]
     },
     "execution_count": 27,
     "metadata": {},
     "output_type": "execute_result"
    }
   ],
   "source": [
    "from elasticsearch_dsl import connections, Document, Date, Keyword, Q, Search, Text, Range, Integer\n",
    "from elasticsearch_dsl import UpdateByQuery\n",
    "from app import es\n",
    "\n",
    "es.connect([\"es:9200\"])\n",
    "es = connections.get_connection()\n",
    "\n",
    " \n",
    "\n",
    "resp"
   ]
  },
  {
   "cell_type": "code",
   "execution_count": 30,
   "metadata": {},
   "outputs": [
    {
     "name": "stdout",
     "output_type": "stream",
     "text": [
      "/workspace/entity_knowledge_in_bert/app\n",
      "National Geographic Society\n",
      "hockey\n"
     ]
    }
   ],
   "source": [
    "%cd /workspace/entity_knowledge_in_bert/app\n",
    "import json\n",
    "from collections import defaultdict\n",
    "import elasticsearch\n",
    "from elasticsearch_dsl import Q\n",
    "from app import es\n",
    "from app import preprocess\n",
    "\n",
    "es.connect([\"es:9200\"])\n",
    "# G = preprocess.get_wikipage_mentions([\"Adobe\"], depth=3)\n",
    "s = es.WikiPage.search()\n",
    "q = Q('term', uid=\"21550\")\n",
    "s = s.query(q)\n",
    "# resp = s.execute()\n",
    "# print(len(resp.hits))\n",
    "# print(resp)\n",
    "\n",
    "for hit in s.execute():\n",
    "    print(hit.meta.id)\n",
    "    print(hit.to_dict()[\"dbpedia\"])\n",
    "#     hit.update()\n",
    "#     doc = es.WikiPage.get(hit.meta.id)\n",
    "#     print(doc.update(title=hit.title+\"*\", _id=hit.title+\"*\"))\n",
    "    break\n",
    "#     print(hit.to_dict())\n",
    "# #     hit.save()\n",
    "# #     print(hit.meta)    \n",
    "# #     print(hit)\n",
    "# #     print(hit.title)\n",
    "#     hit.update(title=hit.title+\"*\", _id=hit.title+\"*\")\n",
    "#     break\n",
    "# # resp = s.execute()\n",
    "# # resp.hits.total()"
   ]
  },
  {
   "cell_type": "code",
   "execution_count": 6,
   "metadata": {},
   "outputs": [
    {
     "ename": "TypeError",
     "evalue": "'dict_keys' object is not subscriptable",
     "output_type": "error",
     "traceback": [
      "\u001b[0;31m---------------------------------------------------------------------------\u001b[0m",
      "\u001b[0;31mTypeError\u001b[0m                                 Traceback (most recent call last)",
      "\u001b[0;32m<ipython-input-6-7cb7b1715996>\u001b[0m in \u001b[0;36m<module>\u001b[0;34m\u001b[0m\n\u001b[1;32m      1\u001b[0m \u001b[0;32mimport\u001b[0m \u001b[0mnetworkx\u001b[0m \u001b[0;32mas\u001b[0m \u001b[0mnx\u001b[0m\u001b[0;34m\u001b[0m\u001b[0;34m\u001b[0m\u001b[0m\n\u001b[1;32m      2\u001b[0m \u001b[0mG\u001b[0m \u001b[0;34m=\u001b[0m \u001b[0mnx\u001b[0m\u001b[0;34m.\u001b[0m\u001b[0mDiGraph\u001b[0m\u001b[0;34m(\u001b[0m\u001b[0mnx\u001b[0m\u001b[0;34m.\u001b[0m\u001b[0mpath_graph\u001b[0m\u001b[0;34m(\u001b[0m\u001b[0;36m4\u001b[0m\u001b[0;34m)\u001b[0m\u001b[0;34m)\u001b[0m\u001b[0;34m\u001b[0m\u001b[0;34m\u001b[0m\u001b[0m\n\u001b[0;32m----> 3\u001b[0;31m \u001b[0mnx\u001b[0m\u001b[0;34m.\u001b[0m\u001b[0mpagerank\u001b[0m\u001b[0;34m(\u001b[0m\u001b[0mG\u001b[0m\u001b[0;34m,\u001b[0m \u001b[0malpha\u001b[0m\u001b[0;34m=\u001b[0m\u001b[0;36m0.9\u001b[0m\u001b[0;34m)\u001b[0m\u001b[0;34m.\u001b[0m\u001b[0mkeys\u001b[0m\u001b[0;34m(\u001b[0m\u001b[0;34m)\u001b[0m\u001b[0;34m[\u001b[0m\u001b[0;34m:\u001b[0m\u001b[0;36m2\u001b[0m\u001b[0;34m]\u001b[0m\u001b[0;34m\u001b[0m\u001b[0;34m\u001b[0m\u001b[0m\n\u001b[0m",
      "\u001b[0;31mTypeError\u001b[0m: 'dict_keys' object is not subscriptable"
     ]
    }
   ],
   "source": [
    "import networkx as nx\n",
    "G = nx.DiGraph(nx.path_graph(4))\n",
    "nx.pagerank(G, alpha=0.9)"
   ]
  },
  {
   "cell_type": "code",
   "execution_count": null,
   "metadata": {},
   "outputs": [],
   "source": [
    "%cd /workspace/entity_knowledge_in_bert/app\n",
    "# !pip install qwikidata\n",
    "import time\n",
    "\n",
    "from qwikidata.entity import WikidataItem\n",
    "from qwikidata.json_dump import WikidataJsonDump\n",
    "from qwikidata.utils import dump_entities_to_json\n",
    "\n",
    "P_OCCUPATION = \"P106\"\n",
    "Q_POLITICIAN = \"Q82955\"\n",
    "\n",
    "def has_occupation_politician(item: WikidataItem, truthy: bool = True) -> bool:\n",
    "    \"\"\"Return True if the Wikidata Item has occupation politician.\"\"\"\n",
    "    if truthy:\n",
    "        claim_group = item.get_truthy_claim_group(P_OCCUPATION)\n",
    "    else:\n",
    "        claim_group = item.get_claim_group(P_OCCUPATION)\n",
    "\n",
    "    occupation_qids = [\n",
    "        claim.mainsnak.datavalue.value[\"id\"]\n",
    "        for claim in claim_group\n",
    "        if claim.mainsnak.snaktype == \"value\"\n",
    "    ]\n",
    "    return Q_POLITICIAN in occupation_qids\n",
    "\n",
    "\n",
    "# create an instance of WikidataJsonDump\n",
    "wjd_dump_path = \"/workspace/entity_knowledge_in_bert/app/downloads/latest-all.json.bz2\"\n",
    "wjd = WikidataJsonDump(wjd_dump_path)\n",
    "\n",
    "# create an iterable of WikidataItem representing politicians\n",
    "politicians = []\n",
    "t1 = time.time()\n",
    "for i, entity_dict in enumerate(wjd):\n",
    "    if entity_dict[\"type\"] == \"item\":\n",
    "        entity = WikidataItem(entity_dict)\n",
    "        if has_occupation_politician(entity):\n",
    "            politicians.append(entity)\n",
    "\n",
    "    if i % 1000 == 0:\n",
    "        t2 = time.time()\n",
    "        dt = t2 - t1\n",
    "        print(\"found {} politicians among {} entities [entities/s: {:.2f}]\".format(len(politicians), ii, ii / dt))\n",
    "\n",
    "    if i > 100:\n",
    "        print(\"searched 100 entities, close\")\n",
    "        break\n",
    "\n",
    "# write the iterable of WikidataItem to disk as JSON\n",
    "out_fname = \"filtered_entities.json\"\n",
    "dump_entities_to_json(politicians, out_fname)\n",
    "wjd_filtered = WikidataJsonDump(out_fname)\n",
    "\n",
    "# load filtered entities and create instances of WikidataItem\n",
    "for ii, entity_dict in enumerate(wjd_filtered):\n",
    "    item = WikidataItem(entity_dict)"
   ]
  },
  {
   "cell_type": "code",
   "execution_count": 1,
   "metadata": {},
   "outputs": [],
   "source": [
    "from qwikidata.entity import WikidataItem\n",
    "from qwikidata.json_dump import WikidataJsonDump\n",
    "from qwikidata.utils import dump_entities_to_json\n",
    "\n",
    "wjd_dump_path = \"/workspace/entity_knowledge_in_bert/app/downloads/latest-all.json.bz2\"\n",
    "wjd = WikidataJsonDump(wjd_dump_path)\n",
    "for i, entity_dict in enumerate(wjd):\n",
    "    entity = WikidataItem(entity_dict)\n",
    "    break"
   ]
  },
  {
   "cell_type": "code",
   "execution_count": 44,
   "metadata": {},
   "outputs": [
    {
     "name": "stdout",
     "output_type": "stream",
     "text": [
      "1\n",
      "P625\n"
     ]
    },
    {
     "data": {
      "text/plain": [
       "True"
      ]
     },
     "execution_count": 44,
     "metadata": {},
     "output_type": "execute_result"
    }
   ],
   "source": [
    "e = entity\n",
    "# claims = e.get_truthy_claim_groups()\n",
    "# len(claims)\n",
    "c = e.get_truthy_claim_group(\"P625\")\n",
    "print(len(c))\n",
    "print(c.property_id)\n",
    "c = e.get_claim_group(\"P625111234\")\n",
    "# len(c)\n",
    "c.property_id == None\n",
    "\n",
    "\n",
    "# # claims[\"P625\"]\n",
    "# e.get_label(lang=\"zh\")\n",
    "# e.get_label(lang=\"zh-hant\") # 繁體\n",
    "# # e.get_description(lang=\"en\")\n",
    "# e.get_enwiki_title()\n"
   ]
  },
  {
   "cell_type": "code",
   "execution_count": 5,
   "metadata": {},
   "outputs": [
    {
     "name": "stdout",
     "output_type": "stream",
     "text": [
      "56873\n"
     ]
    }
   ],
   "source": [
    "import json\n",
    "import pandas as pd\n",
    "\n",
    "# filepath = \"/workspace/entity_knowledge_in_bert/app/outputs/wk_filtered_pagerank_json.json\"\n",
    "filepath = \"/workspace/entity_knowledge_in_bert/app/outputs/Untitled\"\n",
    "\n",
    "with open(filepath, 'r') as f:\n",
    "    j = json.load(f)\n",
    "    print(len(j))\n",
    "\n",
    "vertex_id, wk_title, pagerank = zip(*j)\n",
    "\n",
    "df = pd.DataFrame(\n",
    "    {\"vertex_id\" : vertex_id,\n",
    "     \"wk_title\" : wk_title,\n",
    "     \"pagerank\" : pagerank})\n",
    "df.to_csv('/workspace/entity_knowledge_in_bert/app/outputs/ranks.csv', index=False)\n",
    "\n"
   ]
  },
  {
   "cell_type": "code",
   "execution_count": 1,
   "metadata": {},
   "outputs": [
    {
     "name": "stderr",
     "output_type": "stream",
     "text": [
      "/opt/conda/lib/python3.7/site-packages/graph_tool/draw/cairo_draw.py:39: RuntimeWarning: Error importing cairo. Graph drawing will not work.\n",
      "  warnings.warn(msg, RuntimeWarning)\n",
      "/opt/conda/lib/python3.7/site-packages/graph_tool/draw/cairo_draw.py:39: RuntimeWarning: Error importing cairo. Graph drawing will not work.\n",
      "  warnings.warn(msg, RuntimeWarning)\n",
      "/opt/conda/lib/python3.7/site-packages/graph_tool/all.py:40: RuntimeWarning: Error importing draw module, proceeding nevertheless: No module named 'matplotlib'\n",
      "  warnings.warn(msg, RuntimeWarning)\n"
     ]
    }
   ],
   "source": [
    "import graph_tool.all as gt\n",
    "g = gt.load_graph(\"/workspace/entity_knowledge_in_bert/app/outputs/wk_mentions.graphml.bz2\")"
   ]
  },
  {
   "cell_type": "code",
   "execution_count": 36,
   "metadata": {},
   "outputs": [
    {
     "name": "stdout",
     "output_type": "stream",
     "text": [
      "{<Vertex object with index '8' at 0x7fe07c8225d0>, <Vertex object with index '21' at 0x7fe07c836f30>, <Vertex object with index '23' at 0x7fe07c826bd0>, <Vertex object with index '24' at 0x7fe07c836210>, <Vertex object with index '25' at 0x7fe07c836f90>, <Vertex object with index '26' at 0x7fe07c8306f0>, <Vertex object with index '28' at 0x7fe07c82cab0>, <Vertex object with index '32' at 0x7fe07c82d450>, <Vertex object with index '34' at 0x7fe07c82e630>, <Vertex object with index '39' at 0x7fe07c8bc990>, <Vertex object with index '44' at 0x7fe07c822150>, <Vertex object with index '54' at 0x7fe07c836e70>, <Vertex object with index '61' at 0x7fe07c824b70>, <Vertex object with index '81' at 0x7fe07c822390>, <Vertex object with index '82' at 0x7fe07c8223f0>, <Vertex object with index '84' at 0x7fe07c822450>, <Vertex object with index '90' at 0x7fe07c826150>, <Vertex object with index '92' at 0x7fe07c8220f0>, <Vertex object with index '93' at 0x7fe07c84ea50>, <Vertex object with index '94' at 0x7fe07c831810>, <Vertex object with index '95' at 0x7fe07c8318d0>, <Vertex object with index '98' at 0x7fe07c82d570>, <Vertex object with index '100' at 0x7fe07c82cb70>, <Vertex object with index '130' at 0x7fe07c831c30>, <Vertex object with index '133' at 0x7fe07c832db0>, <Vertex object with index '134' at 0x7fe07c832b10>, <Vertex object with index '135' at 0x7fe07c832990>, <Vertex object with index '139' at 0x7fe07c832f90>, <Vertex object with index '321' at 0x7fe07c82d0f0>, <Vertex object with index '322' at 0x7fe07c830cf0>, <Vertex object with index '490' at 0x7fe07c8229f0>, <Vertex object with index '491' at 0x7fe07c822e70>, <Vertex object with index '492' at 0x7fe07c822270>, <Vertex object with index '493' at 0x7fe07c822210>, <Vertex object with index '494' at 0x7fe07c8221b0>, <Vertex object with index '495' at 0x7fe07c822030>, <Vertex object with index '496' at 0x7fe07c822090>, <Vertex object with index '497' at 0x7fe07c8222d0>, <Vertex object with index '498' at 0x7fe07c822330>, <Vertex object with index '499' at 0x7fe07c822510>, <Vertex object with index '500' at 0x7fe07c822570>, <Vertex object with index '501' at 0x7fe07c822630>, <Vertex object with index '502' at 0x7fe07c822690>, <Vertex object with index '503' at 0x7fe07c8226f0>, <Vertex object with index '504' at 0x7fe07c822750>, <Vertex object with index '505' at 0x7fe07c822810>, <Vertex object with index '506' at 0x7fe07c822870>, <Vertex object with index '507' at 0x7fe07c8228d0>, <Vertex object with index '508' at 0x7fe07c822990>, <Vertex object with index '509' at 0x7fe07c822b70>, <Vertex object with index '510' at 0x7fe07c822bd0>, <Vertex object with index '511' at 0x7fe07c822cf0>, <Vertex object with index '512' at 0x7fe07c822d50>, <Vertex object with index '513' at 0x7fe07c822db0>, <Vertex object with index '514' at 0x7fe07c822ed0>, <Vertex object with index '515' at 0x7fe07c822f30>, <Vertex object with index '516' at 0x7fe07c822f90>, <Vertex object with index '517' at 0x7fe07c822c90>, <Vertex object with index '518' at 0x7fe07c822a50>, <Vertex object with index '519' at 0x7fe07c822ab0>, <Vertex object with index '520' at 0x7fe07c822b10>, <Vertex object with index '521' at 0x7fe07c822c30>, <Vertex object with index '522' at 0x7fe07c822e10>, <Vertex object with index '523' at 0x7fe07c8224b0>, <Vertex object with index '524' at 0x7fe07c822930>, <Vertex object with index '525' at 0x7fe07c8bc630>, <Vertex object with index '526' at 0x7fe07c8bc750>, <Vertex object with index '527' at 0x7fe07c8bce70>, <Vertex object with index '528' at 0x7fe07c8bca50>, <Vertex object with index '529' at 0x7fe07c8bcb10>, <Vertex object with index '530' at 0x7fe0c07a2f30>, <Vertex object with index '531' at 0x7fe0c07a2e70>, <Vertex object with index '532' at 0x7fe0c07612d0>, <Vertex object with index '533' at 0x7fe07c84ef30>, <Vertex object with index '534' at 0x7fe07c84e990>, <Vertex object with index '535' at 0x7fe07c84ee70>, <Vertex object with index '536' at 0x7fe07c84e330>, <Vertex object with index '537' at 0x7fe07c84e630>, <Vertex object with index '538' at 0x7fe07c84e1b0>, <Vertex object with index '539' at 0x7fe07c84ee10>, <Vertex object with index '540' at 0x7fe07c84e270>, <Vertex object with index '541' at 0x7fe07c89ced0>, <Vertex object with index '542' at 0x7fe07c858930>, <Vertex object with index '543' at 0x7fe07c858750>, <Vertex object with index '544' at 0x7fe07c858270>, <Vertex object with index '545' at 0x7fe07c8588d0>, <Vertex object with index '546' at 0x7fe07c880cf0>, <Vertex object with index '547' at 0x7fe07c880c90>, <Vertex object with index '548' at 0x7fe07c880bd0>, <Vertex object with index '549' at 0x7fe07c880f30>, <Vertex object with index '550' at 0x7fe07c80a510>, <Vertex object with index '551' at 0x7fe07c80a330>, <Vertex object with index '552' at 0x7fe07c80a030>, <Vertex object with index '553' at 0x7fe07c80a6f0>, <Vertex object with index '554' at 0x7fe07c80a2d0>, <Vertex object with index '555' at 0x7fe07c80a0f0>, <Vertex object with index '556' at 0x7fe07c80af30>, <Vertex object with index '557' at 0x7fe07c80a150>, <Vertex object with index '558' at 0x7fe07c80a450>, <Vertex object with index '559' at 0x7fe07c80a4b0>, <Vertex object with index '560' at 0x7fe07c833f30>, <Vertex object with index '561' at 0x7fe07c833750>, <Vertex object with index '562' at 0x7fe07c833c30>, <Vertex object with index '563' at 0x7fe07c833f90>, <Vertex object with index '564' at 0x7fe07c833450>, <Vertex object with index '565' at 0x7fe07c8334b0>, <Vertex object with index '566' at 0x7fe07c833810>, <Vertex object with index '567' at 0x7fe07c833990>, <Vertex object with index '568' at 0x7fe07c833270>, <Vertex object with index '569' at 0x7fe07c833510>, <Vertex object with index '570' at 0x7fe07c833ed0>, <Vertex object with index '571' at 0x7fe07c833090>, <Vertex object with index '572' at 0x7fe07c8330f0>, <Vertex object with index '573' at 0x7fe07c833150>, <Vertex object with index '574' at 0x7fe07c8331b0>, <Vertex object with index '575' at 0x7fe07c833210>, <Vertex object with index '576' at 0x7fe07c8332d0>, <Vertex object with index '577' at 0x7fe07c833330>, <Vertex object with index '578' at 0x7fe07c833390>, <Vertex object with index '579' at 0x7fe07c8333f0>, <Vertex object with index '580' at 0x7fe07c833570>, <Vertex object with index '581' at 0x7fe07c8335d0>, <Vertex object with index '582' at 0x7fe07c833630>, <Vertex object with index '583' at 0x7fe07c833690>, <Vertex object with index '584' at 0x7fe07c8336f0>, <Vertex object with index '585' at 0x7fe07c8338d0>, <Vertex object with index '586' at 0x7fe07c833ab0>, <Vertex object with index '587' at 0x7fe07c833b10>, <Vertex object with index '588' at 0x7fe07c833b70>, <Vertex object with index '589' at 0x7fe07c833870>, <Vertex object with index '590' at 0x7fe07c8337b0>, <Vertex object with index '591' at 0x7fe07c8339f0>, <Vertex object with index '592' at 0x7fe07c833930>, <Vertex object with index '593' at 0x7fe07c8b4990>, <Vertex object with index '594' at 0x7fe07c8b47b0>, <Vertex object with index '595' at 0x7fe07c8b4870>, <Vertex object with index '596' at 0x7fe07c8b4570>, <Vertex object with index '597' at 0x7fe07c8b4210>, <Vertex object with index '598' at 0x7fe07c836ed0>, <Vertex object with index '599' at 0x7fe07c836e10>, <Vertex object with index '600' at 0x7fe07c836db0>, <Vertex object with index '601' at 0x7fe07c836d50>, <Vertex object with index '602' at 0x7fe07c836cf0>, <Vertex object with index '603' at 0x7fe07c836c90>, <Vertex object with index '604' at 0x7fe07c836c30>, <Vertex object with index '605' at 0x7fe07c836b70>, <Vertex object with index '606' at 0x7fe07c836b10>, <Vertex object with index '607' at 0x7fe07c836ab0>, <Vertex object with index '608' at 0x7fe07c836a50>, <Vertex object with index '609' at 0x7fe07c8369f0>, <Vertex object with index '610' at 0x7fe07c836990>, <Vertex object with index '611' at 0x7fe07c8368d0>, <Vertex object with index '612' at 0x7fe07c836870>, <Vertex object with index '613' at 0x7fe07c836810>, <Vertex object with index '614' at 0x7fe07c836750>, <Vertex object with index '615' at 0x7fe07c8366f0>, <Vertex object with index '616' at 0x7fe07c836690>, <Vertex object with index '617' at 0x7fe07c836630>, <Vertex object with index '618' at 0x7fe07c8365d0>, <Vertex object with index '619' at 0x7fe07c836570>, <Vertex object with index '620' at 0x7fe07c836510>, <Vertex object with index '621' at 0x7fe07c8364b0>, <Vertex object with index '622' at 0x7fe07c836450>, <Vertex object with index '623' at 0x7fe07c8363f0>, <Vertex object with index '624' at 0x7fe07c836390>, <Vertex object with index '625' at 0x7fe07c836330>, <Vertex object with index '626' at 0x7fe07c8362d0>, <Vertex object with index '627' at 0x7fe07c836270>, <Vertex object with index '628' at 0x7fe07c8361b0>, <Vertex object with index '629' at 0x7fe07c836930>, <Vertex object with index '630' at 0x7fe07c836bd0>, <Vertex object with index '631' at 0x7fe07c8367b0>, <Vertex object with index '632' at 0x7fe07c8240f0>, <Vertex object with index '633' at 0x7fe07c8241b0>, <Vertex object with index '634' at 0x7fe07c824150>, <Vertex object with index '635' at 0x7fe07c8247b0>, <Vertex object with index '636' at 0x7fe07c824870>, <Vertex object with index '637' at 0x7fe07c8248d0>, <Vertex object with index '638' at 0x7fe07c824930>, <Vertex object with index '639' at 0x7fe07c824990>, <Vertex object with index '640' at 0x7fe07c8249f0>, <Vertex object with index '641' at 0x7fe07c824ab0>, <Vertex object with index '642' at 0x7fe07c824b10>, <Vertex object with index '643' at 0x7fe07c824cf0>, <Vertex object with index '644' at 0x7fe07c824e70>, <Vertex object with index '645' at 0x7fe07c824f30>, <Vertex object with index '646' at 0x7fe07c824f90>, <Vertex object with index '647' at 0x7fe07c824a50>, <Vertex object with index '648' at 0x7fe07c824bd0>, <Vertex object with index '649' at 0x7fe07c824ed0>, <Vertex object with index '650' at 0x7fe07c8245d0>, <Vertex object with index '651' at 0x7fe07c824390>, <Vertex object with index '652' at 0x7fe07c824330>, <Vertex object with index '653' at 0x7fe07c8242d0>, <Vertex object with index '654' at 0x7fe07c824270>, <Vertex object with index '655' at 0x7fe07c824210>, <Vertex object with index '656' at 0x7fe07c824090>, <Vertex object with index '657' at 0x7fe07c824030>, <Vertex object with index '658' at 0x7fe07c824db0>, <Vertex object with index '659' at 0x7fe07c824c90>, <Vertex object with index '660' at 0x7fe07c824c30>, <Vertex object with index '661' at 0x7fe07c824e10>, <Vertex object with index '662' at 0x7fe07c824d50>, <Vertex object with index '663' at 0x7fe07c834ab0>, <Vertex object with index '664' at 0x7fe07c834f30>, <Vertex object with index '665' at 0x7fe07c834ed0>, <Vertex object with index '666' at 0x7fe07c834e70>, <Vertex object with index '667' at 0x7fe07c834f90>, <Vertex object with index '668' at 0x7fe07c834e10>, <Vertex object with index '669' at 0x7fe07c834db0>, <Vertex object with index '670' at 0x7fe07c834d50>, <Vertex object with index '671' at 0x7fe07c834cf0>, <Vertex object with index '672' at 0x7fe07c834c90>, <Vertex object with index '673' at 0x7fe07c834bd0>, <Vertex object with index '674' at 0x7fe07c834b70>, <Vertex object with index '675' at 0x7fe07c834b10>, <Vertex object with index '676' at 0x7fe07c834a50>, <Vertex object with index '677' at 0x7fe07c8349f0>, <Vertex object with index '678' at 0x7fe07c834030>, <Vertex object with index '679' at 0x7fe07c834150>, <Vertex object with index '680' at 0x7fe07c8340f0>, <Vertex object with index '681' at 0x7fe07c8343f0>, <Vertex object with index '682' at 0x7fe07c834570>, <Vertex object with index '683' at 0x7fe07c834930>, <Vertex object with index '684' at 0x7fe07c8348d0>, <Vertex object with index '685' at 0x7fe07c8345d0>, <Vertex object with index '686' at 0x7fe07c8341b0>, <Vertex object with index '687' at 0x7fe07c834270>, <Vertex object with index '688' at 0x7fe07c834870>, <Vertex object with index '689' at 0x7fe07c834630>, <Vertex object with index '690' at 0x7fe07c834090>, <Vertex object with index '691' at 0x7fe07c834210>, <Vertex object with index '692' at 0x7fe07c834450>, <Vertex object with index '693' at 0x7fe07c834990>, <Vertex object with index '694' at 0x7fe07c8263f0>, <Vertex object with index '695' at 0x7fe07c8269f0>, <Vertex object with index '696' at 0x7fe07c8267b0>, <Vertex object with index '697' at 0x7fe07c8260f0>, <Vertex object with index '698' at 0x7fe07c826270>, <Vertex object with index '699' at 0x7fe07c826b10>, <Vertex object with index '700' at 0x7fe07c826db0>, <Vertex object with index '701' at 0x7fe07c826e70>, <Vertex object with index '702' at 0x7fe07c8265d0>, <Vertex object with index '703' at 0x7fe07c826c90>, <Vertex object with index '704' at 0x7fe07c826c30>, <Vertex object with index '705' at 0x7fe07c826ab0>, <Vertex object with index '706' at 0x7fe07c826a50>, <Vertex object with index '707' at 0x7fe07c826690>, <Vertex object with index '708' at 0x7fe07c826630>, <Vertex object with index '709' at 0x7fe07c826570>, <Vertex object with index '710' at 0x7fe07c826510>, <Vertex object with index '711' at 0x7fe07c8264b0>, <Vertex object with index '712' at 0x7fe07c826390>, <Vertex object with index '713' at 0x7fe07c826330>, <Vertex object with index '714' at 0x7fe07c8262d0>, <Vertex object with index '715' at 0x7fe07c826210>, <Vertex object with index '716' at 0x7fe07c8261b0>, <Vertex object with index '717' at 0x7fe07c826090>, <Vertex object with index '718' at 0x7fe07c826030>, <Vertex object with index '719' at 0x7fe07c826b70>, <Vertex object with index '720' at 0x7fe07c826450>, <Vertex object with index '721' at 0x7fe07c8266f0>, <Vertex object with index '722' at 0x7fe07c823030>, <Vertex object with index '723' at 0x7fe07c823090>, <Vertex object with index '724' at 0x7fe07c8230f0>, <Vertex object with index '725' at 0x7fe07c823150>, <Vertex object with index '726' at 0x7fe07c8231b0>, <Vertex object with index '727' at 0x7fe07c823210>, <Vertex object with index '728' at 0x7fe07c823270>, <Vertex object with index '729' at 0x7fe07c8232d0>, <Vertex object with index '730' at 0x7fe07c823330>, <Vertex object with index '731' at 0x7fe07c823390>, <Vertex object with index '732' at 0x7fe07c8233f0>, <Vertex object with index '733' at 0x7fe07c823450>, <Vertex object with index '734' at 0x7fe07c8234b0>, <Vertex object with index '735' at 0x7fe07c823510>, <Vertex object with index '736' at 0x7fe07c823570>, <Vertex object with index '737' at 0x7fe07c8235d0>, <Vertex object with index '738' at 0x7fe07c823630>, <Vertex object with index '739' at 0x7fe07c823690>, <Vertex object with index '740' at 0x7fe07c8236f0>, <Vertex object with index '741' at 0x7fe07c823750>, <Vertex object with index '742' at 0x7fe07c8237b0>, <Vertex object with index '743' at 0x7fe07c823810>, <Vertex object with index '744' at 0x7fe07c823870>, <Vertex object with index '745' at 0x7fe07c8238d0>, <Vertex object with index '746' at 0x7fe07c823930>, <Vertex object with index '747' at 0x7fe07c823990>, <Vertex object with index '748' at 0x7fe07c8239f0>, <Vertex object with index '749' at 0x7fe07c823a50>, <Vertex object with index '750' at 0x7fe07c823ab0>, <Vertex object with index '751' at 0x7fe07c823b10>, <Vertex object with index '752' at 0x7fe07c823b70>, <Vertex object with index '753' at 0x7fe07c823bd0>, <Vertex object with index '754' at 0x7fe07c823c30>, <Vertex object with index '755' at 0x7fe07c823c90>, <Vertex object with index '756' at 0x7fe07c823cf0>, <Vertex object with index '757' at 0x7fe07c823d50>, <Vertex object with index '758' at 0x7fe07c823db0>, <Vertex object with index '759' at 0x7fe07c823e10>, <Vertex object with index '760' at 0x7fe07c823e70>, <Vertex object with index '761' at 0x7fe07c823ed0>, <Vertex object with index '762' at 0x7fe07c823f30>, <Vertex object with index '763' at 0x7fe07c823f90>, <Vertex object with index '764' at 0x7fe07c825090>, <Vertex object with index '765' at 0x7fe07c825810>, <Vertex object with index '766' at 0x7fe07c825030>, <Vertex object with index '767' at 0x7fe07c825150>, <Vertex object with index '768' at 0x7fe07c8251b0>, <Vertex object with index '769' at 0x7fe07c825210>, <Vertex object with index '770' at 0x7fe07c825270>, <Vertex object with index '771' at 0x7fe07c8252d0>, <Vertex object with index '772' at 0x7fe07c825330>, <Vertex object with index '773' at 0x7fe07c825390>, <Vertex object with index '774' at 0x7fe07c8253f0>, <Vertex object with index '775' at 0x7fe07c825450>, <Vertex object with index '776' at 0x7fe07c8254b0>, <Vertex object with index '777' at 0x7fe07c825510>, <Vertex object with index '778' at 0x7fe07c825570>, <Vertex object with index '779' at 0x7fe07c8255d0>, <Vertex object with index '780' at 0x7fe07c825630>, <Vertex object with index '781' at 0x7fe07c825690>, <Vertex object with index '782' at 0x7fe07c8256f0>, <Vertex object with index '783' at 0x7fe07c825750>, <Vertex object with index '784' at 0x7fe07c8257b0>, <Vertex object with index '785' at 0x7fe07c8258d0>, <Vertex object with index '786' at 0x7fe07c825990>, <Vertex object with index '787' at 0x7fe07c8259f0>, <Vertex object with index '788' at 0x7fe07c825a50>, <Vertex object with index '789' at 0x7fe07c825ab0>, <Vertex object with index '790' at 0x7fe07c825b10>, <Vertex object with index '791' at 0x7fe07c825b70>, <Vertex object with index '792' at 0x7fe07c825bd0>, <Vertex object with index '793' at 0x7fe07c825c30>, <Vertex object with index '794' at 0x7fe07c825c90>, <Vertex object with index '795' at 0x7fe07c825cf0>, <Vertex object with index '796' at 0x7fe07c825d50>, <Vertex object with index '797' at 0x7fe07c825db0>, <Vertex object with index '798' at 0x7fe07c825e10>, <Vertex object with index '799' at 0x7fe07c825e70>, <Vertex object with index '800' at 0x7fe07c825f30>, <Vertex object with index '801' at 0x7fe07c825f90>, <Vertex object with index '802' at 0x7fe07c825930>, <Vertex object with index '803' at 0x7fe07c8250f0>, <Vertex object with index '804' at 0x7fe07c825870>, <Vertex object with index '805' at 0x7fe07c825ed0>, <Vertex object with index '806' at 0x7fe07c829030>, <Vertex object with index '807' at 0x7fe07c829090>, <Vertex object with index '808' at 0x7fe07c8290f0>, <Vertex object with index '809' at 0x7fe07c829150>, <Vertex object with index '810' at 0x7fe07c8291b0>, <Vertex object with index '811' at 0x7fe07c829210>, <Vertex object with index '812' at 0x7fe07c829270>, <Vertex object with index '813' at 0x7fe07c8292d0>, <Vertex object with index '814' at 0x7fe07c829330>, <Vertex object with index '815' at 0x7fe07c829390>, <Vertex object with index '816' at 0x7fe07c8293f0>, <Vertex object with index '817' at 0x7fe07c829450>, <Vertex object with index '818' at 0x7fe07c8294b0>, <Vertex object with index '819' at 0x7fe07c829510>, <Vertex object with index '820' at 0x7fe07c829570>, <Vertex object with index '821' at 0x7fe07c8295d0>, <Vertex object with index '822' at 0x7fe07c829630>, <Vertex object with index '823' at 0x7fe07c829690>, <Vertex object with index '824' at 0x7fe07c8296f0>, <Vertex object with index '825' at 0x7fe07c829750>, <Vertex object with index '826' at 0x7fe07c8297b0>, <Vertex object with index '827' at 0x7fe07c829810>, <Vertex object with index '828' at 0x7fe07c829870>, <Vertex object with index '829' at 0x7fe07c8298d0>, <Vertex object with index '830' at 0x7fe07c829930>, <Vertex object with index '831' at 0x7fe07c829990>, <Vertex object with index '832' at 0x7fe07c8299f0>, <Vertex object with index '833' at 0x7fe07c829ab0>, <Vertex object with index '834' at 0x7fe07c829b10>, <Vertex object with index '835' at 0x7fe07c829bd0>, <Vertex object with index '836' at 0x7fe07c829c30>, <Vertex object with index '837' at 0x7fe07c829c90>, <Vertex object with index '838' at 0x7fe07c829cf0>, <Vertex object with index '839' at 0x7fe07c829d50>, <Vertex object with index '840' at 0x7fe07c829db0>, <Vertex object with index '841' at 0x7fe07c829e10>, <Vertex object with index '842' at 0x7fe07c829e70>, <Vertex object with index '843' at 0x7fe07c829f30>, <Vertex object with index '844' at 0x7fe07c829f90>, <Vertex object with index '845' at 0x7fe07c829ed0>, <Vertex object with index '846' at 0x7fe07c829a50>, <Vertex object with index '847' at 0x7fe07c829b70>, <Vertex object with index '848' at 0x7fe07c82a090>, <Vertex object with index '849' at 0x7fe07c82a0f0>, <Vertex object with index '850' at 0x7fe07c82a150>, <Vertex object with index '851' at 0x7fe07c82a1b0>, <Vertex object with index '852' at 0x7fe07c82a210>, <Vertex object with index '853' at 0x7fe07c82a270>, <Vertex object with index '854' at 0x7fe07c82a2d0>, <Vertex object with index '855' at 0x7fe07c82a330>, <Vertex object with index '856' at 0x7fe07c82a390>, <Vertex object with index '857' at 0x7fe07c82a3f0>, <Vertex object with index '858' at 0x7fe07c82a450>, <Vertex object with index '859' at 0x7fe07c82a4b0>, <Vertex object with index '860' at 0x7fe07c82a510>, <Vertex object with index '861' at 0x7fe07c82a570>, <Vertex object with index '862' at 0x7fe07c82a630>, <Vertex object with index '863' at 0x7fe07c82a6f0>, <Vertex object with index '864' at 0x7fe07c82a750>, <Vertex object with index '865' at 0x7fe07c82a7b0>, <Vertex object with index '866' at 0x7fe07c82a810>, <Vertex object with index '867' at 0x7fe07c82a870>, <Vertex object with index '868' at 0x7fe07c82a8d0>, <Vertex object with index '869' at 0x7fe07c82a930>, <Vertex object with index '870' at 0x7fe07c82a990>, <Vertex object with index '871' at 0x7fe07c82a9f0>, <Vertex object with index '872' at 0x7fe07c82aa50>, <Vertex object with index '873' at 0x7fe07c82aab0>, <Vertex object with index '874' at 0x7fe07c82ab10>, <Vertex object with index '875' at 0x7fe07c82ab70>, <Vertex object with index '876' at 0x7fe07c82abd0>, <Vertex object with index '877' at 0x7fe07c82ac30>, <Vertex object with index '878' at 0x7fe07c82ac90>, <Vertex object with index '879' at 0x7fe07c82acf0>, <Vertex object with index '880' at 0x7fe07c82ad50>, <Vertex object with index '881' at 0x7fe07c82adb0>, <Vertex object with index '882' at 0x7fe07c82ae70>, <Vertex object with index '883' at 0x7fe07c82aed0>, <Vertex object with index '884' at 0x7fe07c82af30>, <Vertex object with index '885' at 0x7fe07c82af90>, <Vertex object with index '886' at 0x7fe07c82a5d0>, <Vertex object with index '887' at 0x7fe07c82a690>, <Vertex object with index '888' at 0x7fe07c82a030>, <Vertex object with index '889' at 0x7fe07c82ae10>, <Vertex object with index '890' at 0x7fe07c82b030>, <Vertex object with index '891' at 0x7fe07c82b090>, <Vertex object with index '892' at 0x7fe07c82b0f0>, <Vertex object with index '893' at 0x7fe07c82b1b0>, <Vertex object with index '894' at 0x7fe07c82b210>, <Vertex object with index '895' at 0x7fe07c82b2d0>, <Vertex object with index '896' at 0x7fe07c82b330>, <Vertex object with index '897' at 0x7fe07c82b390>, <Vertex object with index '898' at 0x7fe07c82b3f0>, <Vertex object with index '899' at 0x7fe07c82b450>, <Vertex object with index '900' at 0x7fe07c82b4b0>, <Vertex object with index '901' at 0x7fe07c82b510>, <Vertex object with index '902' at 0x7fe07c82b570>, <Vertex object with index '903' at 0x7fe07c82b630>, <Vertex object with index '904' at 0x7fe07c82b690>, <Vertex object with index '905' at 0x7fe07c82b6f0>, <Vertex object with index '906' at 0x7fe07c82b750>, <Vertex object with index '907' at 0x7fe07c82b7b0>, <Vertex object with index '908' at 0x7fe07c82b810>, <Vertex object with index '909' at 0x7fe07c82b870>, <Vertex object with index '910' at 0x7fe07c82b8d0>, <Vertex object with index '911' at 0x7fe07c82b930>, <Vertex object with index '912' at 0x7fe07c82b990>, <Vertex object with index '913' at 0x7fe07c82b9f0>, <Vertex object with index '914' at 0x7fe07c82ba50>, <Vertex object with index '915' at 0x7fe07c82bab0>, <Vertex object with index '916' at 0x7fe07c82bb10>, <Vertex object with index '917' at 0x7fe07c82bb70>, <Vertex object with index '918' at 0x7fe07c82bbd0>, <Vertex object with index '919' at 0x7fe07c82bc30>, <Vertex object with index '920' at 0x7fe07c82bcf0>, <Vertex object with index '921' at 0x7fe07c82bdb0>, <Vertex object with index '922' at 0x7fe07c82be10>, <Vertex object with index '923' at 0x7fe07c82be70>, <Vertex object with index '924' at 0x7fe07c82bed0>, <Vertex object with index '925' at 0x7fe07c82bf30>, <Vertex object with index '926' at 0x7fe07c82bf90>, <Vertex object with index '927' at 0x7fe07c82bc90>, <Vertex object with index '928' at 0x7fe07c82b150>, <Vertex object with index '929' at 0x7fe07c82bd50>, <Vertex object with index '930' at 0x7fe07c82b5d0>, <Vertex object with index '931' at 0x7fe07c82b270>, <Vertex object with index '932' at 0x7fe07c82c270>, <Vertex object with index '933' at 0x7fe07c82cd50>, <Vertex object with index '934' at 0x7fe07c82ce70>, <Vertex object with index '935' at 0x7fe07c82c330>, <Vertex object with index '936' at 0x7fe07c82c9f0>, <Vertex object with index '937' at 0x7fe07c82c030>, <Vertex object with index '938' at 0x7fe07c82c090>, <Vertex object with index '939' at 0x7fe07c82c150>, <Vertex object with index '940' at 0x7fe07c82c1b0>, <Vertex object with index '941' at 0x7fe07c82c210>, <Vertex object with index '942' at 0x7fe07c82c2d0>, <Vertex object with index '943' at 0x7fe07c82c390>, <Vertex object with index '944' at 0x7fe07c82c3f0>, <Vertex object with index '945' at 0x7fe07c82c450>, <Vertex object with index '946' at 0x7fe07c82c4b0>, <Vertex object with index '947' at 0x7fe07c82c510>, <Vertex object with index '948' at 0x7fe07c82c570>, <Vertex object with index '949' at 0x7fe07c82c5d0>, <Vertex object with index '950' at 0x7fe07c82c630>, <Vertex object with index '951' at 0x7fe07c82c690>, <Vertex object with index '952' at 0x7fe07c82c6f0>, <Vertex object with index '953' at 0x7fe07c82c750>, <Vertex object with index '954' at 0x7fe07c82c7b0>, <Vertex object with index '955' at 0x7fe07c82c810>, <Vertex object with index '956' at 0x7fe07c82c8d0>, <Vertex object with index '957' at 0x7fe07c82c990>, <Vertex object with index '958' at 0x7fe07c82ca50>, <Vertex object with index '959' at 0x7fe07c82cb10>, <Vertex object with index '960' at 0x7fe07c82cbd0>, <Vertex object with index '961' at 0x7fe07c82cc30>, <Vertex object with index '962' at 0x7fe07c82cc90>, <Vertex object with index '963' at 0x7fe07c82ccf0>, <Vertex object with index '964' at 0x7fe07c82cdb0>, <Vertex object with index '965' at 0x7fe07c82ce10>, <Vertex object with index '966' at 0x7fe07c82ced0>, <Vertex object with index '967' at 0x7fe07c82cf30>, <Vertex object with index '968' at 0x7fe07c82cf90>, <Vertex object with index '969' at 0x7fe07c82c0f0>, <Vertex object with index '970' at 0x7fe07c82c870>, <Vertex object with index '971' at 0x7fe07c82c930>, <Vertex object with index '972' at 0x7fe07c82df90>, <Vertex object with index '973' at 0x7fe07c82dd50>, <Vertex object with index '974' at 0x7fe07c82de10>, <Vertex object with index '975' at 0x7fe07c82d030>, <Vertex object with index '976' at 0x7fe07c82d090>, <Vertex object with index '977' at 0x7fe07c82d150>, <Vertex object with index '978' at 0x7fe07c82d1b0>, <Vertex object with index '979' at 0x7fe07c82d210>, <Vertex object with index '980' at 0x7fe07c82d270>, <Vertex object with index '981' at 0x7fe07c82d2d0>, <Vertex object with index '982' at 0x7fe07c82d330>, <Vertex object with index '983' at 0x7fe07c82d390>, <Vertex object with index '984' at 0x7fe07c82d3f0>, <Vertex object with index '985' at 0x7fe07c82d4b0>, <Vertex object with index '986' at 0x7fe07c82d510>, <Vertex object with index '987' at 0x7fe07c82d5d0>, <Vertex object with index '988' at 0x7fe07c82d630>, <Vertex object with index '989' at 0x7fe07c82d690>, <Vertex object with index '990' at 0x7fe07c82d6f0>, <Vertex object with index '991' at 0x7fe07c82d750>, <Vertex object with index '992' at 0x7fe07c82d7b0>, <Vertex object with index '993' at 0x7fe07c82d810>, <Vertex object with index '994' at 0x7fe07c82d870>, <Vertex object with index '995' at 0x7fe07c82d8d0>, <Vertex object with index '996' at 0x7fe07c82d930>, <Vertex object with index '997' at 0x7fe07c82d990>, <Vertex object with index '998' at 0x7fe07c82d9f0>, <Vertex object with index '999' at 0x7fe07c82da50>, <Vertex object with index '1000' at 0x7fe07c82dab0>, <Vertex object with index '1001' at 0x7fe07c82db10>, <Vertex object with index '1002' at 0x7fe07c82db70>, <Vertex object with index '1003' at 0x7fe07c82dbd0>, <Vertex object with index '1004' at 0x7fe07c82dc30>, <Vertex object with index '1005' at 0x7fe07c82dc90>, <Vertex object with index '1006' at 0x7fe07c82dcf0>, <Vertex object with index '1007' at 0x7fe07c82ddb0>, <Vertex object with index '1008' at 0x7fe07c82de70>, <Vertex object with index '1009' at 0x7fe07c82ded0>, <Vertex object with index '1010' at 0x7fe07c82df30>, <Vertex object with index '1011' at 0x7fe07c82e7b0>, <Vertex object with index '1012' at 0x7fe07c82e8d0>, <Vertex object with index '1013' at 0x7fe07c82e390>, <Vertex object with index '1014' at 0x7fe07c82e4b0>, <Vertex object with index '1015' at 0x7fe07c82ef90>, <Vertex object with index '1016' at 0x7fe07c82e570>, <Vertex object with index '1017' at 0x7fe07c82ec30>, <Vertex object with index '1018' at 0x7fe07c82e030>, <Vertex object with index '1019' at 0x7fe07c82e090>, <Vertex object with index '1020' at 0x7fe07c82e0f0>, <Vertex object with index '1021' at 0x7fe07c82e150>, <Vertex object with index '1022' at 0x7fe07c82e1b0>, <Vertex object with index '1023' at 0x7fe07c82e210>, <Vertex object with index '1024' at 0x7fe07c82e270>, <Vertex object with index '1025' at 0x7fe07c82e2d0>, <Vertex object with index '1026' at 0x7fe07c82e330>, <Vertex object with index '1027' at 0x7fe07c82e3f0>, <Vertex object with index '1028' at 0x7fe07c82e450>, <Vertex object with index '1029' at 0x7fe07c82e510>, <Vertex object with index '1030' at 0x7fe07c82e5d0>, <Vertex object with index '1031' at 0x7fe07c82e690>, <Vertex object with index '1032' at 0x7fe07c82e6f0>, <Vertex object with index '1033' at 0x7fe07c82e750>, <Vertex object with index '1034' at 0x7fe07c82e810>, <Vertex object with index '1035' at 0x7fe07c82e870>, <Vertex object with index '1036' at 0x7fe07c82e930>, <Vertex object with index '1037' at 0x7fe07c82e990>, <Vertex object with index '1038' at 0x7fe07c82e9f0>, <Vertex object with index '1039' at 0x7fe07c82ea50>, <Vertex object with index '1040' at 0x7fe07c82eab0>, <Vertex object with index '1041' at 0x7fe07c82eb10>, <Vertex object with index '1042' at 0x7fe07c82eb70>, <Vertex object with index '1043' at 0x7fe07c82ebd0>, <Vertex object with index '1044' at 0x7fe07c82ec90>, <Vertex object with index '1045' at 0x7fe07c82ecf0>, <Vertex object with index '1046' at 0x7fe07c82ed50>, <Vertex object with index '1047' at 0x7fe07c82edb0>, <Vertex object with index '1048' at 0x7fe07c82ee10>, <Vertex object with index '1049' at 0x7fe07c82ee70>, <Vertex object with index '1050' at 0x7fe07c82eed0>, <Vertex object with index '1051' at 0x7fe07c82ef30>, <Vertex object with index '1052' at 0x7fe07c82fe70>, <Vertex object with index '1053' at 0x7fe07c82fab0>, <Vertex object with index '1054' at 0x7fe07c82f0f0>, <Vertex object with index '1055' at 0x7fe07c82f030>, <Vertex object with index '1056' at 0x7fe07c82f090>, <Vertex object with index '1057' at 0x7fe07c82f150>, <Vertex object with index '1058' at 0x7fe07c82f1b0>, <Vertex object with index '1059' at 0x7fe07c82f210>, <Vertex object with index '1060' at 0x7fe07c82f270>, <Vertex object with index '1061' at 0x7fe07c82f2d0>, <Vertex object with index '1062' at 0x7fe07c82f330>, <Vertex object with index '1063' at 0x7fe07c82f390>, <Vertex object with index '1064' at 0x7fe07c82f3f0>, <Vertex object with index '1065' at 0x7fe07c82f450>, <Vertex object with index '1066' at 0x7fe07c82f4b0>, <Vertex object with index '1067' at 0x7fe07c82f510>, <Vertex object with index '1068' at 0x7fe07c82f570>, <Vertex object with index '1069' at 0x7fe07c82f5d0>, <Vertex object with index '1070' at 0x7fe07c82f630>, <Vertex object with index '1071' at 0x7fe07c82f690>, <Vertex object with index '1072' at 0x7fe07c82f6f0>, <Vertex object with index '1073' at 0x7fe07c82f750>, <Vertex object with index '1074' at 0x7fe07c82f7b0>, <Vertex object with index '1075' at 0x7fe07c82f810>, <Vertex object with index '1076' at 0x7fe07c82f870>, <Vertex object with index '1077' at 0x7fe07c82f8d0>, <Vertex object with index '1078' at 0x7fe07c82f930>, <Vertex object with index '1079' at 0x7fe07c82f990>, <Vertex object with index '1080' at 0x7fe07c82f9f0>, <Vertex object with index '1081' at 0x7fe07c82fa50>, <Vertex object with index '1082' at 0x7fe07c82fb10>, <Vertex object with index '1083' at 0x7fe07c82fb70>, <Vertex object with index '1084' at 0x7fe07c82fbd0>, <Vertex object with index '1085' at 0x7fe07c82fc30>, <Vertex object with index '1086' at 0x7fe07c82fc90>, <Vertex object with index '1087' at 0x7fe07c82fcf0>, <Vertex object with index '1088' at 0x7fe07c82fd50>, <Vertex object with index '1089' at 0x7fe07c82fdb0>, <Vertex object with index '1090' at 0x7fe07c82fe10>, <Vertex object with index '1091' at 0x7fe07c82fed0>, <Vertex object with index '1092' at 0x7fe07c82ff30>, <Vertex object with index '1093' at 0x7fe07c82ff90>, <Vertex object with index '1094' at 0x7fe07c830510>, <Vertex object with index '1095' at 0x7fe07c830210>, <Vertex object with index '1096' at 0x7fe07c830030>, <Vertex object with index '1097' at 0x7fe07c830090>, <Vertex object with index '1098' at 0x7fe07c8300f0>, <Vertex object with index '1099' at 0x7fe07c830150>, <Vertex object with index '1100' at 0x7fe07c8301b0>, <Vertex object with index '1101' at 0x7fe07c830270>, <Vertex object with index '1102' at 0x7fe07c8302d0>, <Vertex object with index '1103' at 0x7fe07c830390>, <Vertex object with index '1104' at 0x7fe07c8303f0>, <Vertex object with index '1105' at 0x7fe07c830450>, <Vertex object with index '1106' at 0x7fe07c8304b0>, <Vertex object with index '1107' at 0x7fe07c830570>, <Vertex object with index '1108' at 0x7fe07c8305d0>, <Vertex object with index '1109' at 0x7fe07c830630>, <Vertex object with index '1110' at 0x7fe07c830690>, <Vertex object with index '1111' at 0x7fe07c830750>, <Vertex object with index '1112' at 0x7fe07c8307b0>, <Vertex object with index '1113' at 0x7fe07c830810>, <Vertex object with index '1114' at 0x7fe07c830870>, <Vertex object with index '1115' at 0x7fe07c8308d0>, <Vertex object with index '1116' at 0x7fe07c830930>, <Vertex object with index '1117' at 0x7fe07c830990>, <Vertex object with index '1118' at 0x7fe07c8309f0>, <Vertex object with index '1119' at 0x7fe07c830a50>, <Vertex object with index '1120' at 0x7fe07c830ab0>, <Vertex object with index '1121' at 0x7fe07c830b10>, <Vertex object with index '1122' at 0x7fe07c830b70>, <Vertex object with index '1123' at 0x7fe07c830bd0>, <Vertex object with index '1124' at 0x7fe07c830c30>, <Vertex object with index '1125' at 0x7fe07c830c90>, <Vertex object with index '1126' at 0x7fe07c830d50>, <Vertex object with index '1127' at 0x7fe07c830db0>, <Vertex object with index '1128' at 0x7fe07c830e10>, <Vertex object with index '1129' at 0x7fe07c830e70>, <Vertex object with index '1130' at 0x7fe07c830ed0>, <Vertex object with index '1131' at 0x7fe07c830f30>, <Vertex object with index '1132' at 0x7fe07c830f90>, <Vertex object with index '1133' at 0x7fe07c830330>, <Vertex object with index '1134' at 0x7fe07c831150>, <Vertex object with index '1135' at 0x7fe07c831210>, <Vertex object with index '1136' at 0x7fe07c831450>, <Vertex object with index '1137' at 0x7fe07c8319f0>, <Vertex object with index '1138' at 0x7fe07c831c90>, <Vertex object with index '1139' at 0x7fe07c831e10>, <Vertex object with index '1140' at 0x7fe07c831750>, <Vertex object with index '1141' at 0x7fe07c831990>, <Vertex object with index '1142' at 0x7fe07c831f90>, <Vertex object with index '1143' at 0x7fe07c831030>, <Vertex object with index '1144' at 0x7fe07c831090>, <Vertex object with index '1145' at 0x7fe07c8310f0>, <Vertex object with index '1146' at 0x7fe07c8311b0>, <Vertex object with index '1147' at 0x7fe07c831270>, <Vertex object with index '1148' at 0x7fe07c8312d0>, <Vertex object with index '1149' at 0x7fe07c831330>, <Vertex object with index '1150' at 0x7fe07c831390>, <Vertex object with index '1151' at 0x7fe07c8313f0>, <Vertex object with index '1152' at 0x7fe07c8314b0>, <Vertex object with index '1153' at 0x7fe07c831510>, <Vertex object with index '1154' at 0x7fe07c831570>, <Vertex object with index '1155' at 0x7fe07c8315d0>, <Vertex object with index '1156' at 0x7fe07c831630>, <Vertex object with index '1157' at 0x7fe07c831690>, <Vertex object with index '1158' at 0x7fe07c8316f0>, <Vertex object with index '1159' at 0x7fe07c8317b0>, <Vertex object with index '1160' at 0x7fe07c831870>, <Vertex object with index '1161' at 0x7fe07c831a50>, <Vertex object with index '1162' at 0x7fe07c831ab0>, <Vertex object with index '1163' at 0x7fe07c831b10>, <Vertex object with index '1164' at 0x7fe07c831b70>, <Vertex object with index '1165' at 0x7fe07c831bd0>, <Vertex object with index '1166' at 0x7fe07c831cf0>, <Vertex object with index '1167' at 0x7fe07c831d50>, <Vertex object with index '1168' at 0x7fe07c831db0>, <Vertex object with index '1169' at 0x7fe07c831e70>, <Vertex object with index '1170' at 0x7fe07c831ed0>, <Vertex object with index '1171' at 0x7fe07c831f30>, <Vertex object with index '1172' at 0x7fe07c831930>, <Vertex object with index '1173' at 0x7fe07c832f30>, <Vertex object with index '1174' at 0x7fe07c832ed0>, <Vertex object with index '1175' at 0x7fe07c832e70>, <Vertex object with index '1176' at 0x7fe07c832e10>, <Vertex object with index '1177' at 0x7fe07c832d50>, <Vertex object with index '1178' at 0x7fe07c832cf0>, <Vertex object with index '1179' at 0x7fe07c832c90>, <Vertex object with index '1180' at 0x7fe07c832c30>, <Vertex object with index '1181' at 0x7fe07c832bd0>, <Vertex object with index '1182' at 0x7fe07c832b70>, <Vertex object with index '1183' at 0x7fe07c832ab0>, <Vertex object with index '1184' at 0x7fe07c832a50>, <Vertex object with index '1185' at 0x7fe07c8329f0>, <Vertex object with index '1186' at 0x7fe07c832930>, <Vertex object with index '1187' at 0x7fe07c832870>, <Vertex object with index '1188' at 0x7fe07c832810>, <Vertex object with index '1189' at 0x7fe07c8327b0>, <Vertex object with index '1190' at 0x7fe07c832750>}\n"
     ]
    }
   ],
   "source": [
    "# vp_label = g.vp['_graphml_vertex_id']  # same as wktitle\n",
    "# pr = gt.pagerank(g)\n",
    "# ranks = [(g.vertex_index[v], vp_label[v], pr[v]) for v in g.vertices()]\n",
    "# ranks = sorted(ranks, key=lambda e: -e[-1])\n",
    "# return ranks\n",
    "\n",
    "v = gt.find_vertex(g, g.vp['_graphml_vertex_id'], \"Apple Inc.\")[0]\n",
    "# [g.vp['_graphml_vertex_id'][b] for b in v.out_neighbors()]\n",
    "# [e for e in v.all_edges()]\n",
    "\n",
    "n_forwards = 2\n",
    "seeds = set([v])\n",
    "traveled = set()\n",
    "for i in range(n_forwards):\n",
    "    nextseeds = set()\n",
    "    for v in seeds:\n",
    "#         print(set(v.out_neighbors()))\n",
    "        nextseeds |= set(v.out_neighbors())\n",
    "#     print(nextseeds)\n",
    "    nextseeds -= seeds\n",
    "    traveled |= seeds\n",
    "    seeds = nextseeds\n",
    "\n",
    "# print(seeds)\n",
    "print(traveled)\n",
    "\n",
    "# traveled\n",
    "# seeds\n",
    "\n",
    "# for v in g.vertices():\n",
    "#     print(g.vertex_index[v], vp_label[v])\n",
    "#     break\n",
    "\n",
    "# g.vertex()\n",
    "# for v in g.vertices():\n",
    "#    for e in v.out_edges():\n",
    "#        print(e)\n",
    "#    for w in v.out_neighbors():\n",
    "#        print(w)\n",
    "\n",
    "#    # the edge and neighbors order always match\n",
    "#    for e, w in zip(v.out_edges(), v.out_neighbors()):\n",
    "#        assert e.target() == w"
   ]
  },
  {
   "cell_type": "code",
   "execution_count": null,
   "metadata": {},
   "outputs": [],
   "source": [
    "company_name = \"3M\"\n",
    "# 1. search by symbol 2. search by name\n",
    "\n",
    "# get wiki-page\n",
    "# get wiki-data\n"
   ]
  },
  {
   "cell_type": "code",
   "execution_count": 12,
   "metadata": {},
   "outputs": [],
   "source": [
    "text = \"\"\"\n",
    "{{Otheruses|subject=美国的一家公司|other=裝飾音|波音 (音樂)}}\n",
    "{{noteTA\n",
    "|1=zh-hans:伊利诺伊州;zh-hk:伊利諾伊州;zh-tw:伊利諾州;\n",
    "|2=zh-hans:伊利诺伊;zh-hk:伊利諾伊;zh-tw:伊利諾;\n",
    "|3=zh-hant:廣體客機; zh-hans:宽体客机;\n",
    "|4=zh-hant:廣體飛機; zh-hans:宽体飛机;\n",
    "|5=zh-cn:空中客车; zh-hk:空中巴士; zh-tw:空中巴士;\n",
    "}}\n",
    "{{Infobox Company\n",
    "|company_name    = 波音公司\n",
    "|company_name_en = The Boeing Company\n",
    "|company_logo = [[File:Boeing_logo_2007.svg|240px|center|The contemporary logo integrates the Boeing logotype with a stylized version of the McDonnell Douglas symbol]]\n",
    "|company_slogan = That's Why We're Here\n",
    "|company_type = [[上市公司]]（{{nyse|BA}}）\n",
    "|foundation = 1916年7月1日於[[美國]][[华盛顿州]][[西雅图]]（{{age in years and days|1916|7|1|age=no}}）\n",
    "|location = {{USA}}[[伊利诺伊州]][[芝加哥]]<ref name=\"10K\">{{Cite web |url=http://www.sec.gov/Archives/edgar/data/12927/000001292716000099/a201512dec3110k.htm |title=The Boeing Company 2015 Form 10-K Annual Report |access-date=2016-05-08 |archive-url=https://web.archive.org/web/20160513145340/http://www.sec.gov/Archives/edgar/data/12927/000001292716000099/a201512dec3110k.htm |archive-date=2016-05-13 |dead-url=no }}</ref>\n",
    "|chairman = James McNerney\n",
    "|CEO = James McNerney\n",
    "|CFO = James A. Bell\n",
    "|industry = [[航空]][[航天]]和[[國防承包商]]\n",
    "|products = 民用客机<br />军用飞机 <br />军火<br />空间系统<br />计算机<br />航天机械<br />[[导弹]]<br />[[运载火箭]]\n",
    "|revenue          = {{nowrap| {{decrease}} 933.92 亿[[美元]]（2017年）<ref name=10K/>}}\n",
    "|operating_income = {{nowrap| {{increase}} 102.78 亿[[美元]]（2017年）<ref name=10K/>}}\n",
    "|net_income       = {{nowrap| {{increase}} 81.97 亿[[美元]]（2017年）<ref name=10K/>}}\n",
    "|assets           = {{nowrap| {{increase}} 923.33 亿[[美元]]（2017年）<ref name=10K/>}}\n",
    "|equity           = {{nowrap| {{decrease}} 4.12 亿[[美元]]（2017年）<ref name=10K/>}}\n",
    "|num_employees = 159,469（2016年2月）<ref name=\"Boeing_Employment\">[http://www.boeing.com/company/general-info/ \"Employment Data\"] {{Wayback|url=http://www.boeing.com/company/general-info/ |date=20160218224524 }}. Boeing</ref>\n",
    "|parent =\n",
    "|divisions = [[波音商用飞机]]<br />{{en-link|綜合防禦系統|Boeing Defense, Space & Security}}<br />其他\n",
    "|subsid = Aviall, Inc. <br /> [[杰普森]] <br /> [[波音澳大利亚]] <br /> [[波音英国防务]]<br />[[波音商店]]<br />[[巴西航空工業公司]]\n",
    "|homepage = {{official}}\n",
    "|footnotes =\n",
    "}}\n",
    "[[File:2004-09-14 1680x3000 chicago boeing building.jpg|thumb|200px|right|波音公司總部]]\n",
    "\n",
    "'''波音公司'''（{{lang-en|'''The Boeing Company'''}}）是[[美國]]一家開發、生產及销售[[固定翼飛機]]、[[旋翼机]]、[[运载火箭]]、[[导弹]]和[[人造卫星]]等產品，為世界最大的航天航空器製造商。於1997年併購[[麥克唐納-道格拉斯]]後，現在為美國境內唯一製造民航用[[廣體客機]]的公司，與歐洲[[空中巴士]]公司同為世界僅有的兩家大型民航機製造商，彼此瓜分市場。它也提供租赁及产品售后服务。波音公司總部設於[[伊利諾州]][[芝加哥]]，在[[民用航空]]市场上擁有頗高的佔有率。\n",
    "\n",
    "波音同時是全球第二大[[國防承包商]]，軍售武器量僅次於[[洛克希德·馬丁]]，產值則高於全球第三的[[英國航太系統|英國航太]]。單單2014年，該公司國防部門銷售總額達到290億美元，佔波音公司總收入的32%-35%左右。<ref>{{Cite web |title=Top 100 for 2015 |url=http://people.defensenews.com/top-100/ |author1=Defense News |access-date=2015-09-27 |archive-url=https://archive.is/20150731071502/http://people.defensenews.com/top-100/ |archive-date=2015-07-31 |dead-url=yes }}</ref>\n",
    "\n",
    "== 历史 ==\n",
    "===創業初期===\n",
    "1916年7月1日，波音由[[威廉·爱德華·波音]]以及美國海軍技師喬治·康拉德·韋斯特維爾特於美國[[西雅圖]]共同創立。剛開始，公司名字取自兩人姓氏開頭字母組合「B&W」。B&W（藍色比爾）的第一架飛機為搭載雙浮筒的水上飛機，不過這個公司名稱很快地就被改為'''Pacific Aero Products'''。接著在1917年時公司名稱再度改名，取為「波音飛機公司('''Boeing Airplane Company''')」。由於當時正值[[第一次世界大戰]]，美國海軍向波音飛機公司採購700架搭載雙浮筒、雙翼單引擎的C型教練機，奠定波音在飛機製造商的地位。\n",
    "\n",
    "在第一次世界大戰結束後，軍用飛機已無更大的需求，民航業仍未開始發展，當時的美國境內主要使用飛機的事業僅只有郵政業務。因此波音公司使用C型機的最終版本C-700，在美國西雅圖與加拿大[[溫哥華]]之間，開展世界首次的國際郵務事業。波音的郵政部門'''BOEING AIR TRANSPORT'''業務需求逐漸擴大，飛機也開發出40A型等更現代化的飛機來使用。\n",
    "\n",
    "===大戰期間===\n",
    "1923年，美國陸軍與海軍分別採購戰鬥機P12以及F4B，購買該系列總計586架。波音也從郵務飛機開始發展載客用民航機，於1933年計畫研發可搭載十二人的小型單螺旋槳飛機[[波音247]]。當時大部分的飛機機翼為帆布鋪成，且具有固定起落架的雙翼機；但247為機身全為鐵金屬製、低單翼，且起落架可完全收入機腹，巡航速度亦達到每小時300公里的新飛機，美國的航空公司都爭相引進。\n",
    "1929年，波音與引擎製造商[[普惠公司]]等公司設立從製造到營運皆一手包辦的大型企業「聯合飛機與空運公司{'''United Aircraft and Transport Corporation'''}」。\n",
    "\n",
    "但是，247的前景並未持續太久，它逐漸被1935年發表的大型客機[[道格拉斯DC-3]]取代。而且聯合飛機與空運公司於1934年時，受到美國空郵法案禁止飛機製造商以及航空公司同屬一間公司的影響，公司被拆成三間獨立運作的公司，分別為聯合飛機公司（現為[[聯合技術公司]]）、波音飛機公司，以及[[聯合航空]]。1961年，波音飛機公司正式改名為現在使用的名字「波音公司」。\n",
    "\n",
    "直至1930年代，波音不斷生產飛機，包含世界首架具有加壓客艙的民航機[[波音307]]等先進的大型客機，在商業上獲得巨大的成功。軍事部門方面，美國陸戰隊採用了波音自1936年以來自行研發，具有四發引擎的[[B-17轟炸機]]。該機雖然擁有優越的性能，但由於單價過高導致生產量始終無法拉抬。\n",
    "\n",
    "===第二次世界大戰間===\n",
    "美國自1941年開始參加第二次世界大戰，一直以來作為轟炸機的雙發軍機的能力不足，因此波音公司的[[B-17轟炸機]]便成了美軍於歐洲戰場使用的主力飛機，因此該機開始大量生產。B-17作為能夠長距離飛行，同時亦能搭載大量炸彈的轟炸機獲得高度青睞，同時也確立B-17在[[戰略轟炸機]]上的地位，生產B-17的波音也因此聲名遠播。後來波音公司更完成超大型轟炸機[[B-29超級堡壘轟炸機]]，且大量的需求必須將飛機移至其他企業的工廠才能完成，長距離的侵略攻擊能力使得B-29使用於空襲日本的作戰。在這之中，被命名為[[艾諾拉·蓋號]]和[[博克斯卡號]]的兩架B-29轟炸機，亦是分別在長崎與廣島投下原子彈的轟炸機，B-29迄今仍是唯一於實戰中投下原子彈的機種。\n",
    "\n",
    "===第二次世界大戰後===\n",
    "波音國防部門研發生產採用[[後掠翼]]的大型轟炸機[[B-47轟炸機]]，以及其後繼機種[[B-52同溫層堡壘轟炸機]]。民航機方面則開發了以B-29為基礎的[[波音377]]客機，不過由於377客機的經濟性不符需求，僅生產56架便走入歷史。\n",
    "\n",
    "===大型噴射機的開發===\n",
    "當時航空界大多採用以[[活塞發動機]]作為飛機引擎，對於[[噴射引擎]]的高昂成本，態度上較為消極。波音當時認為航空界遲早會大量採用噴射飛機，自1952年以後就決定投入1600萬美金來研發噴射飛機。當時美國空軍正在開發B-47、B-52以及[[康維爾]][[B-58]]轟炸機，同時也在推動計畫中的超音速轟炸機[[XB-70戰神侍婢式轟炸機]]。由於轟炸機機隊相當活躍，導致當時作為美國空軍[[空中加油機]]主力的[[KB-29]]/[[KB-50]]/[[KC-97]]等以B-29改造而來的空中加油機，不僅性能不足，而且數量也極度短缺。1958年，美國空軍發表「至少還需要800架採用噴射引擎的空中加油機」這番言論。\n",
    "\n",
    "波音為了秘密研發這架噴射機，將此案裝作為[[C-97]]的改良機種。而將這件第80號的開發案，取名為「Dash 80（[[波音367-80]]）」，並開始製作試作機。1954年5月，Dash 80下線，並在同年7月完成初次飛行。在該年5月，美國空軍發表新型加油機以及運輸機的需求，當時美國重要的飛機製造商道格拉斯公司和洛克希德公司都參與投標，但波音這架367-80已經大抵上完成，壓倒性的優勢使得軍方採用波音的提案。波音便以此架飛機為基礎，研發出[[KC-135空中加油機]]，該年10月便已生產29架。\n",
    "\n",
    "另一方面，波音更利用這次的成功，再度以367-80為基礎，開發出載客用的民航機[[波音707]]噴射客機，由於這架飛機比以往的螺旋槳飛機提供多達兩倍的運量以及兩倍的飛行距離，這款劃時代的飛機是第一款獲得巨大成功的噴射客機，开启了民用航空的新时代和全新的运营模式，完全支配1960年代到1970年代的天空，首架波音707於1955年交付[[泛美航空]]。後來波音也以707為基礎，研發出最早期的[[空中預警機]][[E-3哨兵式預警機]]。美国曾经的“空军一号”也改装与波音707。\n",
    "\n",
    "這兩架飛機的始祖，原型機Dash80（367-80）在1972年捐贈給[[美國國家航空航天博物館]]，在1990年時還給波音公司，該機仍可在經修復後的情況下再度飛行。\n",
    "\n",
    "[[File:NASA p416.jpg|thumb|367-80]]\n",
    "\n",
    "===民航機的霸主===\n",
    "波音公司在707以前，從未在民航機上獲得成功過，市場長期一直遭到道格拉斯公司的壟斷。不過707投入市場後，讓長距離的高速空中旅行得以實現，一般旅客能更簡單地前往海外旅行。在1963年，開發出中程專用的噴射客機[[波音727]]。這架飛機擁有三層襟翼的高升力裝置，大幅改善起降性能，使得噴射客機也能在中型規模的機場起降。這造成[[維克斯子爵]]等以往於中程航線佔據優勢的雙螺旋槳飛機，噴射飛機也能如往常地起降。接著，波音公司更進一步研發短程距離使用的[[波音737]]噴射客機，讓航空界朝著噴射化前進。\n",
    "\n",
    "1963年，原本為了美軍CX-HLS次代運輸機計畫而研發的大型運輸機，在競標上輸給洛克希德公司後，因應泛美航空急於開發長距離國際航線的要求，將運輸機改為民航機，並在1969年完成初次飛行，這款飛機原本為了放置戰車，而將機首部分設計為雙層，導致外型極為特殊的飛機便是波音後來在民航機市場獲得巨大成功的超大型客機[[波音747]]。\n",
    "\n",
    "由於747在設計時引擎出力不足，速度性能上毫無優異表現，飛行時必須完全輕量化。但波音後來更改引擎，且加強機首至機尾的構造強度。747的機身以當時而言非常巨大，甚至有評論家無情地批評：「這將是滿是空位的機型」。\n",
    "\n",
    "不過，泛美航空仍然將747客機正式引進，[[日本航空]]、[[英國海外航空]]以及[[漢莎航空]]等大型國際航空公司也因青睞747絕佳的經濟性，因而引進這款飛機。航空公司努力將747這款飛機的空位填滿，導致機票的價格不斷下跌，一般旅客更能輕易地踏上這款巨無霸客機。747的成功使得這架飛機至今仍為世上最容易辨識的飛機之一，不僅受到各國航空公司喜愛，也被許多國家採用作為行政專機使用，更進一步奠定波音公司在民航業界霸主的地位。\n",
    "\n",
    "[[File:Pan Am Boeing 747 at Zurich Airport in May 1985.jpg|thumb|所屬泛美航空的波音747客機]]\n",
    "\n",
    "===超音速客機的開發===\n",
    "在開發波音747前，波音公司曾在1950年代至1960年代間以「次世代客機」為目標，著手研發超音速客機。1960年代，由於蘇聯、歐洲都展開[[超音速客機]]的研發計畫，這對美國政府而言無疑是一個挑戰，美國政府擔心失去超音速客機的市場失去優勢，推動「國家超音速運輸（'''National Super Sonic Transport '''）」這項計畫。在1963年6月5日，波音公司因應國家計劃而研發的超音速客機[[波音2707]]終於開發成功，接著在1966年擊敗麥克唐納-道格拉斯公司以及洛克希德公司提出的超音速客機計畫，成功贏得聯邦航空局的評選。\n",
    "\n",
    "1969年12月，以泛美航空為首的12架訂單，包含日本航空以及[[印度航空]]等26家大型航空公司在內，2707已經獲得122架訂單。不過由於民間擔心超高度的飛行可能造成臭氧層破壞，還有機場的起飛噪音以及飛機突破超音速時產生的音爆的原因而發起的抗議活動日益激烈，當時燃料費也日益提升。1971年3月，[[美國參議院]]決定撤銷這項计划的補助，在該年5月20日，波音公司最終只完成了兩架原型機就終止超音速客機的研發。\n",
    "\n",
    "===國際合作體制的形成===\n",
    "747投入市場後，噴射客機徹底席捲航空界。歐美各國航空器製造商也跟進投入研發噴射客機，不過由於技術日益進步，開發費用也跟著水漲船高，導致許多廠商無法獨自製造噴射客機，造成許多計畫中斷。為此，歐洲各國開始簽訂合約，共組多國籍的航空器製造商[[空中巴士]]。\n",
    "\n",
    "[[空中巴士]]當時僅只有短距離使用的噴射客機[[A300]]，在銷售上面臨苦戰。不過在各國政府的努力下，[[空中巴士]]在推出[[A320]]等噴射客機後，逐漸擴大自身的市場。然而，伴隨而來的是[[麥克唐納-道格拉斯公司]]和[[洛克希德公司]]在民航機市場上的競爭陷入苦戰。\n",
    "\n",
    "波音公司也歷經了[[第一次石油危機]]造成航空界的衰退，以及接連不斷的空難事故。民航機在高性能化以及大型化的同時，也須兼顧經濟性以及安全性。因此波音公司開發了727的後繼機種[[波音757]]，藉此迎戰空中巴士。757採用了許多先進技術，吸引美國以及歐洲的國內航線使用。不過當時的航空製造業界不流行獨自打造飛機，波音公司在順應這個情況下也開始了國際合作。在[[波音767]]這架宽體雙發，且採用許多先進技術的大型飛機，便是波音公司與日本和義大利等企業共同開發出來的。而介於767以及747間的大型宽體雙發的[[波音777]]，也是與世界各國廠商共同開發的產品之一。\n",
    "\n",
    "===收購麥克唐納·道格拉斯===\n",
    "波音長期在民航機佔有一席之地，但伴隨空中巴士快速成長的壓力，波音公司採取多角式經營，開始研究人工衛星等航天產品，還成立提供融資以及租賃服務的波音金融公司，公司因而急速成長。1997年，波音更進一步收購已經有多年歷史的飛機製造商麥克唐納·道格拉斯公司，將公司主力的國防部門移至過去，成立波音綜合國防系統集團。2017年，波音公司將位於St Louis的國防總部搬遷至[[五角大廈]]所在地華盛頓\n",
    "\n",
    "===21世紀===\n",
    "逐漸成為主力的民航部門，自777以後所提出的新機種開發計畫，幾乎都得不到投資者以及股東的支持，因此波音公司的新民航機開發計畫延宕了十年之久。在這期間，空中巴士趁勢不斷發表、販售更新更先進的機種，在市佔率上逐漸侵蝕波音的市場。總銷售額在1999年之後被追上，之後的情況更轉向對峙。波音為了力挽狂瀾，提出亞音速的[[音速巡航機]]以及大型客機747X的計畫對抗，不過隨之而來的[[911事件]]嚴重衝擊美國的航空業，許多國內航空公司不斷倒閉，也造成銷售量日益惡化。\n",
    "\n",
    "2005年，波音在睽違十年之後終於開始研發新一代的噴射客機，計畫定名為「波音7E7」，亦即[[波音787]]。熱銷20年，交付達1000架以上的757客機，以及稍小的737-300、737-400和737-500客機由於與787的重複性過高，因此決定停止生產，並開發其相關後繼機種。隨後為了需求日益擴大的中國市場，波音發表的747-400的後續機種[[波音747-8]]客機。\n",
    "\n",
    "2018年7月5日波音將透過成立價值47.5億美元的合資企業，購入[[巴西航空工業公司]]的商用客機（commercial aircraft ）業務的80%股權，[[巴西航空工業公司]]將持有20%股權，並維持對其國防和商務客機（business jet）業務的控制權\n",
    "\n",
    "2019年3月10日，衣索比亞航空一架波音737 MAX 8型飛機在起飛階段墜毀，機上人員全數遇難以後，737 MAX機型在4天之內[[2019年波音737 MAX停飛事件|均遭停飛]]。\n",
    "\n",
    "受[[2019年波音737 MAX停飛事件|737 MAX停飛事件]]影響，波音公司2019年的交付數量僅380架，較上年度的806架減少超過一半。这也是波音自2011年以来飛機交付數量首次被空巴超越，空中巴士以863架交付量取代波音成為全球最大的飞机制造商<ref>{{Cite news |url=http://news.cctv.com/2020/01/04/ARTInRrVDbpcBEpJlRk23RQM200104.shtml |title=8年來首超波音 空客成最大飛機製造商 |publisher=央視網}}</ref>。停飛事件也嚴重影響其飛機銷量，2019年淨訂單數目為-87架，這是超過30年來首次出現的訂單減少。同年，空中巴士獲得768架新訂單。2019年12月23日，波音宣佈首席執官丹尼斯·米倫伯格辭職，任命大衛·卡爾霍恩為總裁兼首席執行官，勞倫斯·凱爾納將擔任董事會主席。[[丹尼斯·米倫伯格|-{zh-cn:丹尼斯·米倫伯格;zh-hant:丹尼斯·米倫伯格;}-]]<ref>{{Cite web |title=Boeing ousts Muilenburg amid 737 MAX crisis; observers wonder if new CEO Calhoun will bring the right sort of change |url=https://www.seattletimes.com/business/boeing-aerospace/boeing-ousts-ceo-dennis-muilenberg/ |date=2019-12-23 |website=The Seattle Times |access-date=2019-12-24 |archive-url=https://web.archive.org/web/20191223215407/https://www.seattletimes.com/business/boeing-aerospace/boeing-ousts-ceo-dennis-muilenberg/ |archive-date=2019-12-23 |dead-url=no }}</ref>\n",
    "\n",
    "== 現狀 ==\n",
    "與麥道公司完成合併後的波音公司已經成為世界上航空航天領域規模最大的公司。波音公司由四個主要的業務集團組成：\n",
    "* 波音民用飛機集團（Boeing Commercial Airplanes），主要生產民用運輸機，主要產品包括：波音[[波音707|707]]、[[波音717|717]]、[[波音720|720]]、[[波音727|727]]、[[波音737|737]]、[[波音747|747]]、[[波音757|757]]、[[波音767|767]]、[[波音777|777]]、[[波音787|787]]系列飛機，提供從100座級別到500多座級別以及貨運型號在內的各種民用運輸機。全球同時在現役運營波音民用飛機有上萬架之多。目前，波音民用飛機集團的最新民航机——大量使用複合材料的波音[[波音787|787]]和波音747-8系列飛機已成功投入使用。 \n",
    "* 波音綜合國防系統集團（Boeing Integrated Defense Systems），主要生產軍用飛機（如與[[瑞典]][[紳寶集團|紳寶]]合作研製的[[T-7紅鷹教練機]]）、導彈以及運載火箭等產品。是美國航空航天局(NASA)最大的承包商。 \n",
    "* 波音金融公司（Boeing Capital），是提供資產融資和租賃服務的融資公司。 \n",
    "* 波音聯接公司（Connexion by Boeing），為飛機提供空中雙向互聯網及電視服務，把互聯網直接接入到民航班機上。 \n",
    "\n",
    "波音公司目前在全世界開設有50多個代表處，僱員20餘萬人。\n",
    "\n",
    "== 產品 ==\n",
    "===生產中===\n",
    "[[File:787sizecomp.svg|thumb|250px|各種機型大小比較：<br>787-8（'''黑色輪廓線'''）<br>[[波音777|777-300]]（<span style=\"background:#ffa7ff\">粉紅</span>）<br>[[波音767|767-300]](<span style=\"background:#a5ffff\">淺藍</span>)<br>[[波音737|737-800]] (<span style=\"background:#a0ffa0\">淺綠</span>) ]]\n",
    "{| class=\"wikitable sortable\" style=\"margin-left:auto; margin-right:auto\"\n",
    "|+ 產品列表及資料\n",
    "|-\n",
    "! 飛機\n",
    "! 待交付訂單\n",
    "! 描述\n",
    "! 座位\n",
    "! 最大載貨\n",
    "! 生產中的型號\n",
    "|-\n",
    "|[[波音737|737]]\n",
    "| 4221\n",
    "|雙引擎，單走道\n",
    "| 172-230 (二級)\n",
    "| -\n",
    "| [[波音737新世代|700, 800, 900ER]], [[波音C-40“快船”运输机|C-40]], [[E-737空中預警機|737 AEW&C]], [[P-8波賽頓海上巡邏機|P-8]], [[波音公務機|公務機]]\n",
    "|-\n",
    "|[[波音747|747]]\n",
    "| 15\n",
    "|四引擎，雙走道，雙層\n",
    "| 410 (三級)\n",
    "| 137.7公頓 / 303,700磅\n",
    "| [[747-8|8F]], [[波音公務機|公務機]]\n",
    "|-\n",
    "|[[波音767|767]]\n",
    "| 89\n",
    "|雙引擎，雙走道\n",
    "| 224-304 (二級)\n",
    "| 52,480公斤 / 115,700磅\n",
    "| 300F, [[波音KC-46|KC-767]], [[KC-767空中加油机|KC-46]], [[E-767空中預警機|E-767]]\n",
    "|-\n",
    "|[[波音777|777]]\n",
    "|372\n",
    "|雙引擎，雙走道\n",
    "| 317-396 (二級)\n",
    "| 102,010公斤 / 224,900磅\n",
    "| 200LR, 300ER, 貨機型, [[波音公務機|公務機]]\n",
    "|-\n",
    "|[[波音787|787]]\n",
    "|535\n",
    "|雙引擎，雙走道\n",
    "| 242-330 (二級)\n",
    "| -\n",
    "| 8, 9, 10, [[波音公務機|公務機]]\n",
    "|}\n",
    "註：未交付訂單截至2020年6月30日，當中包括軍用型號。<ref>{{Cite web |title=Orders & Deliveries |url=http://www.boeing.com/commercial/#/orders-deliveries |website=Boeing: Commercial |access-date=2019-10-12 |archive-url=https://web.archive.org/web/20110831144553/http://www.boeing.com/commercial/#/orders-deliveries |archive-date=2011-08-31 |dead-url=no }}</ref>\n",
    "\n",
    "=== 民航機 ===\n",
    "[[File:YAL-1A Airborne Laser unstowed.jpg|thumb|right|230px|先進的[[YAL-1]]機載雷射炮是波音最新軍事產品]]\n",
    "[[File:Boeing Everett Plant.jpg|thumb|right|230px|[[波音艾弗雷特工厂]]]]\n",
    "[[File:Boeing 787 Roll-out.jpg|thumb|right|230px|[[波音787]]出廠]]\n",
    "[[File:Air India Boeing 777-200LR Roll Out Everett, WA.jpg|thumb|right|230px|[[波音777]]]]\n",
    "* [[波音707|707]]：一款非常早期的中至長程、150至250人座級距之四發動機噴射客機系列。(四引擎)(民航機)\n",
    "* [[波音717|717]]：原名MD-95，是由麥道在與波音合併之前所開發的中短程百人座級距單走道噴射客機系列。(雙引擎)(支線客機)\n",
    "* [[波音727|727]]：一款較為早期的100至200人座級距之三發動機噴射客機系列。(三引擎)(民航機)\n",
    "* [[波音720|720]]：707的衍生機型\n",
    "* [[波音737|737]]：生產歷史悠久、衍生型眾多且使用廣泛的100至200人座雙發動機單走道噴射客機系列，根據機種差異適合營運的範圍介於短至中程航線。(雙引擎)(民航運輸)\n",
    "* [[波音747|747]]：世界上第一架配置有雙層甲板的客機，也是第一种[[宽体飞机]]，採四發動機配置，根據機種與艙等設計差異載客量介於200至500人不等的長程廣體客機系列。(四引擎)(雙層廣體客機)\n",
    "* [[波音757|757]]：為了取代727而開發出的中短程雙發動機噴射客機系列，載客量介於200至250人之間，單走道設計。(雙引擎)(民航運輸)\n",
    "* [[波音767|767]]：中型雙發動機廣體客機系列，因為機身大小適中，也經常被改造為政府或軍事用途的特殊機種。(雙引擎)(寬體噴氣式客機)\n",
    "* [[波音777|777]]：世界上第一款大型雙發動機長程廣體客機。(雙引擎)(廣體飛機)\n",
    "* [[波音787|787]]：用以取代767的中型廣體客機系列，根據機種的不同，適用範圍介於短途的區域性航線至中長程的越洋航線不等。(雙引擎)(民航客機)\n",
    "\n",
    "=== 研發中的民航機 ===\n",
    "* [[波音777X]]：波音777-300ER的续任产品，於2020年1月25日首飞。\n",
    "*波音797 : 波音公司目前正致力於開發一款新型中型飛機，非正式稱為797。該飛機是757和767系列之後的小型寬體飛機，它將填補200至270座椅的空間。預計這家美國製造商將在今年的巴黎航空展上正式宣布其NMA（新中型飛機）計劃。<ref>{{Cite web |title=Former Airbus manager thinks Boeing shouldn't launch the B797 |url=https://airlinerwatch.com/former-airbus-manager-thinks-boeing-shouldnt-launch-the-b797/ |accessdate=2019-05-06 |date=2019-01-30 |work=Airlinerwatch |archive-url=https://web.archive.org/web/20190506114324/https://airlinerwatch.com/former-airbus-manager-thinks-boeing-shouldnt-launch-the-b797/ |archive-date=2019-05-06 |dead-url=no }}</ref>\n",
    "\n",
    "=== 軍用飛機 ===\n",
    "包括與波音合併的麥克唐納-道格拉斯公司的產品\n",
    "*[[B-52]]同溫層堡壘轟炸機\n",
    "*[[F/A-18]]大黃蜂式戰鬥攻擊機\n",
    "*[[F/A-18E/F]]超級大黃蜂戰鬥攻擊機\n",
    "*[[EA-18G]]咆哮者電子作戰機\n",
    "*[[F-15]]鷹式戰鬥機\n",
    "*[[F-15E]]打擊鷹式戰鬥轟炸機\n",
    "\n",
    "== 波音公司與空中巴士公司 ==\n",
    "[[空中巴士]]公司由[[歐盟]]的[[法國]]、[[德國]]、[[英國]]和[[西班牙]]四國的宇航公司共同創立，自1970年成立以來，旗下製造的民航機，高安全性以及經濟性逐漸深受市場青睞，機種也不斷推陳出新的機種，以穩定的步調逐漸發展成為波音公司的主要競爭對手，波音公司在民航機的市佔率不斷被空中巴士公司鯨吞蠶食，兩者作為民航機兩大龍頭，雙方幾乎在全球展開面對面的訂單爭奪戰。雙方在激烈競爭的同時，還不斷的指控對方搞“不正當”競爭。波音指控四個國家的政府為空中巴士公司提供了大量的補貼，以及為購買空中公司飛機的航空公司提供低利貸款，違反了[[世界貿易組織]]的有關規則；而空中巴士公司反過來指責波音及其承包商也獲得巨額政府補貼。從而引發了美國與歐盟政府之間貿易爭端。雙方高層管理人員也在利用各種場合進行口舌之爭。而世界貿易組織在2019年先後裁決歐盟和美國違規補貼空中巴士和波音<ref>{{Cite web |url=http://www.xinhuanet.com/2019-10/15/c_1125104268.htm |title=世贸组织正式授权美国对欧盟采取贸易报复措施 |access-date=2019-10-15 |archive-url=https://web.archive.org/web/20191015110017/http://www.xinhuanet.com/2019-10/15/c_1125104268.htm |archive-date=2019-10-15 |dead-url=no }}</ref>。\n",
    "\n",
    "== 參考文獻 ==\n",
    "<div class=\"references-small\">\n",
    "<references />\n",
    "</div>\n",
    "\n",
    "== 外部链接 ==\n",
    "* [https://web.archive.org/web/20150928061415/http://ichainnel.com/zh-cn/read.php?id=433457_etpdbg 倾听波音：787停飞与供应链变革中的风险控制]\n",
    "{{commonscat|Boeing}}\n",
    "\n",
    "* [https://www.boeing.com 波音公司]{{en}}\n",
    "* [https://web.archive.org/web/20170625163630/http://www.boeingchina.com/ 波音中国]{{zh-cn}}\n",
    "* {{Twitter|Boeing}}\n",
    "* [http://blog.xuite.net/tyzzshuhwu/blog/58971163-%E7%94%B1ATA%E7%9E%AD%E8%A7%A3%E9%A3%9B%E6%A9%9F%E8%A8%AD%E8%A8%88(24)---ATA54+%E6%B4%BE%E9%BE%8D%E5%8F%8A%E7%99%BC%E5%8B%95%E6%A9%9F%E9%80%B2%E6%B0%A3%E5%A4%96%E7%BD%A9 ATA54+派龍及發動機進氣外罩]{{zh-tw}}\n",
    "\n",
    "{{波音}}\n",
    "{{波音型號}}\n",
    "{{波音客機}}\n",
    "{{Boeing7x7}}\n",
    "{{航空列表集}}\n",
    "{{Boeing combat aircraft}}\n",
    "{{DJIA}}\n",
    "{{Authority control}}\n",
    "{{DEFAULTSORT:Boeing}}\n",
    "[[Category:波音|*]]\n",
    "[[Category:道瓊斯工業平均指數成份股|B]]\n",
    "[[Category:纽约证券交易所上市公司]]\n",
    "[[Category:美國軍工廠]]\n",
    "[[Category:東京證券交易所已除牌公司]]\n",
    "[[Category:1916年成立的公司]]\n",
    "[[Category:科利尔奖获得者]]\n",
    "[[Category:美国飞机公司]] \n",
    "[[Category:美国的世界之最]]\n",
    "\n",
    "\"\"\""
   ]
  },
  {
   "cell_type": "code",
   "execution_count": 29,
   "metadata": {},
   "outputs": [
    {
     "data": {
      "text/plain": [
       "['thumb|200px|right|波音公司總部',\n",
       " '',\n",
       " '波音公司（）是美國一家開發、生產及销售固定翼飛機、旋翼机、运载火箭、导弹和人造卫星等產品，為世界最大的航天航空器製造商。於1997年併購麥克唐納-道格拉斯後，現在為美國境內唯一製造民航用廣體客機的公司，與歐洲空中巴士公司同為世界僅有的兩家大型民航機製造商，彼此瓜分市場。它也提供租赁及产品售后服务。波音公司總部設於伊利諾州芝加哥，在民用航空市场上擁有頗高的佔有率。',\n",
       " '',\n",
       " '波音同時是全球第二大國防承包商，軍售武器量僅次於洛克希德·馬丁，產值則高於全球第三的英國航太。單單2014年，該公司國防部門銷售總額達到290億美元，佔波音公司總收入的32%-35%左右。']"
      ]
     },
     "execution_count": 29,
     "metadata": {},
     "output_type": "execute_result"
    }
   ],
   "source": [
    "# Description\n",
    "import mwparserfromhell\n",
    "code = mwparserfromhell.parse(text)\n",
    "# code.strip_code().split('\\n')\n",
    "code.get_sections()[0].strip_code().split('\\n')\n",
    "# code.nodes\n",
    "\n",
    "# Tags\n",
    "\n",
    "# Ticks\n",
    "\n"
   ]
  }
 ],
 "metadata": {
  "kernelspec": {
   "display_name": "Python 3",
   "language": "python",
   "name": "python3"
  },
  "language_info": {
   "codemirror_mode": {
    "name": "ipython",
    "version": 3
   },
   "file_extension": ".py",
   "mimetype": "text/x-python",
   "name": "python",
   "nbconvert_exporter": "python",
   "pygments_lexer": "ipython3",
   "version": "3.7.7"
  }
 },
 "nbformat": 4,
 "nbformat_minor": 4
}
