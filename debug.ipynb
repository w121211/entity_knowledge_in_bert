{
 "cells": [
  {
   "cell_type": "code",
   "execution_count": 2,
   "metadata": {},
   "outputs": [],
   "source": [
    "from __future__ import annotations\n",
    "from SPARQLWrapper import SPARQLWrapper, JSON\n",
    "import os\n",
    "import sys\n",
    "import datetime\n",
    "import dateutil\n",
    "import json\n",
    "import pathlib\n",
    "import time\n",
    "from collections import defaultdict\n",
    "from typing import Any, Callable, Dict, Iterable, List, Tuple, Optional, Set, Union\n",
    "\n",
    "import elasticsearch\n",
    "import pandas as pd\n",
    "import requests\n",
    "import requests_cache\n",
    "import spacy\n",
    "import yfinance as yf\n",
    "from dotenv import load_dotenv\n",
    "from elasticsearch_dsl import connections, Document, Date, Keyword, Q, Search, Text, Range, Integer\n",
    "from flashtext import KeywordProcessor"
   ]
  },
  {
   "cell_type": "code",
   "execution_count": 1,
   "metadata": {},
   "outputs": [
    {
     "name": "stdout",
     "output_type": "stream",
     "text": [
      "/workspace/entity_knowledge_in_bert/bert_entity\n"
     ]
    }
   ],
   "source": [
    "%cd /workspace/entity_knowledge_in_bert/bert_entity\n",
    "from vocab import Vocab\n",
    "from data_loader_wiki import EDLDataset\n",
    "\n",
    "class args:\n",
    "    data_version_name = \"dummy\"\n",
    "    train_loc_file = \"train.loc\"\n",
    "    device = \"cpu\"\n",
    "    label_size = 1024\n",
    "    uncased = True\n",
    "    train_data_dir = \"data\"\n",
    "    wiki_lang_version = \"enwiki\"\n",
    "    batch_size = 1\n",
    "    data_workers = 4\n",
    "    collect_most_popular_labels_steps = 1\n",
    "    top_rnns = False\n",
    "    project = False\n",
    "    entity_embedding_size = 768\n",
    "    sparse = True\n",
    "    out_device = 'cpu'\n",
    "    finetuning = 3\n",
    "\n",
    "vocab = Vocab(args)\n",
    "train_dataset = EDLDataset(\n",
    "    args, split=\"train\", vocab=vocab, device=args.device, label_size=args.label_size)\n",
    "iterator = train_dataset.get_data_iter(args, batch_size=args.batch_size, vocab=vocab, train=True)\n",
    "\n",
    "for x in iterator:\n",
    "#     batch_token_ids, label_ids, label_probs, eval_mask, _, _, orig_batch, loaded_batch = x\n",
    "#     print(x)\n",
    "#     print()\n",
    "    break"
   ]
  },
  {
   "cell_type": "code",
   "execution_count": 7,
   "metadata": {},
   "outputs": [],
   "source": [
    "batch_token_ids, label_ids, label_probs, eval_mask, _, _, orig_batch, loaded_batch = x\n",
    "\n",
    "# batch_token_ids, label_ids\n",
    "# orig_batch\n",
    "# eval_mask\n",
    "# loaded_batch\n",
    "# label_probs.shape\n",
    "# label_ids.shape\n",
    "# batch_token_ids.shape\n",
    "# label_ids\n",
    "# for p in label_probs[0]:\n",
    "#     print(p)\n",
    "# label_probs[0, 13]\n",
    "# for p in label_probs[0]:\n",
    "#     print(p.sum())\n"
   ]
  },
  {
   "cell_type": "code",
   "execution_count": 3,
   "metadata": {},
   "outputs": [],
   "source": [
    "from model import Net\n",
    "model = Net(args, vocab.size())"
   ]
  },
  {
   "cell_type": "code",
   "execution_count": 4,
   "metadata": {},
   "outputs": [
    {
     "name": "stdout",
     "output_type": "stream",
     "text": [
      "tensor([ 1312, 51457,   184,  ..., 32567, 10045, 44862])\n"
     ]
    }
   ],
   "source": [
    "# print(model)\n",
    "y = model(batch_token_ids, label_ids, label_probs)"
   ]
  },
  {
   "cell_type": "code",
   "execution_count": 80,
   "metadata": {},
   "outputs": [
    {
     "data": {
      "text/plain": [
       "torch.Size([1024])"
      ]
     },
     "execution_count": 80,
     "metadata": {},
     "output_type": "execute_result"
    }
   ],
   "source": [
    "logits, _, y_hat, _, _, enc = y\n",
    "# logits.shape\n",
    "# logits\n",
    "# y_hat\n",
    "\n",
    "\n",
    "# vocab.size()\n",
    "label_ids."
   ]
  },
  {
   "cell_type": "code",
   "execution_count": 9,
   "metadata": {},
   "outputs": [],
   "source": [
    "from pytorch_pretrained_bert import BertModel\n",
    "\n",
    "bert = BertModel.from_pretrained(\"bert-base-uncased\")"
   ]
  },
  {
   "cell_type": "code",
   "execution_count": 59,
   "metadata": {},
   "outputs": [],
   "source": [
    "bert.eval()\n",
    "encoded_layers, _ = bert(batch_token_ids)\n",
    "# batch_token_ids.shape\n",
    "enc = encoded_layers[-1]"
   ]
  },
  {
   "cell_type": "code",
   "execution_count": 57,
   "metadata": {},
   "outputs": [
    {
     "data": {
      "text/plain": [
       "Embedding(51459, 768, sparse=True)"
      ]
     },
     "execution_count": 57,
     "metadata": {},
     "output_type": "execute_result"
    }
   ],
   "source": [
    "import torch.nn as nn\n",
    "out = nn.Embedding(num_embeddings=vocab.size(), embedding_dim=768, sparse=True)\n",
    "out.eval()"
   ]
  },
  {
   "cell_type": "code",
   "execution_count": 74,
   "metadata": {},
   "outputs": [
    {
     "data": {
      "text/plain": [
       "tensor(41.4637, grad_fn=<SelectBackward>)"
      ]
     },
     "execution_count": 74,
     "metadata": {},
     "output_type": "execute_result"
    }
   ],
   "source": [
    "# _.shape\n",
    "# encoded_layers[-1].shape\n",
    "embeded_labels = out(label_ids) # (1024, 768)\n",
    "embeded_labels = embeded_labels.transpose(0, 1)  # (768, 1024)\n",
    "logits = enc.matmul(embeded_labels) # (1, 254, 1024)\n",
    "# logits.argmax(-1)  # (1,254)\n",
    "logits[0,0,13]"
   ]
  },
  {
   "cell_type": "code",
   "execution_count": 5,
   "metadata": {},
   "outputs": [
    {
     "data": {
      "text/plain": [
       "tensor([[0.3413, 0.5543, 0.3464, 0.6351, 0.4112]])"
      ]
     },
     "execution_count": 5,
     "metadata": {},
     "output_type": "execute_result"
    }
   ],
   "source": [
    "import torch\n",
    "import torch.nn.functional as F\n",
    "x = torch.randn(1, 5)  # (1, 5)\n",
    "y = torch.randint(5, (1,), dtype=torch.int64)  # (1, )\n",
    "loss = F.cross_entropy(x, y)\n",
    "# loss\n",
    "# x.shape, y.shape\n",
    "# x, y\n",
    "\n",
    "x = torch.randn((1, 5))\n",
    "y = torch.rand((1, 5))\n",
    "# F.binary_cross_entropy(torch.sigmoid(x), y)\n",
    "# x, y\n",
    "# F.binary_cross_entropy(x, y)\n",
    "# torch.sigmoid(x)\n",
    "y\n",
    "y.to(\"cpu\")"
   ]
  },
  {
   "cell_type": "code",
   "execution_count": 3,
   "metadata": {},
   "outputs": [],
   "source": [
    "def count_corpus_mentions_cooccurs(mentions: Dict[str, List[str]]) -> Any:\n",
    "    mention2idx = get_mention2idx_dict(mentions)\n",
    "\n",
    "    def count_cooccur(bag: Iterable[int], cooccur: Dict[int, Dict[int, int]] = defaultdict(lambda: defaultdict(int))) -> Dict[int, Dict[int, int]]:\n",
    "        for a in bag:\n",
    "            for b in bag:\n",
    "                cooccur[a][b] += 1\n",
    "        return cooccur\n",
    "\n",
    "    nlp = spacy.load('en_core_web_sm')\n",
    "    processor = KeywordProcessor()\n",
    "    processor.add_keywords_from_dict(mentions)\n",
    "\n",
    "    sent_cooccur, atk_cooccur = defaultdict(\n",
    "        lambda: defaultdict(int)), defaultdict(lambda: defaultdict(int))\n",
    "    atk_bags = []\n",
    "    for i, hit in enumerate(es.scan_scraper_page(\"*cnbc*\")):\n",
    "        if i % 100 == 0:\n",
    "            print(i)\n",
    "        if i > 1000:\n",
    "            break\n",
    "        sents = []\n",
    "        try:\n",
    "            sents.append(hit.article_title)\n",
    "        except:\n",
    "            pass\n",
    "        try:\n",
    "            sents += [sent.text for sent in nlp(hit.article_text).sents]\n",
    "        except:\n",
    "            pass\n",
    "\n",
    "        atk_bag = set()\n",
    "        for sent in sents:\n",
    "            kws = processor.extract_keywords(sent, span_info=False)\n",
    "            sent_bag = [mention2idx[kw] for kw in kws]\n",
    "            sent_cooccur = count_cooccur(sent_bag, sent_cooccur)\n",
    "            atk_bag |= set(sent_bag)\n",
    "        atk_cooccur = count_cooccur(atk_bag, atk_cooccur)\n",
    "        atk_bags.append(atk_bag)\n",
    "\n",
    "    return (\n",
    "        # 在一個句子中，兩個entity同時出現的次數: {a: {a: 4, b: 2, c:1}, b: {...}}\n",
    "        dict(sent_cooccur),\n",
    "        # 在一篇文章中，兩個entity同時出現的次數: {a: {a: 4, b: 2, c:1}, b: {...}}\n",
    "        dict(atk_cooccur),\n",
    "        # 在一篇文章中出現的entities集合成一個bag: [{a, b, c}, {a, c, f}, ...]\n",
    "        set(map(frozenset, atk_bags)),)"
   ]
  },
  {
   "cell_type": "code",
   "execution_count": 5,
   "metadata": {},
   "outputs": [
    {
     "ename": "FileNotFoundError",
     "evalue": "[Errno 2] No such file or directory: '/workspace/entity_knowledge_in_bert/app/outputs/wiki_mentions.json'",
     "output_type": "error",
     "traceback": [
      "\u001b[0;31m---------------------------------------------------------------------------\u001b[0m",
      "\u001b[0;31mFileNotFoundError\u001b[0m                         Traceback (most recent call last)",
      "\u001b[0;32m<ipython-input-5-ab34442321ea>\u001b[0m in \u001b[0;36m<module>\u001b[0;34m\u001b[0m\n\u001b[1;32m      1\u001b[0m \u001b[0mfilepath\u001b[0m \u001b[0;34m=\u001b[0m \u001b[0;34m\"/workspace/entity_knowledge_in_bert/app/outputs/wiki_mentions.json\"\u001b[0m\u001b[0;34m\u001b[0m\u001b[0;34m\u001b[0m\u001b[0m\n\u001b[1;32m      2\u001b[0m \u001b[0;34m\u001b[0m\u001b[0m\n\u001b[0;32m----> 3\u001b[0;31m \u001b[0;32mwith\u001b[0m \u001b[0mopen\u001b[0m\u001b[0;34m(\u001b[0m\u001b[0mfilepath\u001b[0m\u001b[0;34m,\u001b[0m \u001b[0mencoding\u001b[0m\u001b[0;34m=\u001b[0m\u001b[0;34m'utf-8'\u001b[0m\u001b[0;34m)\u001b[0m \u001b[0;32mas\u001b[0m \u001b[0mf\u001b[0m\u001b[0;34m:\u001b[0m\u001b[0;34m\u001b[0m\u001b[0;34m\u001b[0m\u001b[0m\n\u001b[0m\u001b[1;32m      4\u001b[0m     \u001b[0mmentions\u001b[0m \u001b[0;34m=\u001b[0m \u001b[0mjson\u001b[0m\u001b[0;34m.\u001b[0m\u001b[0mload\u001b[0m\u001b[0;34m(\u001b[0m\u001b[0mf\u001b[0m\u001b[0;34m)\u001b[0m\u001b[0;34m\u001b[0m\u001b[0;34m\u001b[0m\u001b[0m\n\u001b[1;32m      5\u001b[0m \u001b[0;34m\u001b[0m\u001b[0m\n",
      "\u001b[0;31mFileNotFoundError\u001b[0m: [Errno 2] No such file or directory: '/workspace/entity_knowledge_in_bert/app/outputs/wiki_mentions.json'"
     ]
    }
   ],
   "source": [
    "filepath = \"/workspace/entity_knowledge_in_bert/app/outputs/wiki_mentions.json\"\n",
    "\n",
    "with open(filepath, encoding='utf-8') as f:\n",
    "    mentions = json.load(f)\n",
    "\n",
    "mentions"
   ]
  },
  {
   "cell_type": "code",
   "execution_count": 13,
   "metadata": {},
   "outputs": [
    {
     "name": "stdout",
     "output_type": "stream",
     "text": [
      "0\n",
      "1\n"
     ]
    },
    {
     "data": {
      "text/plain": [
       "(1,\n",
       " b'{\"index\":{\"_type\":\"page\",\"_id\":\"1847\"}}\\n',\n",
       " b'{\"template\":[],\"redirect\":[],\"content_model\":\"wikitext\",\"heading\":[],\"source_text\":\"<\\\\/div>\\\\n<\\\\/div>\\\\n<\\\\/div><!-- END STYLE INFORMATION --><noinclude>\\\\n<\\\\/noinclude>\",\"version_type\":\"external\",\"opening_text\":null,\"wiki\":\"aawiki\",\"coordinates\":[],\"auxiliary_text\":[],\"language\":\"aa\",\"title\":\"ReyBrujo\\\\/Styles\\\\/Footer\",\"version\":2992,\"external_link\":[],\"namespace_text\":\"User\",\"namespace\":2,\"text_bytes\":74,\"incoming_links\":0,\"text\":\"\",\"category\":[],\"defaultsort\":false,\"outgoing_link\":[],\"timestamp\":\"2007-03-19T00:57:49Z\",\"create_timestamp\":\"2007-03-19T00:57:49Z\"}\\n')"
      ]
     },
     "execution_count": 13,
     "metadata": {},
     "output_type": "execute_result"
    }
   ],
   "source": [
    "def get_lines():\n",
    "    with gzip.open(\"/workspace/entity_knowledge_in_bert/app/downloads/cirrus/aawiki-20200907-cirrussearch-general.json.gz\", 'r') as f:        \n",
    "        for i, ln1 in enumerate(f):\n",
    "            print(i)\n",
    "            ln2 = next(f)\n",
    "            yield i, ln1, ln2\n",
    "\n",
    "g = get_lines()\n",
    "next(g)\n",
    "next(g)"
   ]
  },
  {
   "cell_type": "code",
   "execution_count": 2,
   "metadata": {},
   "outputs": [
    {
     "name": "stdout",
     "output_type": "stream",
     "text": [
      "0\n",
      "1\n",
      "2\n",
      "3\n",
      "Working on 2 : 0\n",
      "Working on 0 : 1\n",
      "4\n",
      "5\n",
      "6\n",
      "7\n",
      "8\n",
      "9\n",
      "All task requests sent\n",
      "Working on 3 : 2\n",
      "Working on 4 : 3\n",
      "Working on 1 : 4\n",
      "10\n",
      "Working on 1 : 5\n",
      "11\n",
      "Working on 2 : 6\n",
      "12\n",
      "Working on 0 : 7\n",
      "13\n",
      "Working on 1 : 8\n",
      "14\n",
      "Working on 4 : 9\n",
      "15\n",
      "Working on 3 : 10\n",
      "16\n",
      "Working on 1 : 11\n",
      "17\n",
      "Working on 2 : 12\n",
      "18\n",
      "Working on 0 : 13\n",
      "19\n",
      "Working on 4 : 14\n",
      "20\n",
      "Working on 3 : 15\n",
      "21\n",
      "Working on 1 : 16\n",
      "22\n",
      "Working on 1 : 17\n",
      "23\n",
      "Working on 2 : 18\n",
      "24\n",
      "Working on 0 : 19\n",
      "25\n",
      "Working on 4 : 20\n",
      "26\n",
      "Working on 3 : 21\n",
      "27\n",
      "Working on 1 : 22\n",
      "28\n",
      "Working on 1 : 23\n",
      "29\n",
      "Working on 2 : 24\n",
      "30\n",
      "Working on 0 : 25\n",
      "31\n",
      "Working on 3 : 26\n",
      "32\n",
      "Working on 4 : 27\n",
      "33\n",
      "Working on 1 : 28\n"
     ]
    },
    {
     "ename": "KeyboardInterrupt",
     "evalue": "",
     "output_type": "error",
     "traceback": [
      "\u001b[0;31m---------------------------------------------------------------------------\u001b[0m",
      "\u001b[0;31mKeyboardInterrupt\u001b[0m                         Traceback (most recent call last)",
      "\u001b[0;32m<ipython-input-2-684f7efc220e>\u001b[0m in \u001b[0;36m<module>\u001b[0;34m\u001b[0m\n\u001b[1;32m     59\u001b[0m \u001b[0;34m\u001b[0m\u001b[0m\n\u001b[1;32m     60\u001b[0m \u001b[0;31m# block until all tasks are done\u001b[0m\u001b[0;34m\u001b[0m\u001b[0;34m\u001b[0m\u001b[0;34m\u001b[0m\u001b[0m\n\u001b[0;32m---> 61\u001b[0;31m \u001b[0mq\u001b[0m\u001b[0;34m.\u001b[0m\u001b[0mjoin\u001b[0m\u001b[0;34m(\u001b[0m\u001b[0;34m)\u001b[0m\u001b[0;34m\u001b[0m\u001b[0;34m\u001b[0m\u001b[0m\n\u001b[0m\u001b[1;32m     62\u001b[0m \u001b[0mprint\u001b[0m\u001b[0;34m(\u001b[0m\u001b[0;34m'All work completed'\u001b[0m\u001b[0;34m)\u001b[0m\u001b[0;34m\u001b[0m\u001b[0;34m\u001b[0m\u001b[0m\n",
      "\u001b[0;32m/opt/conda/lib/python3.7/queue.py\u001b[0m in \u001b[0;36mjoin\u001b[0;34m(self)\u001b[0m\n\u001b[1;32m     87\u001b[0m         \u001b[0;32mwith\u001b[0m \u001b[0mself\u001b[0m\u001b[0;34m.\u001b[0m\u001b[0mall_tasks_done\u001b[0m\u001b[0;34m:\u001b[0m\u001b[0;34m\u001b[0m\u001b[0;34m\u001b[0m\u001b[0m\n\u001b[1;32m     88\u001b[0m             \u001b[0;32mwhile\u001b[0m \u001b[0mself\u001b[0m\u001b[0;34m.\u001b[0m\u001b[0munfinished_tasks\u001b[0m\u001b[0;34m:\u001b[0m\u001b[0;34m\u001b[0m\u001b[0;34m\u001b[0m\u001b[0m\n\u001b[0;32m---> 89\u001b[0;31m                 \u001b[0mself\u001b[0m\u001b[0;34m.\u001b[0m\u001b[0mall_tasks_done\u001b[0m\u001b[0;34m.\u001b[0m\u001b[0mwait\u001b[0m\u001b[0;34m(\u001b[0m\u001b[0;34m)\u001b[0m\u001b[0;34m\u001b[0m\u001b[0;34m\u001b[0m\u001b[0m\n\u001b[0m\u001b[1;32m     90\u001b[0m \u001b[0;34m\u001b[0m\u001b[0m\n\u001b[1;32m     91\u001b[0m     \u001b[0;32mdef\u001b[0m \u001b[0mqsize\u001b[0m\u001b[0;34m(\u001b[0m\u001b[0mself\u001b[0m\u001b[0;34m)\u001b[0m\u001b[0;34m:\u001b[0m\u001b[0;34m\u001b[0m\u001b[0;34m\u001b[0m\u001b[0m\n",
      "\u001b[0;32m/opt/conda/lib/python3.7/threading.py\u001b[0m in \u001b[0;36mwait\u001b[0;34m(self, timeout)\u001b[0m\n\u001b[1;32m    294\u001b[0m         \u001b[0;32mtry\u001b[0m\u001b[0;34m:\u001b[0m    \u001b[0;31m# restore state no matter what (e.g., KeyboardInterrupt)\u001b[0m\u001b[0;34m\u001b[0m\u001b[0;34m\u001b[0m\u001b[0m\n\u001b[1;32m    295\u001b[0m             \u001b[0;32mif\u001b[0m \u001b[0mtimeout\u001b[0m \u001b[0;32mis\u001b[0m \u001b[0;32mNone\u001b[0m\u001b[0;34m:\u001b[0m\u001b[0;34m\u001b[0m\u001b[0;34m\u001b[0m\u001b[0m\n\u001b[0;32m--> 296\u001b[0;31m                 \u001b[0mwaiter\u001b[0m\u001b[0;34m.\u001b[0m\u001b[0macquire\u001b[0m\u001b[0;34m(\u001b[0m\u001b[0;34m)\u001b[0m\u001b[0;34m\u001b[0m\u001b[0;34m\u001b[0m\u001b[0m\n\u001b[0m\u001b[1;32m    297\u001b[0m                 \u001b[0mgotit\u001b[0m \u001b[0;34m=\u001b[0m \u001b[0;32mTrue\u001b[0m\u001b[0;34m\u001b[0m\u001b[0;34m\u001b[0m\u001b[0m\n\u001b[1;32m    298\u001b[0m             \u001b[0;32melse\u001b[0m\u001b[0;34m:\u001b[0m\u001b[0;34m\u001b[0m\u001b[0;34m\u001b[0m\u001b[0m\n",
      "\u001b[0;31mKeyboardInterrupt\u001b[0m: "
     ]
    }
   ],
   "source": [
    "import time\n",
    "import gzip\n",
    "import threading, queue\n",
    "\n",
    "class threadsafe_iter:\n",
    "    \"\"\"Takes an iterator/generator and makes it thread-safe by\n",
    "    serializing call to the `next` method of given iterator/generator.\n",
    "    \"\"\"\n",
    "    def __init__(self, it):\n",
    "        self.it = it\n",
    "        self.lock = threading.Lock()\n",
    "\n",
    "    def __iter__(self):\n",
    "        return self\n",
    "\n",
    "    def __next__(self):\n",
    "        with self.lock:\n",
    "            return self.it.__next__()\n",
    "\n",
    "def threadsafe_generator(f):\n",
    "    \"\"\"A decorator that takes a generator function and makes it thread-safe.\n",
    "    \"\"\"\n",
    "    def g(*a, **kw):\n",
    "        return threadsafe_iter(f(*a, **kw))\n",
    "    return g\n",
    "\n",
    "@threadsafe_generator\n",
    "def read_line():\n",
    "    with gzip.open(\"/workspace/entity_knowledge_in_bert/app/downloads/cirrus/aawiki-20200907-cirrussearch-general.json.gz\", 'r') as f:        \n",
    "        for i, ln1 in enumerate(f):\n",
    "            print(i)\n",
    "            ln2 = next(f)\n",
    "            yield i, ln1, ln2\n",
    "\n",
    "q = queue.Queue()\n",
    "readline = read_line()\n",
    "            \n",
    "def worker(thread_i):\n",
    "    while True:\n",
    "        i, ln1, ln2 = q.get()\n",
    "        print(f'Working on {thread_i} : {i}')\n",
    "#         print(f'Finished {item}')\n",
    "        time.sleep(3)\n",
    "\n",
    "        i, ln1, ln2 = next(readline)\n",
    "        q.put((i, ln1, ln2))\n",
    "        q.task_done()\n",
    "\n",
    "for i in range(5):\n",
    "    threading.Thread(target=worker,args=(i,)).start()\n",
    "#     threading.Thread(target=wrapper_targetFunc,\n",
    "#                      args=(targetFunction, q, otherarg)).start()\n",
    "\n",
    "for _ in range(10):\n",
    "    i, ln1, ln2 = next(readline)\n",
    "    q.put((i, ln1, ln2))\n",
    "\n",
    "print('All task requests sent')\n",
    "\n",
    "# block until all tasks are done\n",
    "q.join()\n",
    "print('All work completed')"
   ]
  },
  {
   "cell_type": "code",
   "execution_count": 9,
   "metadata": {},
   "outputs": [
    {
     "name": "stdout",
     "output_type": "stream",
     "text": [
      "Requirement already satisfied: pip in /opt/conda/lib/python3.7/site-packages (20.0.2)\n",
      "Collecting install\n",
      "  Downloading install-1.3.4-py3-none-any.whl (3.1 kB)\n",
      "Collecting ixbrlparse\n",
      "  Downloading ixbrlparse-0.1.2.tar.gz (9.0 kB)\n",
      "Requirement already satisfied: beautifulsoup4 in /opt/conda/lib/python3.7/site-packages (from ixbrlparse) (4.9.1)\n",
      "Requirement already satisfied: lxml in /opt/conda/lib/python3.7/site-packages (from ixbrlparse) (4.5.2)\n",
      "Requirement already satisfied: soupsieve>1.2 in /opt/conda/lib/python3.7/site-packages (from beautifulsoup4->ixbrlparse) (2.0.1)\n",
      "Building wheels for collected packages: ixbrlparse\n",
      "  Building wheel for ixbrlparse (setup.py) ... \u001b[?25ldone\n",
      "\u001b[?25h  Created wheel for ixbrlparse: filename=ixbrlparse-0.1.2-py3-none-any.whl size=8174 sha256=76f9c2416adc0a6304771f209eccc12016aa41d11420a72c06b34b07a83cc9c1\n",
      "  Stored in directory: /root/.cache/pip/wheels/54/f1/7d/469ed056196dee602624dceb93767639d3739d3e0e92911a86\n",
      "Successfully built ixbrlparse\n",
      "Installing collected packages: install, ixbrlparse\n",
      "Successfully installed install-1.3.4 ixbrlparse-0.1.2\n"
     ]
    }
   ],
   "source": [
    "# EDGAR\n",
    "# !pip install secedgar\n",
    "# !pip install python-xbrl\n",
    "!pip install ixbrlparse"
   ]
  },
  {
   "cell_type": "code",
   "execution_count": 1,
   "metadata": {},
   "outputs": [
    {
     "ename": "ConnectionError",
     "evalue": "HTTPConnectionPool(host='www.sec.gov', port=80): Max retries exceeded with url: /cgi-bin/browse-edgar?action=getcompany&CIK=aapl (Caused by NewConnectionError('<urllib3.connection.HTTPConnection object at 0x7ff9c9f536d0>: Failed to establish a new connection: [Errno -2] Name or service not known'))",
     "output_type": "error",
     "traceback": [
      "\u001b[0;31m---------------------------------------------------------------------------\u001b[0m",
      "\u001b[0;31mgaierror\u001b[0m                                  Traceback (most recent call last)",
      "\u001b[0;32m/opt/conda/lib/python3.7/site-packages/urllib3/connection.py\u001b[0m in \u001b[0;36m_new_conn\u001b[0;34m(self)\u001b[0m\n\u001b[1;32m    156\u001b[0m             conn = connection.create_connection(\n\u001b[0;32m--> 157\u001b[0;31m                 \u001b[0;34m(\u001b[0m\u001b[0mself\u001b[0m\u001b[0;34m.\u001b[0m\u001b[0m_dns_host\u001b[0m\u001b[0;34m,\u001b[0m \u001b[0mself\u001b[0m\u001b[0;34m.\u001b[0m\u001b[0mport\u001b[0m\u001b[0;34m)\u001b[0m\u001b[0;34m,\u001b[0m \u001b[0mself\u001b[0m\u001b[0;34m.\u001b[0m\u001b[0mtimeout\u001b[0m\u001b[0;34m,\u001b[0m \u001b[0;34m**\u001b[0m\u001b[0mextra_kw\u001b[0m\u001b[0;34m\u001b[0m\u001b[0;34m\u001b[0m\u001b[0m\n\u001b[0m\u001b[1;32m    158\u001b[0m             )\n",
      "\u001b[0;32m/opt/conda/lib/python3.7/site-packages/urllib3/util/connection.py\u001b[0m in \u001b[0;36mcreate_connection\u001b[0;34m(address, timeout, source_address, socket_options)\u001b[0m\n\u001b[1;32m     60\u001b[0m \u001b[0;34m\u001b[0m\u001b[0m\n\u001b[0;32m---> 61\u001b[0;31m     \u001b[0;32mfor\u001b[0m \u001b[0mres\u001b[0m \u001b[0;32min\u001b[0m \u001b[0msocket\u001b[0m\u001b[0;34m.\u001b[0m\u001b[0mgetaddrinfo\u001b[0m\u001b[0;34m(\u001b[0m\u001b[0mhost\u001b[0m\u001b[0;34m,\u001b[0m \u001b[0mport\u001b[0m\u001b[0;34m,\u001b[0m \u001b[0mfamily\u001b[0m\u001b[0;34m,\u001b[0m \u001b[0msocket\u001b[0m\u001b[0;34m.\u001b[0m\u001b[0mSOCK_STREAM\u001b[0m\u001b[0;34m)\u001b[0m\u001b[0;34m:\u001b[0m\u001b[0;34m\u001b[0m\u001b[0;34m\u001b[0m\u001b[0m\n\u001b[0m\u001b[1;32m     62\u001b[0m         \u001b[0maf\u001b[0m\u001b[0;34m,\u001b[0m \u001b[0msocktype\u001b[0m\u001b[0;34m,\u001b[0m \u001b[0mproto\u001b[0m\u001b[0;34m,\u001b[0m \u001b[0mcanonname\u001b[0m\u001b[0;34m,\u001b[0m \u001b[0msa\u001b[0m \u001b[0;34m=\u001b[0m \u001b[0mres\u001b[0m\u001b[0;34m\u001b[0m\u001b[0;34m\u001b[0m\u001b[0m\n",
      "\u001b[0;32m/opt/conda/lib/python3.7/socket.py\u001b[0m in \u001b[0;36mgetaddrinfo\u001b[0;34m(host, port, family, type, proto, flags)\u001b[0m\n\u001b[1;32m    751\u001b[0m     \u001b[0maddrlist\u001b[0m \u001b[0;34m=\u001b[0m \u001b[0;34m[\u001b[0m\u001b[0;34m]\u001b[0m\u001b[0;34m\u001b[0m\u001b[0;34m\u001b[0m\u001b[0m\n\u001b[0;32m--> 752\u001b[0;31m     \u001b[0;32mfor\u001b[0m \u001b[0mres\u001b[0m \u001b[0;32min\u001b[0m \u001b[0m_socket\u001b[0m\u001b[0;34m.\u001b[0m\u001b[0mgetaddrinfo\u001b[0m\u001b[0;34m(\u001b[0m\u001b[0mhost\u001b[0m\u001b[0;34m,\u001b[0m \u001b[0mport\u001b[0m\u001b[0;34m,\u001b[0m \u001b[0mfamily\u001b[0m\u001b[0;34m,\u001b[0m \u001b[0mtype\u001b[0m\u001b[0;34m,\u001b[0m \u001b[0mproto\u001b[0m\u001b[0;34m,\u001b[0m \u001b[0mflags\u001b[0m\u001b[0;34m)\u001b[0m\u001b[0;34m:\u001b[0m\u001b[0;34m\u001b[0m\u001b[0;34m\u001b[0m\u001b[0m\n\u001b[0m\u001b[1;32m    753\u001b[0m         \u001b[0maf\u001b[0m\u001b[0;34m,\u001b[0m \u001b[0msocktype\u001b[0m\u001b[0;34m,\u001b[0m \u001b[0mproto\u001b[0m\u001b[0;34m,\u001b[0m \u001b[0mcanonname\u001b[0m\u001b[0;34m,\u001b[0m \u001b[0msa\u001b[0m \u001b[0;34m=\u001b[0m \u001b[0mres\u001b[0m\u001b[0;34m\u001b[0m\u001b[0;34m\u001b[0m\u001b[0m\n",
      "\u001b[0;31mgaierror\u001b[0m: [Errno -2] Name or service not known",
      "\nDuring handling of the above exception, another exception occurred:\n",
      "\u001b[0;31mNewConnectionError\u001b[0m                        Traceback (most recent call last)",
      "\u001b[0;32m/opt/conda/lib/python3.7/site-packages/urllib3/connectionpool.py\u001b[0m in \u001b[0;36murlopen\u001b[0;34m(self, method, url, body, headers, retries, redirect, assert_same_host, timeout, pool_timeout, release_conn, chunked, body_pos, **response_kw)\u001b[0m\n\u001b[1;32m    671\u001b[0m                 \u001b[0mheaders\u001b[0m\u001b[0;34m=\u001b[0m\u001b[0mheaders\u001b[0m\u001b[0;34m,\u001b[0m\u001b[0;34m\u001b[0m\u001b[0;34m\u001b[0m\u001b[0m\n\u001b[0;32m--> 672\u001b[0;31m                 \u001b[0mchunked\u001b[0m\u001b[0;34m=\u001b[0m\u001b[0mchunked\u001b[0m\u001b[0;34m,\u001b[0m\u001b[0;34m\u001b[0m\u001b[0;34m\u001b[0m\u001b[0m\n\u001b[0m\u001b[1;32m    673\u001b[0m             )\n",
      "\u001b[0;32m/opt/conda/lib/python3.7/site-packages/urllib3/connectionpool.py\u001b[0m in \u001b[0;36m_make_request\u001b[0;34m(self, conn, method, url, timeout, chunked, **httplib_request_kw)\u001b[0m\n\u001b[1;32m    386\u001b[0m         \u001b[0;32melse\u001b[0m\u001b[0;34m:\u001b[0m\u001b[0;34m\u001b[0m\u001b[0;34m\u001b[0m\u001b[0m\n\u001b[0;32m--> 387\u001b[0;31m             \u001b[0mconn\u001b[0m\u001b[0;34m.\u001b[0m\u001b[0mrequest\u001b[0m\u001b[0;34m(\u001b[0m\u001b[0mmethod\u001b[0m\u001b[0;34m,\u001b[0m \u001b[0murl\u001b[0m\u001b[0;34m,\u001b[0m \u001b[0;34m**\u001b[0m\u001b[0mhttplib_request_kw\u001b[0m\u001b[0;34m)\u001b[0m\u001b[0;34m\u001b[0m\u001b[0;34m\u001b[0m\u001b[0m\n\u001b[0m\u001b[1;32m    388\u001b[0m \u001b[0;34m\u001b[0m\u001b[0m\n",
      "\u001b[0;32m/opt/conda/lib/python3.7/http/client.py\u001b[0m in \u001b[0;36mrequest\u001b[0;34m(self, method, url, body, headers, encode_chunked)\u001b[0m\n\u001b[1;32m   1251\u001b[0m         \u001b[0;34m\"\"\"Send a complete request to the server.\"\"\"\u001b[0m\u001b[0;34m\u001b[0m\u001b[0;34m\u001b[0m\u001b[0m\n\u001b[0;32m-> 1252\u001b[0;31m         \u001b[0mself\u001b[0m\u001b[0;34m.\u001b[0m\u001b[0m_send_request\u001b[0m\u001b[0;34m(\u001b[0m\u001b[0mmethod\u001b[0m\u001b[0;34m,\u001b[0m \u001b[0murl\u001b[0m\u001b[0;34m,\u001b[0m \u001b[0mbody\u001b[0m\u001b[0;34m,\u001b[0m \u001b[0mheaders\u001b[0m\u001b[0;34m,\u001b[0m \u001b[0mencode_chunked\u001b[0m\u001b[0;34m)\u001b[0m\u001b[0;34m\u001b[0m\u001b[0;34m\u001b[0m\u001b[0m\n\u001b[0m\u001b[1;32m   1253\u001b[0m \u001b[0;34m\u001b[0m\u001b[0m\n",
      "\u001b[0;32m/opt/conda/lib/python3.7/http/client.py\u001b[0m in \u001b[0;36m_send_request\u001b[0;34m(self, method, url, body, headers, encode_chunked)\u001b[0m\n\u001b[1;32m   1297\u001b[0m             \u001b[0mbody\u001b[0m \u001b[0;34m=\u001b[0m \u001b[0m_encode\u001b[0m\u001b[0;34m(\u001b[0m\u001b[0mbody\u001b[0m\u001b[0;34m,\u001b[0m \u001b[0;34m'body'\u001b[0m\u001b[0;34m)\u001b[0m\u001b[0;34m\u001b[0m\u001b[0;34m\u001b[0m\u001b[0m\n\u001b[0;32m-> 1298\u001b[0;31m         \u001b[0mself\u001b[0m\u001b[0;34m.\u001b[0m\u001b[0mendheaders\u001b[0m\u001b[0;34m(\u001b[0m\u001b[0mbody\u001b[0m\u001b[0;34m,\u001b[0m \u001b[0mencode_chunked\u001b[0m\u001b[0;34m=\u001b[0m\u001b[0mencode_chunked\u001b[0m\u001b[0;34m)\u001b[0m\u001b[0;34m\u001b[0m\u001b[0;34m\u001b[0m\u001b[0m\n\u001b[0m\u001b[1;32m   1299\u001b[0m \u001b[0;34m\u001b[0m\u001b[0m\n",
      "\u001b[0;32m/opt/conda/lib/python3.7/http/client.py\u001b[0m in \u001b[0;36mendheaders\u001b[0;34m(self, message_body, encode_chunked)\u001b[0m\n\u001b[1;32m   1246\u001b[0m             \u001b[0;32mraise\u001b[0m \u001b[0mCannotSendHeader\u001b[0m\u001b[0;34m(\u001b[0m\u001b[0;34m)\u001b[0m\u001b[0;34m\u001b[0m\u001b[0;34m\u001b[0m\u001b[0m\n\u001b[0;32m-> 1247\u001b[0;31m         \u001b[0mself\u001b[0m\u001b[0;34m.\u001b[0m\u001b[0m_send_output\u001b[0m\u001b[0;34m(\u001b[0m\u001b[0mmessage_body\u001b[0m\u001b[0;34m,\u001b[0m \u001b[0mencode_chunked\u001b[0m\u001b[0;34m=\u001b[0m\u001b[0mencode_chunked\u001b[0m\u001b[0;34m)\u001b[0m\u001b[0;34m\u001b[0m\u001b[0;34m\u001b[0m\u001b[0m\n\u001b[0m\u001b[1;32m   1248\u001b[0m \u001b[0;34m\u001b[0m\u001b[0m\n",
      "\u001b[0;32m/opt/conda/lib/python3.7/http/client.py\u001b[0m in \u001b[0;36m_send_output\u001b[0;34m(self, message_body, encode_chunked)\u001b[0m\n\u001b[1;32m   1025\u001b[0m         \u001b[0;32mdel\u001b[0m \u001b[0mself\u001b[0m\u001b[0;34m.\u001b[0m\u001b[0m_buffer\u001b[0m\u001b[0;34m[\u001b[0m\u001b[0;34m:\u001b[0m\u001b[0;34m]\u001b[0m\u001b[0;34m\u001b[0m\u001b[0;34m\u001b[0m\u001b[0m\n\u001b[0;32m-> 1026\u001b[0;31m         \u001b[0mself\u001b[0m\u001b[0;34m.\u001b[0m\u001b[0msend\u001b[0m\u001b[0;34m(\u001b[0m\u001b[0mmsg\u001b[0m\u001b[0;34m)\u001b[0m\u001b[0;34m\u001b[0m\u001b[0;34m\u001b[0m\u001b[0m\n\u001b[0m\u001b[1;32m   1027\u001b[0m \u001b[0;34m\u001b[0m\u001b[0m\n",
      "\u001b[0;32m/opt/conda/lib/python3.7/http/client.py\u001b[0m in \u001b[0;36msend\u001b[0;34m(self, data)\u001b[0m\n\u001b[1;32m    965\u001b[0m             \u001b[0;32mif\u001b[0m \u001b[0mself\u001b[0m\u001b[0;34m.\u001b[0m\u001b[0mauto_open\u001b[0m\u001b[0;34m:\u001b[0m\u001b[0;34m\u001b[0m\u001b[0;34m\u001b[0m\u001b[0m\n\u001b[0;32m--> 966\u001b[0;31m                 \u001b[0mself\u001b[0m\u001b[0;34m.\u001b[0m\u001b[0mconnect\u001b[0m\u001b[0;34m(\u001b[0m\u001b[0;34m)\u001b[0m\u001b[0;34m\u001b[0m\u001b[0;34m\u001b[0m\u001b[0m\n\u001b[0m\u001b[1;32m    967\u001b[0m             \u001b[0;32melse\u001b[0m\u001b[0;34m:\u001b[0m\u001b[0;34m\u001b[0m\u001b[0;34m\u001b[0m\u001b[0m\n",
      "\u001b[0;32m/opt/conda/lib/python3.7/site-packages/urllib3/connection.py\u001b[0m in \u001b[0;36mconnect\u001b[0;34m(self)\u001b[0m\n\u001b[1;32m    183\u001b[0m     \u001b[0;32mdef\u001b[0m \u001b[0mconnect\u001b[0m\u001b[0;34m(\u001b[0m\u001b[0mself\u001b[0m\u001b[0;34m)\u001b[0m\u001b[0;34m:\u001b[0m\u001b[0;34m\u001b[0m\u001b[0;34m\u001b[0m\u001b[0m\n\u001b[0;32m--> 184\u001b[0;31m         \u001b[0mconn\u001b[0m \u001b[0;34m=\u001b[0m \u001b[0mself\u001b[0m\u001b[0;34m.\u001b[0m\u001b[0m_new_conn\u001b[0m\u001b[0;34m(\u001b[0m\u001b[0;34m)\u001b[0m\u001b[0;34m\u001b[0m\u001b[0;34m\u001b[0m\u001b[0m\n\u001b[0m\u001b[1;32m    185\u001b[0m         \u001b[0mself\u001b[0m\u001b[0;34m.\u001b[0m\u001b[0m_prepare_conn\u001b[0m\u001b[0;34m(\u001b[0m\u001b[0mconn\u001b[0m\u001b[0;34m)\u001b[0m\u001b[0;34m\u001b[0m\u001b[0;34m\u001b[0m\u001b[0m\n",
      "\u001b[0;32m/opt/conda/lib/python3.7/site-packages/urllib3/connection.py\u001b[0m in \u001b[0;36m_new_conn\u001b[0;34m(self)\u001b[0m\n\u001b[1;32m    168\u001b[0m             raise NewConnectionError(\n\u001b[0;32m--> 169\u001b[0;31m                 \u001b[0mself\u001b[0m\u001b[0;34m,\u001b[0m \u001b[0;34m\"Failed to establish a new connection: %s\"\u001b[0m \u001b[0;34m%\u001b[0m \u001b[0me\u001b[0m\u001b[0;34m\u001b[0m\u001b[0;34m\u001b[0m\u001b[0m\n\u001b[0m\u001b[1;32m    170\u001b[0m             )\n",
      "\u001b[0;31mNewConnectionError\u001b[0m: <urllib3.connection.HTTPConnection object at 0x7ff9c9f536d0>: Failed to establish a new connection: [Errno -2] Name or service not known",
      "\nDuring handling of the above exception, another exception occurred:\n",
      "\u001b[0;31mMaxRetryError\u001b[0m                             Traceback (most recent call last)",
      "\u001b[0;32m/opt/conda/lib/python3.7/site-packages/requests/adapters.py\u001b[0m in \u001b[0;36msend\u001b[0;34m(self, request, stream, timeout, verify, cert, proxies)\u001b[0m\n\u001b[1;32m    448\u001b[0m                     \u001b[0mretries\u001b[0m\u001b[0;34m=\u001b[0m\u001b[0mself\u001b[0m\u001b[0;34m.\u001b[0m\u001b[0mmax_retries\u001b[0m\u001b[0;34m,\u001b[0m\u001b[0;34m\u001b[0m\u001b[0;34m\u001b[0m\u001b[0m\n\u001b[0;32m--> 449\u001b[0;31m                     \u001b[0mtimeout\u001b[0m\u001b[0;34m=\u001b[0m\u001b[0mtimeout\u001b[0m\u001b[0;34m\u001b[0m\u001b[0;34m\u001b[0m\u001b[0m\n\u001b[0m\u001b[1;32m    450\u001b[0m                 )\n",
      "\u001b[0;32m/opt/conda/lib/python3.7/site-packages/urllib3/connectionpool.py\u001b[0m in \u001b[0;36murlopen\u001b[0;34m(self, method, url, body, headers, retries, redirect, assert_same_host, timeout, pool_timeout, release_conn, chunked, body_pos, **response_kw)\u001b[0m\n\u001b[1;32m    719\u001b[0m             retries = retries.increment(\n\u001b[0;32m--> 720\u001b[0;31m                 \u001b[0mmethod\u001b[0m\u001b[0;34m,\u001b[0m \u001b[0murl\u001b[0m\u001b[0;34m,\u001b[0m \u001b[0merror\u001b[0m\u001b[0;34m=\u001b[0m\u001b[0me\u001b[0m\u001b[0;34m,\u001b[0m \u001b[0m_pool\u001b[0m\u001b[0;34m=\u001b[0m\u001b[0mself\u001b[0m\u001b[0;34m,\u001b[0m \u001b[0m_stacktrace\u001b[0m\u001b[0;34m=\u001b[0m\u001b[0msys\u001b[0m\u001b[0;34m.\u001b[0m\u001b[0mexc_info\u001b[0m\u001b[0;34m(\u001b[0m\u001b[0;34m)\u001b[0m\u001b[0;34m[\u001b[0m\u001b[0;36m2\u001b[0m\u001b[0;34m]\u001b[0m\u001b[0;34m\u001b[0m\u001b[0;34m\u001b[0m\u001b[0m\n\u001b[0m\u001b[1;32m    721\u001b[0m             )\n",
      "\u001b[0;32m/opt/conda/lib/python3.7/site-packages/urllib3/util/retry.py\u001b[0m in \u001b[0;36mincrement\u001b[0;34m(self, method, url, response, error, _pool, _stacktrace)\u001b[0m\n\u001b[1;32m    435\u001b[0m         \u001b[0;32mif\u001b[0m \u001b[0mnew_retry\u001b[0m\u001b[0;34m.\u001b[0m\u001b[0mis_exhausted\u001b[0m\u001b[0;34m(\u001b[0m\u001b[0;34m)\u001b[0m\u001b[0;34m:\u001b[0m\u001b[0;34m\u001b[0m\u001b[0;34m\u001b[0m\u001b[0m\n\u001b[0;32m--> 436\u001b[0;31m             \u001b[0;32mraise\u001b[0m \u001b[0mMaxRetryError\u001b[0m\u001b[0;34m(\u001b[0m\u001b[0m_pool\u001b[0m\u001b[0;34m,\u001b[0m \u001b[0murl\u001b[0m\u001b[0;34m,\u001b[0m \u001b[0merror\u001b[0m \u001b[0;32mor\u001b[0m \u001b[0mResponseError\u001b[0m\u001b[0;34m(\u001b[0m\u001b[0mcause\u001b[0m\u001b[0;34m)\u001b[0m\u001b[0;34m)\u001b[0m\u001b[0;34m\u001b[0m\u001b[0;34m\u001b[0m\u001b[0m\n\u001b[0m\u001b[1;32m    437\u001b[0m \u001b[0;34m\u001b[0m\u001b[0m\n",
      "\u001b[0;31mMaxRetryError\u001b[0m: HTTPConnectionPool(host='www.sec.gov', port=80): Max retries exceeded with url: /cgi-bin/browse-edgar?action=getcompany&CIK=aapl (Caused by NewConnectionError('<urllib3.connection.HTTPConnection object at 0x7ff9c9f536d0>: Failed to establish a new connection: [Errno -2] Name or service not known'))",
      "\nDuring handling of the above exception, another exception occurred:\n",
      "\u001b[0;31mConnectionError\u001b[0m                           Traceback (most recent call last)",
      "\u001b[0;32m<ipython-input-1-d951e5caec45>\u001b[0m in \u001b[0;36m<module>\u001b[0;34m\u001b[0m\n\u001b[1;32m      3\u001b[0m \u001b[0mfilings\u001b[0m \u001b[0;34m=\u001b[0m \u001b[0mFiling\u001b[0m\u001b[0;34m(\u001b[0m\u001b[0mcik_lookup\u001b[0m\u001b[0;34m=\u001b[0m\u001b[0;34m'aapl'\u001b[0m\u001b[0;34m,\u001b[0m \u001b[0mfiling_type\u001b[0m\u001b[0;34m=\u001b[0m\u001b[0mFilingType\u001b[0m\u001b[0;34m.\u001b[0m\u001b[0mFILING_10Q\u001b[0m\u001b[0;34m,\u001b[0m \u001b[0mcount\u001b[0m\u001b[0;34m=\u001b[0m\u001b[0;36m1\u001b[0m\u001b[0;34m)\u001b[0m \u001b[0;31m# 10Q filings for Apple (ticker \"aapl\")\u001b[0m\u001b[0;34m\u001b[0m\u001b[0;34m\u001b[0m\u001b[0m\n\u001b[1;32m      4\u001b[0m \u001b[0;31m# my_filings.save('~/path/to/dir')\u001b[0m\u001b[0;34m\u001b[0m\u001b[0;34m\u001b[0m\u001b[0;34m\u001b[0m\u001b[0m\n\u001b[0;32m----> 5\u001b[0;31m \u001b[0mfilings\u001b[0m\u001b[0;34m.\u001b[0m\u001b[0msave\u001b[0m\u001b[0;34m(\u001b[0m\u001b[0;34m\"/workspace/entity_knowledge_in_bert/app/downloads/edgar\"\u001b[0m\u001b[0;34m)\u001b[0m\u001b[0;34m\u001b[0m\u001b[0;34m\u001b[0m\u001b[0m\n\u001b[0m",
      "\u001b[0;32m/opt/conda/lib/python3.7/site-packages/secedgar/filings/filing.py\u001b[0m in \u001b[0;36msave\u001b[0;34m(self, directory)\u001b[0m\n\u001b[1;32m    224\u001b[0m             \u001b[0mValueError\u001b[0m\u001b[0;34m:\u001b[0m \u001b[0mIf\u001b[0m \u001b[0mno\u001b[0m \u001b[0mtext\u001b[0m \u001b[0murls\u001b[0m \u001b[0mare\u001b[0m \u001b[0mavailable\u001b[0m \u001b[0;32mfor\u001b[0m \u001b[0mgiven\u001b[0m \u001b[0mfiling\u001b[0m \u001b[0mobject\u001b[0m\u001b[0;34m.\u001b[0m\u001b[0;34m\u001b[0m\u001b[0;34m\u001b[0m\u001b[0m\n\u001b[1;32m    225\u001b[0m         \"\"\"\n\u001b[0;32m--> 226\u001b[0;31m         \u001b[0murls\u001b[0m \u001b[0;34m=\u001b[0m \u001b[0mself\u001b[0m\u001b[0;34m.\u001b[0m\u001b[0mget_urls\u001b[0m\u001b[0;34m(\u001b[0m\u001b[0;34m)\u001b[0m\u001b[0;34m\u001b[0m\u001b[0;34m\u001b[0m\u001b[0m\n\u001b[0m\u001b[1;32m    227\u001b[0m         \u001b[0;32mif\u001b[0m \u001b[0mall\u001b[0m\u001b[0;34m(\u001b[0m\u001b[0mlen\u001b[0m\u001b[0;34m(\u001b[0m\u001b[0murls\u001b[0m\u001b[0;34m[\u001b[0m\u001b[0mcik\u001b[0m\u001b[0;34m]\u001b[0m\u001b[0;34m)\u001b[0m \u001b[0;34m==\u001b[0m \u001b[0;36m0\u001b[0m \u001b[0;32mfor\u001b[0m \u001b[0mcik\u001b[0m \u001b[0;32min\u001b[0m \u001b[0murls\u001b[0m\u001b[0;34m.\u001b[0m\u001b[0mkeys\u001b[0m\u001b[0;34m(\u001b[0m\u001b[0;34m)\u001b[0m\u001b[0;34m)\u001b[0m\u001b[0;34m:\u001b[0m\u001b[0;34m\u001b[0m\u001b[0;34m\u001b[0m\u001b[0m\n\u001b[1;32m    228\u001b[0m             \u001b[0;32mraise\u001b[0m \u001b[0mValueError\u001b[0m\u001b[0;34m(\u001b[0m\u001b[0;34m\"No filings available.\"\u001b[0m\u001b[0;34m)\u001b[0m\u001b[0;34m\u001b[0m\u001b[0;34m\u001b[0m\u001b[0m\n",
      "\u001b[0;32m/opt/conda/lib/python3.7/site-packages/secedgar/filings/filing.py\u001b[0m in \u001b[0;36mget_urls\u001b[0;34m(self, **kwargs)\u001b[0m\n\u001b[1;32m    152\u001b[0m         return {\n\u001b[1;32m    153\u001b[0m             \u001b[0mkey\u001b[0m\u001b[0;34m:\u001b[0m \u001b[0mself\u001b[0m\u001b[0;34m.\u001b[0m\u001b[0m_get_urls_for_cik\u001b[0m\u001b[0;34m(\u001b[0m\u001b[0mcik\u001b[0m\u001b[0;34m,\u001b[0m \u001b[0;34m**\u001b[0m\u001b[0mkwargs\u001b[0m\u001b[0;34m)\u001b[0m\u001b[0;34m\u001b[0m\u001b[0;34m\u001b[0m\u001b[0m\n\u001b[0;32m--> 154\u001b[0;31m             \u001b[0;32mfor\u001b[0m \u001b[0mkey\u001b[0m\u001b[0;34m,\u001b[0m \u001b[0mcik\u001b[0m \u001b[0;32min\u001b[0m \u001b[0mself\u001b[0m\u001b[0;34m.\u001b[0m\u001b[0mcik_lookup\u001b[0m\u001b[0;34m.\u001b[0m\u001b[0mlookup_dict\u001b[0m\u001b[0;34m.\u001b[0m\u001b[0mitems\u001b[0m\u001b[0;34m(\u001b[0m\u001b[0;34m)\u001b[0m\u001b[0;34m\u001b[0m\u001b[0;34m\u001b[0m\u001b[0m\n\u001b[0m\u001b[1;32m    155\u001b[0m         }\n\u001b[1;32m    156\u001b[0m \u001b[0;34m\u001b[0m\u001b[0m\n",
      "\u001b[0;32m/opt/conda/lib/python3.7/site-packages/secedgar/filings/cik_lookup.py\u001b[0m in \u001b[0;36mlookup_dict\u001b[0;34m(self)\u001b[0m\n\u001b[1;32m     37\u001b[0m         \u001b[0;34m\"\"\":obj:`dict`: Dictionary that makes tickers and company names to CIKs.\"\"\"\u001b[0m\u001b[0;34m\u001b[0m\u001b[0;34m\u001b[0m\u001b[0m\n\u001b[1;32m     38\u001b[0m         \u001b[0;32mif\u001b[0m \u001b[0mself\u001b[0m\u001b[0;34m.\u001b[0m\u001b[0m_lookup_dict\u001b[0m \u001b[0;32mis\u001b[0m \u001b[0;32mNone\u001b[0m\u001b[0;34m:\u001b[0m\u001b[0;34m\u001b[0m\u001b[0;34m\u001b[0m\u001b[0m\n\u001b[0;32m---> 39\u001b[0;31m             \u001b[0mself\u001b[0m\u001b[0;34m.\u001b[0m\u001b[0m_lookup_dict\u001b[0m \u001b[0;34m=\u001b[0m \u001b[0mself\u001b[0m\u001b[0;34m.\u001b[0m\u001b[0m_validator\u001b[0m\u001b[0;34m.\u001b[0m\u001b[0mget_ciks\u001b[0m\u001b[0;34m(\u001b[0m\u001b[0;34m)\u001b[0m\u001b[0;34m\u001b[0m\u001b[0;34m\u001b[0m\u001b[0m\n\u001b[0m\u001b[1;32m     40\u001b[0m         \u001b[0;32mreturn\u001b[0m \u001b[0mself\u001b[0m\u001b[0;34m.\u001b[0m\u001b[0m_lookup_dict\u001b[0m\u001b[0;34m\u001b[0m\u001b[0;34m\u001b[0m\u001b[0m\n",
      "\u001b[0;32m/opt/conda/lib/python3.7/site-packages/secedgar/filings/cik_validator.py\u001b[0m in \u001b[0;36mget_ciks\u001b[0;34m(self)\u001b[0m\n\u001b[1;32m     62\u001b[0m         \u001b[0;32mfor\u001b[0m \u001b[0mlookup\u001b[0m \u001b[0;32min\u001b[0m \u001b[0mself\u001b[0m\u001b[0;34m.\u001b[0m\u001b[0m_lookups\u001b[0m\u001b[0;34m:\u001b[0m\u001b[0;34m\u001b[0m\u001b[0;34m\u001b[0m\u001b[0m\n\u001b[1;32m     63\u001b[0m             \u001b[0;32mtry\u001b[0m\u001b[0;34m:\u001b[0m\u001b[0;34m\u001b[0m\u001b[0;34m\u001b[0m\u001b[0m\n\u001b[0;32m---> 64\u001b[0;31m                 \u001b[0mresult\u001b[0m \u001b[0;34m=\u001b[0m \u001b[0mself\u001b[0m\u001b[0;34m.\u001b[0m\u001b[0m_get_cik\u001b[0m\u001b[0;34m(\u001b[0m\u001b[0mlookup\u001b[0m\u001b[0;34m)\u001b[0m\u001b[0;34m\u001b[0m\u001b[0;34m\u001b[0m\u001b[0m\n\u001b[0m\u001b[1;32m     65\u001b[0m                 \u001b[0mself\u001b[0m\u001b[0;34m.\u001b[0m\u001b[0m_validate_cik\u001b[0m\u001b[0;34m(\u001b[0m\u001b[0mresult\u001b[0m\u001b[0;34m)\u001b[0m  \u001b[0;31m# raises error if not valid CIK\u001b[0m\u001b[0;34m\u001b[0m\u001b[0;34m\u001b[0m\u001b[0m\n\u001b[1;32m     66\u001b[0m                 \u001b[0mciks\u001b[0m\u001b[0;34m[\u001b[0m\u001b[0mlookup\u001b[0m\u001b[0;34m]\u001b[0m \u001b[0;34m=\u001b[0m \u001b[0mresult\u001b[0m\u001b[0;34m\u001b[0m\u001b[0;34m\u001b[0m\u001b[0m\n",
      "\u001b[0;32m/opt/conda/lib/python3.7/site-packages/secedgar/filings/cik_validator.py\u001b[0m in \u001b[0;36m_get_cik\u001b[0;34m(self, lookup)\u001b[0m\n\u001b[1;32m    106\u001b[0m         \"\"\"\n\u001b[1;32m    107\u001b[0m         \u001b[0mself\u001b[0m\u001b[0;34m.\u001b[0m\u001b[0m_validate_lookup\u001b[0m\u001b[0;34m(\u001b[0m\u001b[0mlookup\u001b[0m\u001b[0;34m)\u001b[0m\u001b[0;34m\u001b[0m\u001b[0;34m\u001b[0m\u001b[0m\n\u001b[0;32m--> 108\u001b[0;31m         \u001b[0msoup\u001b[0m \u001b[0;34m=\u001b[0m \u001b[0mself\u001b[0m\u001b[0;34m.\u001b[0m\u001b[0m_get_lookup_soup\u001b[0m\u001b[0;34m(\u001b[0m\u001b[0mlookup\u001b[0m\u001b[0;34m)\u001b[0m\u001b[0;34m\u001b[0m\u001b[0;34m\u001b[0m\u001b[0m\n\u001b[0m\u001b[1;32m    109\u001b[0m         \u001b[0;32mtry\u001b[0m\u001b[0;34m:\u001b[0m  \u001b[0;31m# try to get single CIK for lookup\u001b[0m\u001b[0;34m\u001b[0m\u001b[0;34m\u001b[0m\u001b[0m\n\u001b[1;32m    110\u001b[0m             \u001b[0mspan\u001b[0m \u001b[0;34m=\u001b[0m \u001b[0msoup\u001b[0m\u001b[0;34m.\u001b[0m\u001b[0mfind\u001b[0m\u001b[0;34m(\u001b[0m\u001b[0;34m'span'\u001b[0m\u001b[0;34m,\u001b[0m \u001b[0;34m{\u001b[0m\u001b[0;34m'class'\u001b[0m\u001b[0;34m:\u001b[0m \u001b[0;34m'companyName'\u001b[0m\u001b[0;34m}\u001b[0m\u001b[0;34m)\u001b[0m\u001b[0;34m\u001b[0m\u001b[0;34m\u001b[0m\u001b[0m\n",
      "\u001b[0;32m/opt/conda/lib/python3.7/site-packages/secedgar/filings/cik_validator.py\u001b[0m in \u001b[0;36m_get_lookup_soup\u001b[0;34m(self, lookup)\u001b[0m\n\u001b[1;32m     87\u001b[0m         \u001b[0;32mtry\u001b[0m\u001b[0;34m:\u001b[0m  \u001b[0;31m# try to lookup by CIK\u001b[0m\u001b[0;34m\u001b[0m\u001b[0;34m\u001b[0m\u001b[0m\n\u001b[1;32m     88\u001b[0m             \u001b[0mself\u001b[0m\u001b[0;34m.\u001b[0m\u001b[0m_params\u001b[0m\u001b[0;34m[\u001b[0m\u001b[0;34m'CIK'\u001b[0m\u001b[0;34m]\u001b[0m \u001b[0;34m=\u001b[0m \u001b[0mlookup\u001b[0m\u001b[0;34m\u001b[0m\u001b[0;34m\u001b[0m\u001b[0m\n\u001b[0;32m---> 89\u001b[0;31m             \u001b[0;32mreturn\u001b[0m \u001b[0mself\u001b[0m\u001b[0;34m.\u001b[0m\u001b[0m_client\u001b[0m\u001b[0;34m.\u001b[0m\u001b[0mget_soup\u001b[0m\u001b[0;34m(\u001b[0m\u001b[0mself\u001b[0m\u001b[0;34m.\u001b[0m\u001b[0mpath\u001b[0m\u001b[0;34m,\u001b[0m \u001b[0mself\u001b[0m\u001b[0;34m.\u001b[0m\u001b[0mparams\u001b[0m\u001b[0;34m)\u001b[0m\u001b[0;34m\u001b[0m\u001b[0;34m\u001b[0m\u001b[0m\n\u001b[0m\u001b[1;32m     90\u001b[0m         \u001b[0;32mexcept\u001b[0m \u001b[0mEDGARQueryError\u001b[0m\u001b[0;34m:\u001b[0m  \u001b[0;31m# fallback to lookup by company name\u001b[0m\u001b[0;34m\u001b[0m\u001b[0;34m\u001b[0m\u001b[0m\n\u001b[1;32m     91\u001b[0m             \u001b[0;32mdel\u001b[0m \u001b[0mself\u001b[0m\u001b[0;34m.\u001b[0m\u001b[0m_params\u001b[0m\u001b[0;34m[\u001b[0m\u001b[0;34m'CIK'\u001b[0m\u001b[0;34m]\u001b[0m  \u001b[0;31m# delete this parameter so no conflicts arise\u001b[0m\u001b[0;34m\u001b[0m\u001b[0;34m\u001b[0m\u001b[0m\n",
      "\u001b[0;32m/opt/conda/lib/python3.7/site-packages/secedgar/client/network_client.py\u001b[0m in \u001b[0;36mget_soup\u001b[0;34m(self, path, params, **kwargs)\u001b[0m\n\u001b[1;32m    115\u001b[0m             \u001b[0mBeautifulSoup\u001b[0m \u001b[0mobject\u001b[0m \u001b[0;32mfrom\u001b[0m \u001b[0mresponse\u001b[0m \u001b[0mtext\u001b[0m\u001b[0;34m.\u001b[0m\u001b[0;34m\u001b[0m\u001b[0;34m\u001b[0m\u001b[0m\n\u001b[1;32m    116\u001b[0m         \"\"\"\n\u001b[0;32m--> 117\u001b[0;31m         \u001b[0;32mreturn\u001b[0m \u001b[0mBeautifulSoup\u001b[0m\u001b[0;34m(\u001b[0m\u001b[0mself\u001b[0m\u001b[0;34m.\u001b[0m\u001b[0mget_response\u001b[0m\u001b[0;34m(\u001b[0m\u001b[0mpath\u001b[0m\u001b[0;34m,\u001b[0m \u001b[0mparams\u001b[0m\u001b[0;34m,\u001b[0m \u001b[0;34m**\u001b[0m\u001b[0mkwargs\u001b[0m\u001b[0;34m)\u001b[0m\u001b[0;34m.\u001b[0m\u001b[0mtext\u001b[0m\u001b[0;34m,\u001b[0m \u001b[0mfeatures\u001b[0m\u001b[0;34m=\u001b[0m\u001b[0;34m'lxml'\u001b[0m\u001b[0;34m)\u001b[0m\u001b[0;34m\u001b[0m\u001b[0;34m\u001b[0m\u001b[0m\n\u001b[0m\u001b[1;32m    118\u001b[0m \u001b[0;34m\u001b[0m\u001b[0m\n\u001b[1;32m    119\u001b[0m     \u001b[0;34m@\u001b[0m\u001b[0mstaticmethod\u001b[0m\u001b[0;34m\u001b[0m\u001b[0;34m\u001b[0m\u001b[0m\n",
      "\u001b[0;32m/opt/conda/lib/python3.7/site-packages/secedgar/client/network_client.py\u001b[0m in \u001b[0;36mget_response\u001b[0;34m(self, path, params, **kwargs)\u001b[0m\n\u001b[1;32m     93\u001b[0m         \u001b[0mprepared_url\u001b[0m \u001b[0;34m=\u001b[0m \u001b[0mself\u001b[0m\u001b[0;34m.\u001b[0m\u001b[0m_prepare_query\u001b[0m\u001b[0;34m(\u001b[0m\u001b[0mpath\u001b[0m\u001b[0;34m)\u001b[0m\u001b[0;34m\u001b[0m\u001b[0;34m\u001b[0m\u001b[0m\n\u001b[1;32m     94\u001b[0m         \u001b[0;32mfor\u001b[0m \u001b[0mi\u001b[0m \u001b[0;32min\u001b[0m \u001b[0mrange\u001b[0m\u001b[0;34m(\u001b[0m\u001b[0mself\u001b[0m\u001b[0;34m.\u001b[0m\u001b[0mretry_count\u001b[0m \u001b[0;34m+\u001b[0m \u001b[0;36m1\u001b[0m\u001b[0;34m)\u001b[0m\u001b[0;34m:\u001b[0m\u001b[0;34m\u001b[0m\u001b[0;34m\u001b[0m\u001b[0m\n\u001b[0;32m---> 95\u001b[0;31m             \u001b[0mresponse\u001b[0m \u001b[0;34m=\u001b[0m \u001b[0mrequests\u001b[0m\u001b[0;34m.\u001b[0m\u001b[0mget\u001b[0m\u001b[0;34m(\u001b[0m\u001b[0mprepared_url\u001b[0m\u001b[0;34m,\u001b[0m \u001b[0mparams\u001b[0m\u001b[0;34m=\u001b[0m\u001b[0mparams\u001b[0m\u001b[0;34m,\u001b[0m \u001b[0;34m**\u001b[0m\u001b[0mkwargs\u001b[0m\u001b[0;34m)\u001b[0m\u001b[0;34m\u001b[0m\u001b[0;34m\u001b[0m\u001b[0m\n\u001b[0m\u001b[1;32m     96\u001b[0m             \u001b[0;32mtry\u001b[0m\u001b[0;34m:\u001b[0m\u001b[0;34m\u001b[0m\u001b[0;34m\u001b[0m\u001b[0m\n\u001b[1;32m     97\u001b[0m                 \u001b[0mself\u001b[0m\u001b[0;34m.\u001b[0m\u001b[0m_validate_response\u001b[0m\u001b[0;34m(\u001b[0m\u001b[0mresponse\u001b[0m\u001b[0;34m)\u001b[0m\u001b[0;34m\u001b[0m\u001b[0;34m\u001b[0m\u001b[0m\n",
      "\u001b[0;32m/opt/conda/lib/python3.7/site-packages/requests/api.py\u001b[0m in \u001b[0;36mget\u001b[0;34m(url, params, **kwargs)\u001b[0m\n\u001b[1;32m     74\u001b[0m \u001b[0;34m\u001b[0m\u001b[0m\n\u001b[1;32m     75\u001b[0m     \u001b[0mkwargs\u001b[0m\u001b[0;34m.\u001b[0m\u001b[0msetdefault\u001b[0m\u001b[0;34m(\u001b[0m\u001b[0;34m'allow_redirects'\u001b[0m\u001b[0;34m,\u001b[0m \u001b[0;32mTrue\u001b[0m\u001b[0;34m)\u001b[0m\u001b[0;34m\u001b[0m\u001b[0;34m\u001b[0m\u001b[0m\n\u001b[0;32m---> 76\u001b[0;31m     \u001b[0;32mreturn\u001b[0m \u001b[0mrequest\u001b[0m\u001b[0;34m(\u001b[0m\u001b[0;34m'get'\u001b[0m\u001b[0;34m,\u001b[0m \u001b[0murl\u001b[0m\u001b[0;34m,\u001b[0m \u001b[0mparams\u001b[0m\u001b[0;34m=\u001b[0m\u001b[0mparams\u001b[0m\u001b[0;34m,\u001b[0m \u001b[0;34m**\u001b[0m\u001b[0mkwargs\u001b[0m\u001b[0;34m)\u001b[0m\u001b[0;34m\u001b[0m\u001b[0;34m\u001b[0m\u001b[0m\n\u001b[0m\u001b[1;32m     77\u001b[0m \u001b[0;34m\u001b[0m\u001b[0m\n\u001b[1;32m     78\u001b[0m \u001b[0;34m\u001b[0m\u001b[0m\n",
      "\u001b[0;32m/opt/conda/lib/python3.7/site-packages/requests/api.py\u001b[0m in \u001b[0;36mrequest\u001b[0;34m(method, url, **kwargs)\u001b[0m\n\u001b[1;32m     59\u001b[0m     \u001b[0;31m# cases, and look like a memory leak in others.\u001b[0m\u001b[0;34m\u001b[0m\u001b[0;34m\u001b[0m\u001b[0;34m\u001b[0m\u001b[0m\n\u001b[1;32m     60\u001b[0m     \u001b[0;32mwith\u001b[0m \u001b[0msessions\u001b[0m\u001b[0;34m.\u001b[0m\u001b[0mSession\u001b[0m\u001b[0;34m(\u001b[0m\u001b[0;34m)\u001b[0m \u001b[0;32mas\u001b[0m \u001b[0msession\u001b[0m\u001b[0;34m:\u001b[0m\u001b[0;34m\u001b[0m\u001b[0;34m\u001b[0m\u001b[0m\n\u001b[0;32m---> 61\u001b[0;31m         \u001b[0;32mreturn\u001b[0m \u001b[0msession\u001b[0m\u001b[0;34m.\u001b[0m\u001b[0mrequest\u001b[0m\u001b[0;34m(\u001b[0m\u001b[0mmethod\u001b[0m\u001b[0;34m=\u001b[0m\u001b[0mmethod\u001b[0m\u001b[0;34m,\u001b[0m \u001b[0murl\u001b[0m\u001b[0;34m=\u001b[0m\u001b[0murl\u001b[0m\u001b[0;34m,\u001b[0m \u001b[0;34m**\u001b[0m\u001b[0mkwargs\u001b[0m\u001b[0;34m)\u001b[0m\u001b[0;34m\u001b[0m\u001b[0;34m\u001b[0m\u001b[0m\n\u001b[0m\u001b[1;32m     62\u001b[0m \u001b[0;34m\u001b[0m\u001b[0m\n\u001b[1;32m     63\u001b[0m \u001b[0;34m\u001b[0m\u001b[0m\n",
      "\u001b[0;32m/opt/conda/lib/python3.7/site-packages/requests/sessions.py\u001b[0m in \u001b[0;36mrequest\u001b[0;34m(self, method, url, params, data, headers, cookies, files, auth, timeout, allow_redirects, proxies, hooks, stream, verify, cert, json)\u001b[0m\n\u001b[1;32m    528\u001b[0m         }\n\u001b[1;32m    529\u001b[0m         \u001b[0msend_kwargs\u001b[0m\u001b[0;34m.\u001b[0m\u001b[0mupdate\u001b[0m\u001b[0;34m(\u001b[0m\u001b[0msettings\u001b[0m\u001b[0;34m)\u001b[0m\u001b[0;34m\u001b[0m\u001b[0;34m\u001b[0m\u001b[0m\n\u001b[0;32m--> 530\u001b[0;31m         \u001b[0mresp\u001b[0m \u001b[0;34m=\u001b[0m \u001b[0mself\u001b[0m\u001b[0;34m.\u001b[0m\u001b[0msend\u001b[0m\u001b[0;34m(\u001b[0m\u001b[0mprep\u001b[0m\u001b[0;34m,\u001b[0m \u001b[0;34m**\u001b[0m\u001b[0msend_kwargs\u001b[0m\u001b[0;34m)\u001b[0m\u001b[0;34m\u001b[0m\u001b[0;34m\u001b[0m\u001b[0m\n\u001b[0m\u001b[1;32m    531\u001b[0m \u001b[0;34m\u001b[0m\u001b[0m\n\u001b[1;32m    532\u001b[0m         \u001b[0;32mreturn\u001b[0m \u001b[0mresp\u001b[0m\u001b[0;34m\u001b[0m\u001b[0;34m\u001b[0m\u001b[0m\n",
      "\u001b[0;32m/opt/conda/lib/python3.7/site-packages/requests/sessions.py\u001b[0m in \u001b[0;36msend\u001b[0;34m(self, request, **kwargs)\u001b[0m\n\u001b[1;32m    641\u001b[0m \u001b[0;34m\u001b[0m\u001b[0m\n\u001b[1;32m    642\u001b[0m         \u001b[0;31m# Send the request\u001b[0m\u001b[0;34m\u001b[0m\u001b[0;34m\u001b[0m\u001b[0;34m\u001b[0m\u001b[0m\n\u001b[0;32m--> 643\u001b[0;31m         \u001b[0mr\u001b[0m \u001b[0;34m=\u001b[0m \u001b[0madapter\u001b[0m\u001b[0;34m.\u001b[0m\u001b[0msend\u001b[0m\u001b[0;34m(\u001b[0m\u001b[0mrequest\u001b[0m\u001b[0;34m,\u001b[0m \u001b[0;34m**\u001b[0m\u001b[0mkwargs\u001b[0m\u001b[0;34m)\u001b[0m\u001b[0;34m\u001b[0m\u001b[0;34m\u001b[0m\u001b[0m\n\u001b[0m\u001b[1;32m    644\u001b[0m \u001b[0;34m\u001b[0m\u001b[0m\n\u001b[1;32m    645\u001b[0m         \u001b[0;31m# Total elapsed time of the request (approximately)\u001b[0m\u001b[0;34m\u001b[0m\u001b[0;34m\u001b[0m\u001b[0;34m\u001b[0m\u001b[0m\n",
      "\u001b[0;32m/opt/conda/lib/python3.7/site-packages/requests/adapters.py\u001b[0m in \u001b[0;36msend\u001b[0;34m(self, request, stream, timeout, verify, cert, proxies)\u001b[0m\n\u001b[1;32m    514\u001b[0m                 \u001b[0;32mraise\u001b[0m \u001b[0mSSLError\u001b[0m\u001b[0;34m(\u001b[0m\u001b[0me\u001b[0m\u001b[0;34m,\u001b[0m \u001b[0mrequest\u001b[0m\u001b[0;34m=\u001b[0m\u001b[0mrequest\u001b[0m\u001b[0;34m)\u001b[0m\u001b[0;34m\u001b[0m\u001b[0;34m\u001b[0m\u001b[0m\n\u001b[1;32m    515\u001b[0m \u001b[0;34m\u001b[0m\u001b[0m\n\u001b[0;32m--> 516\u001b[0;31m             \u001b[0;32mraise\u001b[0m \u001b[0mConnectionError\u001b[0m\u001b[0;34m(\u001b[0m\u001b[0me\u001b[0m\u001b[0;34m,\u001b[0m \u001b[0mrequest\u001b[0m\u001b[0;34m=\u001b[0m\u001b[0mrequest\u001b[0m\u001b[0;34m)\u001b[0m\u001b[0;34m\u001b[0m\u001b[0;34m\u001b[0m\u001b[0m\n\u001b[0m\u001b[1;32m    517\u001b[0m \u001b[0;34m\u001b[0m\u001b[0m\n\u001b[1;32m    518\u001b[0m         \u001b[0;32mexcept\u001b[0m \u001b[0mClosedPoolError\u001b[0m \u001b[0;32mas\u001b[0m \u001b[0me\u001b[0m\u001b[0;34m:\u001b[0m\u001b[0;34m\u001b[0m\u001b[0;34m\u001b[0m\u001b[0m\n",
      "\u001b[0;31mConnectionError\u001b[0m: HTTPConnectionPool(host='www.sec.gov', port=80): Max retries exceeded with url: /cgi-bin/browse-edgar?action=getcompany&CIK=aapl (Caused by NewConnectionError('<urllib3.connection.HTTPConnection object at 0x7ff9c9f536d0>: Failed to establish a new connection: [Errno -2] Name or service not known'))"
     ]
    }
   ],
   "source": [
    "from secedgar.filings import Filing, FilingType\n",
    "\n",
    "filings = Filing(cik_lookup='aapl', filing_type=FilingType.FILING_10Q, count=1) # 10Q filings for Apple (ticker \"aapl\")\n",
    "# my_filings.save('~/path/to/dir')\n",
    "filings.save(\"/workspace/entity_knowledge_in_bert/app/downloads/edgar\")"
   ]
  },
  {
   "cell_type": "code",
   "execution_count": 4,
   "metadata": {},
   "outputs": [
    {
     "ename": "ParseError",
     "evalue": "mismatched tag: line 46, column 2 (<string>)",
     "output_type": "error",
     "traceback": [
      "Traceback \u001b[0;36m(most recent call last)\u001b[0m:\n",
      "  File \u001b[1;32m\"/opt/conda/lib/python3.7/site-packages/IPython/core/interactiveshell.py\"\u001b[0m, line \u001b[1;32m3343\u001b[0m, in \u001b[1;35mrun_code\u001b[0m\n    exec(code_obj, self.user_global_ns, self.user_ns)\n",
      "  File \u001b[1;32m\"<ipython-input-4-bb3ec9a565ba>\"\u001b[0m, line \u001b[1;32m3\u001b[0m, in \u001b[1;35m<module>\u001b[0m\n    tree = ET.parse(f)\n",
      "  File \u001b[1;32m\"/opt/conda/lib/python3.7/xml/etree/ElementTree.py\"\u001b[0m, line \u001b[1;32m1197\u001b[0m, in \u001b[1;35mparse\u001b[0m\n    tree.parse(source, parser)\n",
      "\u001b[0;36m  File \u001b[0;32m\"/opt/conda/lib/python3.7/xml/etree/ElementTree.py\"\u001b[0;36m, line \u001b[0;32m598\u001b[0;36m, in \u001b[0;35mparse\u001b[0;36m\u001b[0m\n\u001b[0;31m    self._root = parser._parse_whole(source)\u001b[0m\n",
      "\u001b[0;36m  File \u001b[0;32m\"<string>\"\u001b[0;36m, line \u001b[0;32munknown\u001b[0m\n\u001b[0;31mParseError\u001b[0m\u001b[0;31m:\u001b[0m mismatched tag: line 46, column 2\n"
     ]
    }
   ],
   "source": [
    "import xml.etree.ElementTree as ET\n",
    "f = \"/workspace/entity_knowledge_in_bert/app/downloads/0001477333-20-000032.txt\"\n",
    "tree = ET.parse(f)\n",
    "tree\n"
   ]
  },
  {
   "cell_type": "code",
   "execution_count": 4,
   "metadata": {},
   "outputs": [
    {
     "name": "stdout",
     "output_type": "stream",
     "text": [
      "{'public_float': 0.0, 'shares_outstanding': 4275634000.0, 'trading_symbol': 'AAPL', 'company_name': 'Apple Inc.'}\n"
     ]
    }
   ],
   "source": [
    "# from xbrl import XBRLParser, GAAP, GAAPSerializer, DEISerializer\n",
    "# xbrl_parser = XBRLParser()\n",
    "# xbrl = xbrl_parser.parse(open(\"/workspace/entity_knowledge_in_bert/app/downloads/edgar/aapl/10-q/0000320193-20-000062.txt\"))\n",
    "dei_obj = xbrl_parser.parseDEI(xbrl)\n",
    "\n",
    "# Serialize the DEI data\n",
    "serializer = DEISerializer()\n",
    "result = serializer.dump(dei_obj)\n",
    "\n",
    "# Print out the serialized DEI data\n",
    "print(result)"
   ]
  },
  {
   "cell_type": "code",
   "execution_count": 3,
   "metadata": {},
   "outputs": [
    {
     "name": "stdout",
     "output_type": "stream",
     "text": [
      "{'net_cash_flows_investing_discontinued': 0.0, 'nonoperating_income_loss': 0.0, 'comprehensive_income_interest': 0.0, 'common_shares_outstanding': 0.0, 'net_cash_flows_operating_continuing': 0.0, 'liabilities_and_equity': 0.0, 'net_cash_flows_financing': 0.0, 'net_cash_flows_investing': 0.0, 'net_cash_flows_discontinued': 0.0, 'common_shares_issued': 0.0, 'liabilities': 0.0, 'interest_and_debt_expense': 0.0, 'net_income_shareholders': 0.0, 'preferred_stock_dividends': 0.0, 'net_income_parent': 0.0, 'stockholders_equity': 0.0, 'operating_expenses': 0.0, 'assets': 0.0, 'equity': 0.0, 'redeemable_noncontrolling_interest': 0.0, 'other_operating_income': 0.0, 'net_cash_flows_financing_continuing': 0.0, 'other_comprehensive_income': 0.0, 'temporary_equity': 0.0, 'net_income_loss': 0.0, 'noncurrent_liabilities': 0.0, 'operating_income_loss': 0.0, 'income_before_equity_investments': 0.0, 'current_liabilities': 0.0, 'equity_attributable_interest': 0.0, 'common_shares_authorized': 0.0, 'income_tax_expense_benefit': 0.0, 'current_assets': 0.0, 'cost_of_revenue': 0.0, 'equity_attributable_parent': 0.0, 'income_from_equity_investments': 0.0, 'net_cash_flows_operating': 0.0, 'net_cash_flows_operating_discontinued': 0.0, 'commitments_and_contingencies': 0.0, 'gross_profit': 0.0, 'extraordary_items_gain_loss': 0.0, 'net_income_loss_noncontrolling': 0.0, 'net_cash_flows_investing_continuing': 0.0, 'revenue': 0.0, 'income_loss': 0.0, 'costs_and_expenses': 0.0, 'comprehensive_income_parent': 0.0, 'comprehensive_income': 0.0, 'non_current_assets': 0.0}\n"
     ]
    }
   ],
   "source": [
    "gaap_obj = xbrl_parser.parseGAAP(xbrl,doc_date=\"\",context=\"current\",ignore_errors=1)\n",
    "serializer = GAAPSerializer()\n",
    "result = serializer.dump(gaap_obj)\n",
    "print(result)"
   ]
  },
  {
   "cell_type": "code",
   "execution_count": 11,
   "metadata": {},
   "outputs": [],
   "source": [
    "from ixbrlparse import IXBRL\n",
    "with open(\"/workspace/entity_knowledge_in_bert/app/downloads/edgar/aapl/10-q/0000320193-20-000062.txt\") as f:\n",
    "    xbrl = IXBRL(f, raise_on_error=False)"
   ]
  },
  {
   "cell_type": "code",
   "execution_count": 28,
   "metadata": {},
   "outputs": [
    {
     "data": {
      "text/plain": [
       "'Cupertino'"
      ]
     },
     "execution_count": 28,
     "metadata": {},
     "output_type": "execute_result"
    }
   ],
   "source": [
    "# xbrl.contexts['i656f36c938ba410686db6183a7b1d75c_D20190929-20200627']\n",
    "a = xbrl.numeric[0]\n",
    "# a.value\n",
    "a = xbrl.nonnumeric[0]\n",
    "a.value"
   ]
  },
  {
   "cell_type": "code",
   "execution_count": 56,
   "metadata": {},
   "outputs": [],
   "source": [
    "from bs4 import BeautifulSoup\n",
    "p = \"/workspace/entity_knowledge_in_bert/app/downloads/0001477333-20-000032.txt\"\n",
    "with open(p) as f:\n",
    "    soup = BeautifulSoup(f, 'lxml-xml')"
   ]
  },
  {
   "cell_type": "code",
   "execution_count": 57,
   "metadata": {},
   "outputs": [
    {
     "data": {
      "text/plain": [
       "[<DOCUMENT>\n",
       " <TYPE>8-K\n",
       " <SEQUENCE>1\n",
       " <FILENAME>net202008068k.htm\n",
       " <DESCRIPTION>8-K\n",
       " <TEXT>\n",
       " </TEXT></DESCRIPTION></FILENAME></SEQUENCE></TYPE></DOCUMENT>]"
      ]
     },
     "execution_count": 57,
     "metadata": {},
     "output_type": "execute_result"
    }
   ],
   "source": [
    "# soup.find(\"DOCUMENT\").TYPE\n",
    "soup.find_all(\"DOCUMENT\")"
   ]
  },
  {
   "cell_type": "code",
   "execution_count": 58,
   "metadata": {},
   "outputs": [
    {
     "name": "stdout",
     "output_type": "stream",
     "text": [
      "Collecting pyedgar\n",
      "  Downloading pyedgar-0.1.5.tar.gz (40 kB)\n",
      "\u001b[K     |████████████████████████████████| 40 kB 16 kB/s eta 0:00:01\n",
      "\u001b[?25hBuilding wheels for collected packages: pyedgar\n",
      "  Building wheel for pyedgar (setup.py) ... \u001b[?25ldone\n",
      "\u001b[?25h  Created wheel for pyedgar: filename=pyedgar-0.1.5-py3-none-any.whl size=44711 sha256=f7b02a9a9f00781cbb303f27f65a812aa2dfe0276a855263c048b00b478ca884\n",
      "  Stored in directory: /root/.cache/pip/wheels/c7/90/6a/6eaceb342a838c3ac6c0860c808568e56044763793712fc061\n",
      "Successfully built pyedgar\n",
      "Installing collected packages: pyedgar\n",
      "Successfully installed pyedgar-0.1.5\n"
     ]
    }
   ],
   "source": [
    "!pip install pyedgar"
   ]
  },
  {
   "cell_type": "code",
   "execution_count": 27,
   "metadata": {},
   "outputs": [
    {
     "name": "stdout",
     "output_type": "stream",
     "text": [
      "<EDGAR filing (1131181/0001131181-20-000005) Headers:False, Text:False, Documents:False>\n"
     ]
    }
   ],
   "source": [
    "from pyedgar import Filing\n",
    "# f = Filing(cik=1477333, accession='0001628280-20-012347')\n",
    "f = Filing(cik=1131181, accession=\"0001131181-20-000005\")\n",
    "print(f)"
   ]
  },
  {
   "cell_type": "code",
   "execution_count": 35,
   "metadata": {},
   "outputs": [
    {
     "name": "stdout",
     "output_type": "stream",
     "text": [
      "2\n"
     ]
    }
   ],
   "source": [
    "from bs4 import BeautifulSoup\n",
    "print(len(f.documents))\n",
    "soup = BeautifulSoup(f.documents[1]['full_text'], 'lxml-xml')"
   ]
  },
  {
   "cell_type": "code",
   "execution_count": 49,
   "metadata": {},
   "outputs": [
    {
     "data": {
      "text/plain": [
       "['\\n',\n",
       " <ns1:nameOfIssuer>ALIBABA GROUP HLDG LTD</ns1:nameOfIssuer>,\n",
       " '\\n',\n",
       " <ns1:titleOfClass>SPONSORED ADS</ns1:titleOfClass>,\n",
       " '\\n',\n",
       " <ns1:cusip>01609W102</ns1:cusip>,\n",
       " '\\n',\n",
       " <ns1:value>5107</ns1:value>,\n",
       " '\\n',\n",
       " <ns1:shrsOrPrnAmt>\n",
       " <ns1:sshPrnamt>23681</ns1:sshPrnamt>\n",
       " <ns1:sshPrnamtType>SH</ns1:sshPrnamtType>\n",
       " </ns1:shrsOrPrnAmt>,\n",
       " '\\n',\n",
       " <ns1:investmentDiscretion>SOLE</ns1:investmentDiscretion>,\n",
       " '\\n',\n",
       " <ns1:votingAuthority>\n",
       " <ns1:Sole>0</ns1:Sole>\n",
       " <ns1:Shared>0</ns1:Shared>\n",
       " <ns1:None>23681</ns1:None>\n",
       " </ns1:votingAuthority>,\n",
       " '\\n']"
      ]
     },
     "execution_count": 49,
     "metadata": {},
     "output_type": "execute_result"
    }
   ],
   "source": [
    "list(soup.find('infoTable').children)"
   ]
  },
  {
   "cell_type": "code",
   "execution_count": 15,
   "metadata": {},
   "outputs": [],
   "source": [
    "# print(f.type, f)\n",
    "# print(len(f.documents))\n",
    "# f.urls\n",
    "# f.documents[70]\n",
    "import json\n",
    "\n",
    "for d in f.documents:\n",
    "    if d['type'] == 'JSON':\n",
    "        j = json.loads(d['full_text'])\n",
    "        break "
   ]
  },
  {
   "cell_type": "code",
   "execution_count": 26,
   "metadata": {},
   "outputs": [
    {
     "data": {
      "text/plain": [
       "{'firstAnchor': {'ancestors': ['span',\n",
       "   'td',\n",
       "   'tr',\n",
       "   'table',\n",
       "   'div',\n",
       "   'body',\n",
       "   'html'],\n",
       "  'baseRef': 'cloud-20200630.htm',\n",
       "  'contextRef': 'i695c9105f12241a9aa9f4d469bd4a9b3_I20200630',\n",
       "  'decimals': '-3',\n",
       "  'first': True,\n",
       "  'lang': 'en-US',\n",
       "  'name': 'us-gaap:CashAndCashEquivalentsAtCarryingValue',\n",
       "  'reportCount': 1,\n",
       "  'unitRef': 'usd',\n",
       "  'xsiNil': 'false'},\n",
       " 'groupType': 'statement',\n",
       " 'isDefault': 'false',\n",
       " 'longName': '1001002 - Statement - CONDENSED CONSOLIDATED BALANCE SHEETS',\n",
       " 'role': 'http://www.cloudflare.com/role/CONDENSEDCONSOLIDATEDBALANCESHEETS',\n",
       " 'shortName': 'CONDENSED CONSOLIDATED BALANCE SHEETS',\n",
       " 'subGroupType': '',\n",
       " 'uniqueAnchor': {'ancestors': ['span',\n",
       "   'td',\n",
       "   'tr',\n",
       "   'table',\n",
       "   'div',\n",
       "   'body',\n",
       "   'html'],\n",
       "  'baseRef': 'cloud-20200630.htm',\n",
       "  'contextRef': 'i695c9105f12241a9aa9f4d469bd4a9b3_I20200630',\n",
       "  'decimals': '-3',\n",
       "  'lang': 'en-US',\n",
       "  'name': 'us-gaap:AvailableForSaleSecuritiesDebtSecuritiesCurrent',\n",
       "  'reportCount': 1,\n",
       "  'unique': True,\n",
       "  'unitRef': 'usd',\n",
       "  'xsiNil': 'false'}}"
      ]
     },
     "execution_count": 26,
     "metadata": {},
     "output_type": "execute_result"
    }
   ],
   "source": [
    "# j['R1']\n",
    "j['instance']['cloud-20200630.htm']['report']['R2']"
   ]
  },
  {
   "cell_type": "code",
   "execution_count": 5,
   "metadata": {},
   "outputs": [],
   "source": [
    "import json\n",
    "p = \"/workspace/entity_knowledge_in_bert/app/downloads/symbols.json\"\n",
    "with open(p) as f:\n",
    "    j = json.load(f)"
   ]
  },
  {
   "cell_type": "code",
   "execution_count": 10,
   "metadata": {},
   "outputs": [
    {
     "name": "stdout",
     "output_type": "stream",
     "text": [
      "{'symbol': 'AGBAR', 'exchange': 'NAS', 'name': 'AGBA Acquisition Ltd Rights For Shares', 'date': '2020-10-17', 'type': 'rt', 'iexId': 'IEX_4A485A464D572D52', 'region': 'US', 'currency': 'USD', 'isEnabled': True, 'figi': 'BBG00PPX10R3', 'cik': '1769624'}\n",
      "{'symbol': 'ALACR', 'exchange': 'NAS', 'name': 'Alberton Acquisition Corp Rights For Shares', 'date': '2020-10-17', 'type': 'rt', 'iexId': 'IEX_47384B3042522D52', 'region': 'US', 'currency': 'USD', 'isEnabled': True, 'figi': 'BBG00MMCKZC7', 'cik': '1748621'}\n",
      "{'symbol': 'ANDAR', 'exchange': 'NAS', 'name': 'Andina Acquisition Corp. III Rights For Shares', 'date': '2020-10-17', 'type': 'rt', 'iexId': 'IEX_56583931534E2D52', 'region': 'US', 'currency': 'USD', 'isEnabled': True, 'figi': 'BBG00NJ41KD0', 'cik': '1691936'}\n",
      "{'symbol': 'BMY^', 'exchange': 'NYS', 'name': 'Bristol-Myers Squibb Company Contingent Value Rights 2019-31.12.2020', 'date': '2020-10-17', 'type': 'rt', 'iexId': 'IEX_484A4E484B432D52', 'region': 'US', 'currency': 'USD', 'isEnabled': True, 'figi': 'BBG00QXKC8R1', 'cik': None}\n",
      "{'symbol': 'BRLIR', 'exchange': 'NAS', 'name': 'Brilliant Acquisition Corporation Rights For Shares', 'date': '2020-10-17', 'type': 'rt', 'iexId': 'IEX_42314C5034302D52', 'region': 'US', 'currency': 'USD', 'isEnabled': True, 'figi': 'BBG00W6WBQ84', 'cik': None}\n",
      "{'symbol': 'BRPAR', 'exchange': 'NAS', 'name': 'Big Rock Partners Acquisition Corp Rights 2017', 'date': '2020-10-17', 'type': 'rt', 'iexId': 'IEX_483050305A532D52', 'region': 'US', 'currency': 'USD', 'isEnabled': True, 'figi': 'BBG00JCWDJQ0', 'cik': None}\n",
      "{'symbol': 'CELG^', 'exchange': 'NYS', 'name': 'Bristol-Myers Squibb Company Contingent Value Rights 2019-31.12.2030', 'date': '2020-10-17', 'type': 'rt', 'iexId': 'IEX_5131533348482D52', 'region': 'US', 'currency': 'USD', 'isEnabled': True, 'figi': 'BBG001732JG2', 'cik': None}\n",
      "{'symbol': 'ESSCR', 'exchange': 'NAS', 'name': 'East Stone Acquisition Corp. Rights For Shares', 'date': '2020-10-17', 'type': 'rt', 'iexId': 'IEX_5256385238442D52', 'region': 'US', 'currency': 'USD', 'isEnabled': True, 'figi': 'BBG00SJ5C2D4', 'cik': None}\n",
      "{'symbol': 'GIX^', 'exchange': 'NYS', 'name': 'GigCapital2 Inc Rights 2019- For Shares', 'date': '2020-10-17', 'type': 'rt', 'iexId': 'IEX_4D365A5759332D52', 'region': 'US', 'currency': 'USD', 'isEnabled': True, 'figi': 'BBG00PKRT368', 'cik': None}\n",
      "{'symbol': 'GRNVR', 'exchange': 'NAS', 'name': 'GreenVision Acquisition Corp Rights 2019-01.06.21 For Shares', 'date': '2020-10-17', 'type': 'rt', 'iexId': 'IEX_5447444235382D52', 'region': 'US', 'currency': 'USD', 'isEnabled': True, 'figi': 'BBG00R1VYY08', 'cik': None}\n",
      "{'symbol': 'HCCHR', 'exchange': 'NAS', 'name': 'HL Acquisitions Corp. Rights', 'date': '2020-10-17', 'type': 'rt', 'iexId': 'IEX_4734505738322D52', 'region': 'US', 'currency': 'USD', 'isEnabled': True, 'figi': 'BBG00LG330W0', 'cik': '1736874'}\n",
      "{'symbol': 'KBLMR', 'exchange': 'NAS', 'name': 'KBL Merger Corp. IV Rights 2019-09.04.20 For Shares Ext Until 09.11.20', 'date': '2020-10-17', 'type': 'rt', 'iexId': 'IEX_47563148325A2D52', 'region': 'US', 'currency': 'USD', 'isEnabled': True, 'figi': 'BBG00H1CP2Q4', 'cik': None}\n",
      "{'symbol': 'LOACR', 'exchange': 'NAS', 'name': 'Longevity Acquisition Corp Rights For Shares', 'date': '2020-10-17', 'type': 'rt', 'iexId': 'IEX_42374C474D4A2D52', 'region': 'US', 'currency': 'USD', 'isEnabled': True, 'figi': 'BBG00M7W43Y5', 'cik': '1743858'}\n",
      "{'symbol': 'MCACR', 'exchange': 'NAS', 'name': 'Mountain Crest Acquisition Corp. Rights 2020-19.03.25 For Shares', 'date': '2020-10-17', 'type': 'rt', 'iexId': 'IEX_43543046335A2D52', 'region': 'US', 'currency': 'USD', 'isEnabled': True, 'figi': 'BBG00W0HPHG9', 'cik': None}\n",
      "{'symbol': 'NBACR', 'exchange': 'NAS', 'name': 'Newborn Aquisition Corporation Rights -for Shares', 'date': '2020-10-17', 'type': 'rt', 'iexId': 'IEX_4652395646382D52', 'region': 'US', 'currency': 'USD', 'isEnabled': True, 'figi': 'BBG00TJHJ2V9', 'cik': None}\n",
      "{'symbol': 'ORSNR', 'exchange': 'NAS', 'name': 'Orisun Acquisition Corp Rights 2019-05.05.21 For Shares', 'date': '2020-10-17', 'type': 'rt', 'iexId': 'IEX_4B57353543522D52', 'region': 'US', 'currency': 'USD', 'isEnabled': True, 'figi': 'BBG00QS5ND42', 'cik': None}\n",
      "{'symbol': 'RIV^', 'exchange': 'NYS', 'name': 'RiverNorth Opportunities Fund Inc. Rights 2020-03.11.20 For Shares', 'date': '2020-10-17', 'type': 'rt', 'iexId': 'IEX_4433393931302D52', 'region': 'US', 'currency': 'USD', 'isEnabled': True, 'figi': 'BBG00XK4GF05', 'cik': None}\n",
      "{'symbol': 'TOTAR', 'exchange': 'NAS', 'name': 'Tottenham Acquisition I Ltd Rights For Shares', 'date': '2020-10-17', 'type': 'rt', 'iexId': 'IEX_4433394244422D52', 'region': 'US', 'currency': 'USD', 'isEnabled': True, 'figi': 'BBG00LV0X8F8', 'cik': '1731176'}\n",
      "{'symbol': 'ZGYHR', 'exchange': 'NAS', 'name': 'Yunhong International Rights For Shares', 'date': '2020-10-17', 'type': 'rt', 'iexId': 'IEX_46564E534E542D52', 'region': 'US', 'currency': 'USD', 'isEnabled': True, 'figi': 'BBG00SYQ6YM8', 'cik': None}\n"
     ]
    }
   ],
   "source": [
    "for e in j:\n",
    "    if e['type'] == 'rt':\n",
    "        print(e)"
   ]
  },
  {
   "cell_type": "code",
   "execution_count": 3,
   "metadata": {},
   "outputs": [
    {
     "name": "stdout",
     "output_type": "stream",
     "text": [
      "Q31 Belgium\n",
      "Q31 Belgium\n"
     ]
    }
   ],
   "source": [
    "import json\n",
    "from qwikidata.entity import WikidataItem\n",
    "from qwikidata.json_dump import WikidataJsonDump\n",
    "from qwikidata.utils import dump_entities_to_json\n",
    "\n",
    "dump_path = \"/workspace/entity_knowledge_in_bert/app/downloads/latest-all.json.bz2\"\n",
    "\n",
    "for i, entity_dict in enumerate(WikidataJsonDump(dump_path)):\n",
    "    if entity_dict[\"type\"] == \"item\":\n",
    "        e = WikidataItem(entity_dict)\n",
    "        print(e.entity_id, e.get_enwiki_title())\n",
    "#         print(json.dumps(e._entity_dict))\n",
    "        dumped = json.dumps(e._entity_dict)\n",
    "        break\n",
    "\n",
    "j = json.loads(dumped)\n",
    "e = WikidataItem(entity_dict)\n",
    "print(e.entity_id, e.get_enwiki_title())"
   ]
  },
  {
   "cell_type": "code",
   "execution_count": 5,
   "metadata": {},
   "outputs": [
    {
     "name": "stdout",
     "output_type": "stream",
     "text": [
      "[3]\n",
      "[]\n"
     ]
    }
   ],
   "source": [
    "a = [1,2,3]\n",
    "f = filter(lambda e: e > 2, a)\n",
    "print([e for e in f])\n",
    "print([e for e in f])"
   ]
  }
 ],
 "metadata": {
  "kernelspec": {
   "display_name": "Python 3",
   "language": "python",
   "name": "python3"
  },
  "language_info": {
   "codemirror_mode": {
    "name": "ipython",
    "version": 3
   },
   "file_extension": ".py",
   "mimetype": "text/x-python",
   "name": "python",
   "nbconvert_exporter": "python",
   "pygments_lexer": "ipython3",
   "version": "3.7.7"
  }
 },
 "nbformat": 4,
 "nbformat_minor": 4
}
